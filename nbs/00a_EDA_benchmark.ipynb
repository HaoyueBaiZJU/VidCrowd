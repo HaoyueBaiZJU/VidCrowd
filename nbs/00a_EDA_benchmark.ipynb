{
 "cells": [
  {
   "cell_type": "code",
   "execution_count": 1,
   "metadata": {},
   "outputs": [],
   "source": [
    "import torch\n",
    "import os\n",
    "from datetime import datetime\n",
    "import time\n",
    "import random\n",
    "import cv2\n",
    "import pandas as pd\n",
    "import numpy as np\n",
    "import albumentations as A\n",
    "import matplotlib.pyplot as plt\n",
    "from albumentations.pytorch.transforms import ToTensorV2\n",
    "from sklearn.model_selection import StratifiedKFold\n",
    "from torch.utils.data import Dataset,DataLoader\n",
    "from torch.utils.data.sampler import SequentialSampler, RandomSampler\n",
    "\n",
    "from scipy.io import loadmat\n",
    "import pandas as pd\n",
    "from glob import glob\n",
    "\n",
    "import json\n",
    "from pathlib import Path\n",
    "\n",
    "SEED = 42\n",
    "\n",
    "def seed_everything(seed):\n",
    "    random.seed(seed)\n",
    "    os.environ['PYTHONHASHSEED'] = str(seed)\n",
    "    np.random.seed(seed)\n",
    "    torch.manual_seed(seed)\n",
    "    torch.cuda.manual_seed(seed)\n",
    "    torch.backends.cudnn.deterministic = True\n",
    "    torch.backends.cudnn.benchmark = True\n",
    "\n",
    "seed_everything(SEED)"
   ]
  },
  {
   "cell_type": "code",
   "execution_count": 5,
   "metadata": {},
   "outputs": [],
   "source": [
    "path = '/home/heye0507/drone/drone_benchmark/data/benchmark'\n",
    "train_images = path + '/images'\n",
    "test_images = path + '/test_images'\n",
    "anno = path + '/annotation'"
   ]
  },
  {
   "cell_type": "code",
   "execution_count": 14,
   "metadata": {},
   "outputs": [
    {
     "data": {
      "text/plain": [
       "['/home/heye0507/drone/drone_benchmark/data/benchmark/annotation/s4/',\n",
       " '/home/heye0507/drone/drone_benchmark/data/benchmark/annotation/s8/',\n",
       " '/home/heye0507/drone/drone_benchmark/data/benchmark/annotation/s5/',\n",
       " '/home/heye0507/drone/drone_benchmark/data/benchmark/annotation/s14/',\n",
       " '/home/heye0507/drone/drone_benchmark/data/benchmark/annotation/s20/',\n",
       " '/home/heye0507/drone/drone_benchmark/data/benchmark/annotation/s9/',\n",
       " '/home/heye0507/drone/drone_benchmark/data/benchmark/annotation/s15/',\n",
       " '/home/heye0507/drone/drone_benchmark/data/benchmark/annotation/s2/',\n",
       " '/home/heye0507/drone/drone_benchmark/data/benchmark/annotation/s18/',\n",
       " '/home/heye0507/drone/drone_benchmark/data/benchmark/annotation/s11/',\n",
       " '/home/heye0507/drone/drone_benchmark/data/benchmark/annotation/s7/',\n",
       " '/home/heye0507/drone/drone_benchmark/data/benchmark/annotation/s6/',\n",
       " '/home/heye0507/drone/drone_benchmark/data/benchmark/annotation/s1/',\n",
       " '/home/heye0507/drone/drone_benchmark/data/benchmark/annotation/s16/',\n",
       " '/home/heye0507/drone/drone_benchmark/data/benchmark/annotation/s17/',\n",
       " '/home/heye0507/drone/drone_benchmark/data/benchmark/annotation/s12/',\n",
       " '/home/heye0507/drone/drone_benchmark/data/benchmark/annotation/s19/',\n",
       " '/home/heye0507/drone/drone_benchmark/data/benchmark/annotation/s13/',\n",
       " '/home/heye0507/drone/drone_benchmark/data/benchmark/annotation/s3/',\n",
       " '/home/heye0507/drone/drone_benchmark/data/benchmark/annotation/s10/']"
      ]
     },
     "execution_count": 14,
     "metadata": {},
     "output_type": "execute_result"
    }
   ],
   "source": [
    "glob(anno+'/*/')"
   ]
  },
  {
   "cell_type": "code",
   "execution_count": 9,
   "metadata": {},
   "outputs": [],
   "source": [
    "mat = loadmat(anno+'/s1/01_001.mat')"
   ]
  },
  {
   "cell_type": "code",
   "execution_count": 12,
   "metadata": {},
   "outputs": [
    {
     "data": {
      "text/plain": [
       "{'__header__': b'MATLAB 5.0 MAT-file Platform: nt, Created on: Thu Apr 23 19:02:31 2020',\n",
       " '__version__': '1.0',\n",
       " '__globals__': [],\n",
       " 'annotation': array([[ 555.4731336 , 1343.43111468],\n",
       "        [ 573.92443779, 1365.15603736],\n",
       "        [ 626.89753694, 1346.70473316],\n",
       "        [ 556.74665182, 1217.70183471],\n",
       "        [ 918.70876538, 1060.32176019],\n",
       "        [ 970.97277673, 1261.2452923 ],\n",
       "        [1080.66094013, 1122.39441255],\n",
       "        [1116.25126906, 1012.40782087],\n",
       "        [1055.83755592,  948.68743063],\n",
       "        [ 968.47918099,  857.94570408],\n",
       "        [1108.70915926,  854.78972652],\n",
       "        [ 969.62349933,  794.56930202],\n",
       "        [ 988.46609361,  793.26337964],\n",
       "        [1014.77110148,  788.97249183],\n",
       "        [1017.00982555,  763.78684601],\n",
       "        [ 992.94354176,  758.93627718],\n",
       "        [1113.37642879,  765.58834318],\n",
       "        [1062.68370999,  733.81859133],\n",
       "        [1106.95303634,  718.71493882],\n",
       "        [1040.63584942,  702.91686549],\n",
       "        [1167.3676464 ,  723.57588445],\n",
       "        [1058.00134307,  649.45822675],\n",
       "        [1074.89385924,  611.61666014],\n",
       "        [1050.52354139,  596.36555801],\n",
       "        [1076.46613781,  584.88792444],\n",
       "        [1097.53467066,  582.52950658],\n",
       "        [1169.13653176,  673.26733623],\n",
       "        [1176.99912417,  642.22017649],\n",
       "        [1153.41134696,  634.76079395],\n",
       "        [1164.29801336,  575.69054847],\n",
       "        [1174.64832733,  524.4759159 ],\n",
       "        [1192.67089829,  501.02719455],\n",
       "        [2032.82066588, 1423.95686596],\n",
       "        [2104.35739202, 1249.16596573],\n",
       "        [2067.84657411, 1204.15493542],\n",
       "        [2046.41925311, 1204.15493542],\n",
       "        [1965.60421572, 1073.92271655],\n",
       "        [1887.87632513, 1066.99022901],\n",
       "        [1791.40605208, 1035.86513215],\n",
       "        [1780.44411502,  973.41664387],\n",
       "        [1737.36368218,  980.17744172],\n",
       "        [1862.29840417,  875.71419581],\n",
       "        [1662.32088057,  791.37686672],\n",
       "        [1764.21638934,  733.17480691],\n",
       "        [1747.74414706,  723.09767046],\n",
       "        [1737.86080169,  713.02053401],\n",
       "        [1753.17029746,  711.8577875 ],\n",
       "        [1536.5068169 ,  754.0178597 ],\n",
       "        [1708.33804187,  655.06647076],\n",
       "        [1684.48180541,  606.72247048],\n",
       "        [1648.4303689 ,  599.34422936],\n",
       "        [1564.05953912,  591.86941989],\n",
       "        [1447.83286014,  441.67254289],\n",
       "        [1463.34966438,  470.40736555],\n",
       "        [1896.4092923 , 1170.78617045],\n",
       "        [ 692.33236266, 1442.56915206],\n",
       "        [ 746.16186199, 1420.62327926]])}"
      ]
     },
     "execution_count": 12,
     "metadata": {},
     "output_type": "execute_result"
    }
   ],
   "source": [
    "mat"
   ]
  },
  {
   "cell_type": "code",
   "execution_count": 11,
   "metadata": {},
   "outputs": [
    {
     "data": {
      "text/plain": [
       "array([[ 555.4731336 , 1343.43111468],\n",
       "       [ 573.92443779, 1365.15603736],\n",
       "       [ 626.89753694, 1346.70473316],\n",
       "       [ 556.74665182, 1217.70183471],\n",
       "       [ 918.70876538, 1060.32176019],\n",
       "       [ 970.97277673, 1261.2452923 ],\n",
       "       [1080.66094013, 1122.39441255],\n",
       "       [1116.25126906, 1012.40782087],\n",
       "       [1055.83755592,  948.68743063],\n",
       "       [ 968.47918099,  857.94570408],\n",
       "       [1108.70915926,  854.78972652],\n",
       "       [ 969.62349933,  794.56930202],\n",
       "       [ 988.46609361,  793.26337964],\n",
       "       [1014.77110148,  788.97249183],\n",
       "       [1017.00982555,  763.78684601],\n",
       "       [ 992.94354176,  758.93627718],\n",
       "       [1113.37642879,  765.58834318],\n",
       "       [1062.68370999,  733.81859133],\n",
       "       [1106.95303634,  718.71493882],\n",
       "       [1040.63584942,  702.91686549],\n",
       "       [1167.3676464 ,  723.57588445],\n",
       "       [1058.00134307,  649.45822675],\n",
       "       [1074.89385924,  611.61666014],\n",
       "       [1050.52354139,  596.36555801],\n",
       "       [1076.46613781,  584.88792444],\n",
       "       [1097.53467066,  582.52950658],\n",
       "       [1169.13653176,  673.26733623],\n",
       "       [1176.99912417,  642.22017649],\n",
       "       [1153.41134696,  634.76079395],\n",
       "       [1164.29801336,  575.69054847],\n",
       "       [1174.64832733,  524.4759159 ],\n",
       "       [1192.67089829,  501.02719455],\n",
       "       [2032.82066588, 1423.95686596],\n",
       "       [2104.35739202, 1249.16596573],\n",
       "       [2067.84657411, 1204.15493542],\n",
       "       [2046.41925311, 1204.15493542],\n",
       "       [1965.60421572, 1073.92271655],\n",
       "       [1887.87632513, 1066.99022901],\n",
       "       [1791.40605208, 1035.86513215],\n",
       "       [1780.44411502,  973.41664387],\n",
       "       [1737.36368218,  980.17744172],\n",
       "       [1862.29840417,  875.71419581],\n",
       "       [1662.32088057,  791.37686672],\n",
       "       [1764.21638934,  733.17480691],\n",
       "       [1747.74414706,  723.09767046],\n",
       "       [1737.86080169,  713.02053401],\n",
       "       [1753.17029746,  711.8577875 ],\n",
       "       [1536.5068169 ,  754.0178597 ],\n",
       "       [1708.33804187,  655.06647076],\n",
       "       [1684.48180541,  606.72247048],\n",
       "       [1648.4303689 ,  599.34422936],\n",
       "       [1564.05953912,  591.86941989],\n",
       "       [1447.83286014,  441.67254289],\n",
       "       [1463.34966438,  470.40736555],\n",
       "       [1896.4092923 , 1170.78617045],\n",
       "       [ 692.33236266, 1442.56915206],\n",
       "       [ 746.16186199, 1420.62327926]])"
      ]
     },
     "execution_count": 11,
     "metadata": {},
     "output_type": "execute_result"
    }
   ],
   "source": [
    "mat['annotation']"
   ]
  },
  {
   "cell_type": "code",
   "execution_count": null,
   "metadata": {},
   "outputs": [],
   "source": []
  },
  {
   "cell_type": "code",
   "execution_count": null,
   "metadata": {},
   "outputs": [],
   "source": []
  }
 ],
 "metadata": {
  "kernelspec": {
   "display_name": "Python 3",
   "language": "python",
   "name": "python3"
  },
  "language_info": {
   "codemirror_mode": {
    "name": "ipython",
    "version": 3
   },
   "file_extension": ".py",
   "mimetype": "text/x-python",
   "name": "python",
   "nbconvert_exporter": "python",
   "pygments_lexer": "ipython3",
   "version": "3.7.8"
  }
 },
 "nbformat": 4,
 "nbformat_minor": 4
}
