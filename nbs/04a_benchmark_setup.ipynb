{
 "cells": [
  {
   "cell_type": "code",
   "execution_count": 1,
   "metadata": {},
   "outputs": [],
   "source": [
    "import torch\n",
    "import os\n",
    "from datetime import datetime\n",
    "import time\n",
    "import random\n",
    "import cv2\n",
    "import pandas as pd\n",
    "import numpy as np\n",
    "import albumentations as A\n",
    "import matplotlib.pyplot as plt\n",
    "from albumentations.pytorch.transforms import ToTensorV2\n",
    "from sklearn.model_selection import StratifiedKFold\n",
    "from torch.utils.data import Dataset,DataLoader\n",
    "from torch.utils.data.sampler import SequentialSampler, RandomSampler\n",
    "\n",
    "import pandas as pd\n",
    "from glob import glob\n",
    "\n",
    "import json\n",
    "from pathlib import Path\n",
    "\n",
    "import scipy\n",
    "import scipy.io as io\n",
    "import pickle\n",
    "from scipy.ndimage.filters import gaussian_filter\n",
    "\n",
    "from os.path import isfile\n",
    "from joblib import Parallel, delayed\n",
    "import psutil\n",
    "\n",
    "from tqdm import tqdm\n",
    "\n",
    "SEED = 42\n",
    "\n",
    "def seed_everything(seed):\n",
    "    random.seed(seed)\n",
    "    os.environ['PYTHONHASHSEED'] = str(seed)\n",
    "    np.random.seed(seed)\n",
    "    torch.manual_seed(seed)\n",
    "    torch.cuda.manual_seed(seed)\n",
    "    torch.backends.cudnn.deterministic = True\n",
    "    torch.backends.cudnn.benchmark = True\n",
    "\n",
    "seed_everything(SEED)"
   ]
  },
  {
   "cell_type": "code",
   "execution_count": 2,
   "metadata": {},
   "outputs": [],
   "source": [
    "path = '/home/heye0507/drone/drone_benchmark/data/benchmark'\n",
    "train_images = path + '/images'\n",
    "test_images = path + '/test_images'\n",
    "anno = path + '/annotation'\n",
    "density_maps = path + '/dmaps'"
   ]
  },
  {
   "cell_type": "code",
   "execution_count": 3,
   "metadata": {},
   "outputs": [],
   "source": [
    "def expand_path(p):\n",
    "    fn = p.split('/')[-1].split('.')[0]\n",
    "    if isfile(train_images + '/' + fn + '.jpg'): \n",
    "        return train_images + '/' + fn + '.jpg'\n",
    "    elif isfile(test_images + '/' + fn + '.jpg'):\n",
    "        return test_images + '/' + fn + '.jpg'\n",
    "    return p\n",
    "\n",
    "def open_image(p):\n",
    "    image = cv2.imread(p)\n",
    "    image = cv2.cvtColor(image,cv2.COLOR_BGR2RGB).astype(np.float32)\n",
    "    image /= 255.\n",
    "    return image\n",
    "\n",
    "def get_density_map(p,test=False):\n",
    "    image_file_p = expand_path(p)\n",
    "    if image_file_p != p:\n",
    "        dmap_p = image_file_p.split('/')[-1].split('.')[0]\n",
    "        dmap_p = density_maps + '/' + dmap_p + '.npy'\n",
    "        if isfile(dmap_p):\n",
    "            return\n",
    "        mat = io.loadmat(p)\n",
    "        points = mat['annotation'].astype(int)\n",
    "        image_shape = cv2.imread(image_file_p).shape[:2]\n",
    "        if test: \n",
    "            density_map = None\n",
    "        else:\n",
    "            density_map = gaussian_filter_density(image_shape,points)\n",
    "            #dmap_p = image_file_p.split('/')[-1].split('.')[0]\n",
    "            #dmap_p = density_maps + '/' + dmap_p + '.npy'\n",
    "            np.save(dmap_p,density_map)\n",
    "    else:\n",
    "        density_map = None\n",
    "        return p"
   ]
  },
  {
   "cell_type": "code",
   "execution_count": 9,
   "metadata": {},
   "outputs": [
    {
     "name": "stderr",
     "output_type": "stream",
     "text": [
      "100%|██████████| 9818/9818 [00:00<00:00, 101972.55it/s]\n"
     ]
    }
   ],
   "source": [
    "fns = []\n",
    "for fp in tqdm(glob(anno+'/*/*.mat'), total=len(glob(anno+'/*/*.mat'))):\n",
    "    fn = get_density_map(fp)\n",
    "    if fn:\n",
    "        fns.append(fn)"
   ]
  },
  {
   "cell_type": "code",
   "execution_count": 21,
   "metadata": {},
   "outputs": [],
   "source": [
    "with open(path+'/missing.txt','w') as f:\n",
    "    for fn in fns:\n",
    "        f.write(('/').join(fn.split('/')[-2:]) + '\\n')"
   ]
  },
  {
   "cell_type": "code",
   "execution_count": 20,
   "metadata": {},
   "outputs": [
    {
     "data": {
      "text/plain": [
       "'s15/2541.mat\\n'"
      ]
     },
     "execution_count": 20,
     "metadata": {},
     "output_type": "execute_result"
    }
   ],
   "source": [
    "('/').join(fn.split('/')[-2:]) + f'\\n'"
   ]
  },
  {
   "cell_type": "code",
   "execution_count": 4,
   "metadata": {},
   "outputs": [],
   "source": [
    "def check_files(fp):\n",
    "    try:\n",
    "        img = np.load(fp)\n",
    "    except:\n",
    "        return fp"
   ]
  },
  {
   "cell_type": "code",
   "execution_count": 5,
   "metadata": {},
   "outputs": [
    {
     "name": "stderr",
     "output_type": "stream",
     "text": [
      "[Parallel(n_jobs=2)]: Using backend LokyBackend with 2 concurrent workers.\n",
      "[Parallel(n_jobs=2)]: Done   1 tasks      | elapsed:    0.5s\n",
      "[Parallel(n_jobs=2)]: Done   4 tasks      | elapsed:    0.6s\n",
      "[Parallel(n_jobs=2)]: Done   9 tasks      | elapsed:    0.6s\n",
      "[Parallel(n_jobs=2)]: Batch computation too fast (0.1685s.) Setting batch_size=2.\n",
      "[Parallel(n_jobs=2)]: Done  14 tasks      | elapsed:    0.7s\n",
      "[Parallel(n_jobs=2)]: Batch computation too fast (0.0385s.) Setting batch_size=4.\n",
      "[Parallel(n_jobs=2)]: Batch computation too fast (0.0477s.) Setting batch_size=8.\n",
      "[Parallel(n_jobs=2)]: Done  34 tasks      | elapsed:    0.8s\n",
      "[Parallel(n_jobs=2)]: Batch computation too fast (0.0941s.) Setting batch_size=16.\n",
      "[Parallel(n_jobs=2)]: Batch computation too fast (0.1992s.) Setting batch_size=32.\n",
      "[Parallel(n_jobs=2)]: Done 102 tasks      | elapsed:    1.1s\n",
      "[Parallel(n_jobs=2)]: Done 358 tasks      | elapsed:    2.1s\n",
      "[Parallel(n_jobs=2)]: Batch computation too slow (2.6111s.) Setting batch_size=4.\n",
      "[Parallel(n_jobs=2)]: Done 646 tasks      | elapsed:   20.8s\n",
      "[Parallel(n_jobs=2)]: Batch computation too slow (19.6798s.) Setting batch_size=1.\n",
      "[Parallel(n_jobs=2)]: Done 731 tasks      | elapsed:   42.4s\n",
      "[Parallel(n_jobs=2)]: Done 742 tasks      | elapsed:   45.2s\n",
      "[Parallel(n_jobs=2)]: Done 755 tasks      | elapsed:   49.2s\n",
      "[Parallel(n_jobs=2)]: Done 768 tasks      | elapsed:   52.7s\n",
      "[Parallel(n_jobs=2)]: Done 783 tasks      | elapsed:   57.2s\n",
      "[Parallel(n_jobs=2)]: Done 798 tasks      | elapsed:  1.0min\n",
      "[Parallel(n_jobs=2)]: Done 815 tasks      | elapsed:  1.1min\n",
      "[Parallel(n_jobs=2)]: Done 832 tasks      | elapsed:  1.2min\n",
      "[Parallel(n_jobs=2)]: Done 851 tasks      | elapsed:  1.3min\n",
      "[Parallel(n_jobs=2)]: Done 870 tasks      | elapsed:  1.4min\n",
      "[Parallel(n_jobs=2)]: Done 891 tasks      | elapsed:  1.5min\n",
      "[Parallel(n_jobs=2)]: Done 912 tasks      | elapsed:  1.6min\n",
      "[Parallel(n_jobs=2)]: Done 935 tasks      | elapsed:  1.7min\n",
      "[Parallel(n_jobs=2)]: Done 958 tasks      | elapsed:  1.8min\n",
      "[Parallel(n_jobs=2)]: Done 983 tasks      | elapsed:  1.9min\n",
      "[Parallel(n_jobs=2)]: Done 1008 tasks      | elapsed:  2.0min\n",
      "[Parallel(n_jobs=2)]: Done 1035 tasks      | elapsed:  2.1min\n",
      "[Parallel(n_jobs=2)]: Done 1062 tasks      | elapsed:  2.3min\n",
      "[Parallel(n_jobs=2)]: Done 1091 tasks      | elapsed:  2.4min\n",
      "[Parallel(n_jobs=2)]: Done 1120 tasks      | elapsed:  2.5min\n",
      "[Parallel(n_jobs=2)]: Done 1151 tasks      | elapsed:  2.7min\n",
      "[Parallel(n_jobs=2)]: Done 1182 tasks      | elapsed:  2.8min\n",
      "[Parallel(n_jobs=2)]: Done 1215 tasks      | elapsed:  3.0min\n",
      "[Parallel(n_jobs=2)]: Done 1248 tasks      | elapsed:  3.1min\n",
      "[Parallel(n_jobs=2)]: Done 1283 tasks      | elapsed:  3.3min\n",
      "[Parallel(n_jobs=2)]: Done 1318 tasks      | elapsed:  3.5min\n",
      "[Parallel(n_jobs=2)]: Done 1355 tasks      | elapsed:  3.7min\n",
      "[Parallel(n_jobs=2)]: Done 1392 tasks      | elapsed:  3.8min\n",
      "[Parallel(n_jobs=2)]: Done 1431 tasks      | elapsed:  4.0min\n",
      "[Parallel(n_jobs=2)]: Done 1470 tasks      | elapsed:  4.2min\n",
      "[Parallel(n_jobs=2)]: Done 1511 tasks      | elapsed:  4.4min\n",
      "[Parallel(n_jobs=2)]: Done 1552 tasks      | elapsed:  4.6min\n",
      "[Parallel(n_jobs=2)]: Done 1595 tasks      | elapsed:  4.8min\n",
      "[Parallel(n_jobs=2)]: Done 1638 tasks      | elapsed:  5.0min\n",
      "[Parallel(n_jobs=2)]: Done 1683 tasks      | elapsed:  5.2min\n",
      "[Parallel(n_jobs=2)]: Done 1728 tasks      | elapsed:  5.4min\n",
      "[Parallel(n_jobs=2)]: Done 1775 tasks      | elapsed:  5.6min\n",
      "[Parallel(n_jobs=2)]: Done 1822 tasks      | elapsed:  5.9min\n",
      "[Parallel(n_jobs=2)]: Done 1871 tasks      | elapsed:  6.1min\n",
      "[Parallel(n_jobs=2)]: Done 1920 tasks      | elapsed:  6.3min\n",
      "[Parallel(n_jobs=2)]: Done 1971 tasks      | elapsed:  6.6min\n",
      "[Parallel(n_jobs=2)]: Done 2022 tasks      | elapsed:  6.8min\n",
      "[Parallel(n_jobs=2)]: Done 2075 tasks      | elapsed:  7.1min\n",
      "[Parallel(n_jobs=2)]: Done 2128 tasks      | elapsed:  7.3min\n",
      "[Parallel(n_jobs=2)]: Done 2183 tasks      | elapsed:  7.6min\n",
      "[Parallel(n_jobs=2)]: Done 2238 tasks      | elapsed:  7.8min\n",
      "[Parallel(n_jobs=2)]: Done 2295 tasks      | elapsed:  8.1min\n",
      "[Parallel(n_jobs=2)]: Done 2352 tasks      | elapsed:  8.4min\n",
      "[Parallel(n_jobs=2)]: Done 2411 tasks      | elapsed:  8.6min\n",
      "[Parallel(n_jobs=2)]: Done 2470 tasks      | elapsed:  8.9min\n",
      "[Parallel(n_jobs=2)]: Done 2531 tasks      | elapsed:  9.2min\n",
      "[Parallel(n_jobs=2)]: Done 2592 tasks      | elapsed:  9.5min\n",
      "[Parallel(n_jobs=2)]: Done 2655 tasks      | elapsed:  9.8min\n",
      "[Parallel(n_jobs=2)]: Done 2718 tasks      | elapsed: 10.1min\n",
      "[Parallel(n_jobs=2)]: Done 2783 tasks      | elapsed: 10.4min\n",
      "[Parallel(n_jobs=2)]: Done 2848 tasks      | elapsed: 10.7min\n",
      "[Parallel(n_jobs=2)]: Done 2915 tasks      | elapsed: 11.0min\n",
      "[Parallel(n_jobs=2)]: Done 2982 tasks      | elapsed: 11.3min\n",
      "[Parallel(n_jobs=2)]: Done 3051 tasks      | elapsed: 11.7min\n",
      "[Parallel(n_jobs=2)]: Done 3120 tasks      | elapsed: 12.0min\n",
      "[Parallel(n_jobs=2)]: Done 3191 tasks      | elapsed: 12.3min\n",
      "[Parallel(n_jobs=2)]: Done 3262 tasks      | elapsed: 12.7min\n",
      "[Parallel(n_jobs=2)]: Done 3335 tasks      | elapsed: 13.0min\n",
      "[Parallel(n_jobs=2)]: Done 3408 tasks      | elapsed: 13.4min\n",
      "[Parallel(n_jobs=2)]: Done 3483 tasks      | elapsed: 13.7min\n",
      "[Parallel(n_jobs=2)]: Done 3558 tasks      | elapsed: 14.1min\n",
      "[Parallel(n_jobs=2)]: Done 3635 tasks      | elapsed: 14.4min\n",
      "[Parallel(n_jobs=2)]: Done 3712 tasks      | elapsed: 14.8min\n",
      "[Parallel(n_jobs=2)]: Done 3791 tasks      | elapsed: 15.2min\n",
      "[Parallel(n_jobs=2)]: Done 3870 tasks      | elapsed: 15.5min\n",
      "[Parallel(n_jobs=2)]: Done 3951 tasks      | elapsed: 15.9min\n",
      "[Parallel(n_jobs=2)]: Done 4032 tasks      | elapsed: 16.3min\n",
      "[Parallel(n_jobs=2)]: Done 4115 tasks      | elapsed: 16.7min\n",
      "[Parallel(n_jobs=2)]: Done 4198 tasks      | elapsed: 17.1min\n",
      "[Parallel(n_jobs=2)]: Done 4283 tasks      | elapsed: 17.5min\n",
      "[Parallel(n_jobs=2)]: Done 4368 tasks      | elapsed: 17.9min\n",
      "[Parallel(n_jobs=2)]: Done 4455 tasks      | elapsed: 18.3min\n",
      "[Parallel(n_jobs=2)]: Done 4542 tasks      | elapsed: 18.7min\n",
      "[Parallel(n_jobs=2)]: Done 4631 tasks      | elapsed: 19.1min\n",
      "[Parallel(n_jobs=2)]: Done 4720 tasks      | elapsed: 19.6min\n",
      "[Parallel(n_jobs=2)]: Done 4811 tasks      | elapsed: 20.0min\n",
      "[Parallel(n_jobs=2)]: Done 4902 tasks      | elapsed: 20.4min\n",
      "[Parallel(n_jobs=2)]: Done 4995 tasks      | elapsed: 20.9min\n",
      "[Parallel(n_jobs=2)]: Done 5088 tasks      | elapsed: 21.3min\n",
      "[Parallel(n_jobs=2)]: Done 5183 tasks      | elapsed: 21.7min\n",
      "[Parallel(n_jobs=2)]: Done 5278 tasks      | elapsed: 22.2min\n",
      "[Parallel(n_jobs=2)]: Done 5375 tasks      | elapsed: 22.7min\n",
      "[Parallel(n_jobs=2)]: Done 5472 tasks      | elapsed: 23.1min\n",
      "[Parallel(n_jobs=2)]: Done 5571 tasks      | elapsed: 23.6min\n",
      "[Parallel(n_jobs=2)]: Done 5670 tasks      | elapsed: 24.0min\n",
      "[Parallel(n_jobs=2)]: Done 5771 tasks      | elapsed: 24.5min\n",
      "[Parallel(n_jobs=2)]: Done 5872 tasks      | elapsed: 25.0min\n",
      "[Parallel(n_jobs=2)]: Done 5975 tasks      | elapsed: 25.5min\n",
      "[Parallel(n_jobs=2)]: Done 6078 tasks      | elapsed: 26.0min\n",
      "[Parallel(n_jobs=2)]: Done 6183 tasks      | elapsed: 26.5min\n",
      "[Parallel(n_jobs=2)]: Done 6288 tasks      | elapsed: 27.0min\n",
      "[Parallel(n_jobs=2)]: Done 6395 tasks      | elapsed: 27.5min\n",
      "[Parallel(n_jobs=2)]: Done 6502 tasks      | elapsed: 28.0min\n",
      "[Parallel(n_jobs=2)]: Done 6611 tasks      | elapsed: 28.5min\n",
      "[Parallel(n_jobs=2)]: Done 6720 tasks      | elapsed: 29.0min\n",
      "[Parallel(n_jobs=2)]: Done 6831 tasks      | elapsed: 29.5min\n",
      "[Parallel(n_jobs=2)]: Done 6942 tasks      | elapsed: 30.1min\n",
      "[Parallel(n_jobs=2)]: Done 7055 tasks      | elapsed: 30.6min\n",
      "[Parallel(n_jobs=2)]: Done 7168 tasks      | elapsed: 31.1min\n",
      "[Parallel(n_jobs=2)]: Done 7283 tasks      | elapsed: 31.7min\n",
      "[Parallel(n_jobs=2)]: Done 7398 tasks      | elapsed: 32.2min\n",
      "[Parallel(n_jobs=2)]: Done 7515 tasks      | elapsed: 32.8min\n",
      "[Parallel(n_jobs=2)]: Done 7632 tasks      | elapsed: 33.3min\n",
      "[Parallel(n_jobs=2)]: Done 7751 tasks      | elapsed: 33.9min\n",
      "[Parallel(n_jobs=2)]: Done 7870 tasks      | elapsed: 34.4min\n",
      "[Parallel(n_jobs=2)]: Done 7991 tasks      | elapsed: 35.0min\n",
      "[Parallel(n_jobs=2)]: Done 8112 tasks      | elapsed: 35.6min\n",
      "[Parallel(n_jobs=2)]: Done 8235 tasks      | elapsed: 36.2min\n",
      "[Parallel(n_jobs=2)]: Done 8358 tasks      | elapsed: 36.7min\n"
     ]
    },
    {
     "name": "stderr",
     "output_type": "stream",
     "text": [
      "[Parallel(n_jobs=2)]: Done 8483 tasks      | elapsed: 37.3min\n",
      "[Parallel(n_jobs=2)]: Done 8608 tasks      | elapsed: 37.9min\n",
      "[Parallel(n_jobs=2)]: Done 8735 tasks      | elapsed: 38.5min\n",
      "[Parallel(n_jobs=2)]: Done 8862 tasks      | elapsed: 39.1min\n",
      "[Parallel(n_jobs=2)]: Done 8991 tasks      | elapsed: 39.7min\n",
      "[Parallel(n_jobs=2)]: Done 9000 out of 9000 | elapsed: 39.8min finished\n"
     ]
    }
   ],
   "source": [
    "fns = []\n",
    "fns.append(Parallel(n_jobs=psutil.cpu_count(),verbose=10)(\n",
    "    (delayed(check_files)(fp) for fp in glob(density_maps+'/*.npy'))\n",
    "))"
   ]
  },
  {
   "cell_type": "code",
   "execution_count": null,
   "metadata": {},
   "outputs": [
    {
     "name": "stderr",
     "output_type": "stream",
     "text": [
      "  6%|▌         | 508/9000 [01:10<40:07,  3.53it/s] "
     ]
    }
   ],
   "source": [
    "e_fns = []\n",
    "for fp in tqdm(glob(density_maps+'/*.npy'),total=9000):\n",
    "    try:\n",
    "        img = np.load(fp)\n",
    "    except:\n",
    "        e_fns.append(fp)"
   ]
  },
  {
   "cell_type": "code",
   "execution_count": 11,
   "metadata": {},
   "outputs": [],
   "source": [
    "for fn in fns[0]:\n",
    "    if fn:\n",
    "        print(fn)"
   ]
  },
  {
   "cell_type": "code",
   "execution_count": 10,
   "metadata": {},
   "outputs": [
    {
     "data": {
      "text/plain": [
       "1"
      ]
     },
     "execution_count": 10,
     "metadata": {},
     "output_type": "execute_result"
    }
   ],
   "source": [
    "len(fns)"
   ]
  },
  {
   "cell_type": "code",
   "execution_count": null,
   "metadata": {},
   "outputs": [],
   "source": []
  }
 ],
 "metadata": {
  "kernelspec": {
   "display_name": "Python 3",
   "language": "python",
   "name": "python3"
  },
  "language_info": {
   "codemirror_mode": {
    "name": "ipython",
    "version": 3
   },
   "file_extension": ".py",
   "mimetype": "text/x-python",
   "name": "python",
   "nbconvert_exporter": "python",
   "pygments_lexer": "ipython3",
   "version": "3.7.8"
  }
 },
 "nbformat": 4,
 "nbformat_minor": 4
}
