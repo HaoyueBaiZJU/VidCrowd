{
 "cells": [
  {
   "cell_type": "code",
   "execution_count": 1,
   "metadata": {},
   "outputs": [],
   "source": [
    "import torch\n",
    "import torch.nn as nn\n",
    "import os\n",
    "from datetime import datetime\n",
    "import time\n",
    "import random\n",
    "import cv2\n",
    "import pandas as pd\n",
    "import numpy as np\n",
    "import albumentations as A\n",
    "import matplotlib.pyplot as plt\n",
    "from albumentations.pytorch.transforms import ToTensorV2\n",
    "#from sklearn.model_selection import StratifiedKFold\n",
    "from torch.utils.data import Dataset,DataLoader\n",
    "from torch.utils.data.sampler import SequentialSampler, RandomSampler\n",
    "from glob import glob\n",
    "\n",
    "\n",
    "from tqdm import tqdm\n",
    "\n",
    "from torchvision import transforms\n",
    "\n",
    "from utils import visualize, plot_data\n",
    "from scipy.io import loadmat\n",
    "\n",
    "from loss.ot_loss import OT_Loss\n",
    "\n",
    "SEED = 42\n",
    "\n",
    "def seed_everything(seed):\n",
    "    random.seed(seed)\n",
    "    os.environ['PYTHONHASHSEED'] = str(seed)\n",
    "    np.random.seed(seed)\n",
    "    torch.manual_seed(seed)\n",
    "    torch.cuda.manual_seed(seed)\n",
    "    torch.backends.cudnn.deterministic = True\n",
    "    torch.backends.cudnn.benchmark = True\n",
    "\n",
    "seed_everything(SEED)"
   ]
  },
  {
   "cell_type": "code",
   "execution_count": 2,
   "metadata": {},
   "outputs": [],
   "source": [
    "path = '/mnt/home/hheat/USERDIR/counting-bench/data'\n",
    "train_images = path + '/images'\n",
    "test_images = path + '/test_images/images'\n",
    "anno = path + '/annotation'\n",
    "density_maps = path + '/dmaps'\n",
    "\n",
    "LOG_PARA = 1000\n",
    "crop_size = 1024"
   ]
  },
  {
   "cell_type": "code",
   "execution_count": 3,
   "metadata": {},
   "outputs": [],
   "source": [
    "def get_train_transforms():\n",
    "    return A.Compose(\n",
    "        [\n",
    "            A.HorizontalFlip(p=0.5),\n",
    "            A.VerticalFlip(p=0.5),\n",
    "            #A.Resize(360,640,interpolation=2),\n",
    "            #A.RandomSizedCrop(min_max_height=(409, 512), height=409, width=512, p=1.0),\n",
    "            #A.Cutout(num_holes=8, max_h_size=64, max_w_size=64, fill_value=0, p=1.0),\n",
    "        ],\n",
    "        #additional_targets={'image': 'image','image1': 'image'}\n",
    "        #keypoint_params = A.KeypointParams(format='xy')\n",
    ")\n",
    "\n",
    "def get_train_image_only_transforms():\n",
    "    return A.Compose(\n",
    "        [\n",
    "            #A.Resize(360,640),\n",
    "            A.OneOf([\n",
    "                A.HueSaturationValue(hue_shift_limit=0.2, sat_shift_limit= 0.2, \n",
    "                                     val_shift_limit=0.2, p=0.9),\n",
    "                A.RandomBrightnessContrast(brightness_limit=0.2, \n",
    "                                           contrast_limit=0.2, p=0.9),\n",
    "            ],p=0.9),\n",
    "            A.Blur(blur_limit=3,p=0.2),\n",
    "            A.Normalize(p=1.0,max_pixel_value=1.0),\n",
    "            ToTensorV2(p=1.0),\n",
    "        ],\n",
    "        additional_targets={'image': 'image'}\n",
    "    )\n",
    "\n",
    "def get_valid_trainsforms():\n",
    "    return A.Compose(\n",
    "        [\n",
    "            #A.Resize(360,640,interpolation=2),\n",
    "            A.Normalize(p=1.0,max_pixel_value=1.0),\n",
    "            ToTensorV2(p=1.0),\n",
    "        ]\n",
    "    )\n",
    "\n",
    "# mean = torch.tensor([0.4939, 0.4794, 0.4583])\n",
    "# std = torch.tensor([0.2177, 0.2134, 0.2144])\n",
    "\n",
    "def denormalize(img):\n",
    "    img = img * std[...,None,None] + mean[...,None,None]\n",
    "    img = img.permute(1,2,0).cpu().numpy()\n",
    "    return img"
   ]
  },
  {
   "cell_type": "code",
   "execution_count": 4,
   "metadata": {},
   "outputs": [
    {
     "ename": "NameError",
     "evalue": "name 'gen_discrete_map' is not defined",
     "output_type": "error",
     "traceback": [
      "\u001b[0;31m---------------------------------------------------------------------------\u001b[0m",
      "\u001b[0;31mNameError\u001b[0m                                 Traceback (most recent call last)",
      "\u001b[0;32m<ipython-input-4-bac0998558f9>\u001b[0m in \u001b[0;36m<module>\u001b[0;34m\u001b[0m\n\u001b[0;32m----> 1\u001b[0;31m \u001b[0mdis_map\u001b[0m \u001b[0;34m=\u001b[0m \u001b[0mgen_discrete_map\u001b[0m\u001b[0;34m(\u001b[0m\u001b[0;36m1528\u001b[0m\u001b[0;34m,\u001b[0m\u001b[0;36m2720\u001b[0m\u001b[0;34m,\u001b[0m\u001b[0mgt_points\u001b[0m\u001b[0;34m[\u001b[0m\u001b[0;36m0\u001b[0m\u001b[0;34m]\u001b[0m\u001b[0;34m)\u001b[0m\u001b[0;34m\u001b[0m\u001b[0;34m\u001b[0m\u001b[0m\n\u001b[0m",
      "\u001b[0;31mNameError\u001b[0m: name 'gen_discrete_map' is not defined"
     ]
    }
   ],
   "source": [
    "dis_map = gen_discrete_map(1528,2720,gt_points[0])"
   ]
  },
  {
   "cell_type": "code",
   "execution_count": 55,
   "metadata": {},
   "outputs": [],
   "source": [
    "dis_map = dis_map.reshape([191,8,340,8]).sum(axis=(1,3))"
   ]
  },
  {
   "cell_type": "code",
   "execution_count": 56,
   "metadata": {},
   "outputs": [
    {
     "data": {
      "text/plain": [
       "102.0"
      ]
     },
     "execution_count": 56,
     "metadata": {},
     "output_type": "execute_result"
    }
   ],
   "source": [
    "dis_map.sum()"
   ]
  },
  {
   "cell_type": "code",
   "execution_count": 48,
   "metadata": {},
   "outputs": [
    {
     "data": {
      "text/plain": [
       "191.0"
      ]
     },
     "execution_count": 48,
     "metadata": {},
     "output_type": "execute_result"
    }
   ],
   "source": [
    "1528 / 8"
   ]
  },
  {
   "cell_type": "code",
   "execution_count": 42,
   "metadata": {},
   "outputs": [
    {
     "data": {
      "text/plain": [
       "101.33555"
      ]
     },
     "execution_count": 42,
     "metadata": {},
     "output_type": "execute_result"
    }
   ],
   "source": [
    "cv2.resize(dis_map,(2720,1520)).sum()"
   ]
  },
  {
   "cell_type": "code",
   "execution_count": null,
   "metadata": {},
   "outputs": [],
   "source": []
  },
  {
   "cell_type": "code",
   "execution_count": 4,
   "metadata": {},
   "outputs": [],
   "source": [
    "def gen_discrete_map(im_height, im_width, points):\n",
    "    \"\"\"\n",
    "        func: generate the discrete map.\n",
    "        points: [num_gt, 2], for each row: [width, height]\n",
    "        \"\"\"\n",
    "    discrete_map = np.zeros([im_height, im_width], dtype=np.float32)\n",
    "    h, w = discrete_map.shape[:2]\n",
    "    num_gt = points.shape[0]\n",
    "    if num_gt == 0:\n",
    "        return discrete_map\n",
    "    \n",
    "    # fast create discrete map\n",
    "    points_np = np.array(points).round().astype(int)\n",
    "    p_h = np.minimum(points_np[:, 1], np.array([h-1]*num_gt).astype(int))\n",
    "    p_w = np.minimum(points_np[:, 0], np.array([w-1]*num_gt).astype(int))\n",
    "    p_index = torch.from_numpy(p_h* im_width + p_w)\n",
    "    discrete_map = torch.zeros(im_width * im_height).scatter_add_(0, index=p_index, src=torch.ones(im_width*im_height)).view(im_height, im_width).numpy()\n",
    "\n",
    "    ''' slow method\n",
    "    for p in points:\n",
    "        p = np.round(p).astype(int)\n",
    "        p[0], p[1] = min(h - 1, p[1]), min(w - 1, p[0])\n",
    "        discrete_map[p[0], p[1]] += 1\n",
    "    '''\n",
    "    assert np.sum(discrete_map) == num_gt\n",
    "    return discrete_map"
   ]
  },
  {
   "cell_type": "code",
   "execution_count": 5,
   "metadata": {},
   "outputs": [],
   "source": [
    "def gen_discrete_map(im_height, im_width, points):\n",
    "    \"\"\"\n",
    "        func: generate the discrete map.\n",
    "        points: [num_gt, 2], for each row: [width, height]\n",
    "        \"\"\"\n",
    "    discrete_map = np.zeros([im_height, im_width], dtype=np.float32)\n",
    "    h, w = discrete_map.shape[:2]\n",
    "    num_gt = points.shape[0]\n",
    "    if num_gt == 0:\n",
    "        return discrete_map\n",
    "    \n",
    "    # fast create discrete map\n",
    "    points_np = np.array(points).round().astype(int)\n",
    "    p_h = np.minimum(points_np[:, 1], np.array([h-1]*num_gt).astype(int))\n",
    "    p_w = np.minimum(points_np[:, 0], np.array([w-1]*num_gt).astype(int))\n",
    "    p_index = torch.from_numpy(p_h* im_width + p_w)\n",
    "    discrete_map = torch.zeros(im_width * im_height).scatter_add_(0, index=p_index, src=torch.ones(im_width*im_height)).view(im_height, im_width).numpy()\n",
    "\n",
    "    ''' slow method\n",
    "    for p in points:\n",
    "        p = np.round(p).astype(int)\n",
    "        p[0], p[1] = min(h - 1, p[1]), min(w - 1, p[0])\n",
    "        discrete_map[p[0], p[1]] += 1\n",
    "    '''\n",
    "    assert np.sum(discrete_map) == num_gt\n",
    "    return discrete_map"
   ]
  },
  {
   "cell_type": "code",
   "execution_count": 5,
   "metadata": {},
   "outputs": [],
   "source": [
    "class Counting_Dataset(Dataset):\n",
    "    def __init__(self,path,image_fnames,dmap_folder,gt_folder=None,transforms=None,mosaic=False,downsample=4):\n",
    "        '''\n",
    "            path: root path \n",
    "            image_fnames: path of images\n",
    "            dmap_folder: density map folder, eg: /dmap\n",
    "            gt_folder: gt folder, currently set to visdrone xml format, modify _get_gt_data() if needed\n",
    "            transforms: iteratable, can be tuple / list ... etc\n",
    "            mosaic: mix up image and density map to form a new image, set to false by default\n",
    "            downsample: resize dmap\n",
    "        '''\n",
    "        super().__init__()\n",
    "        self.path = path\n",
    "        self.image_fnames = image_fnames\n",
    "        self.dmap_folder = path + dmap_folder\n",
    "        self.transforms = transforms\n",
    "        self.mosaic = mosaic\n",
    "        self.downsample = downsample\n",
    "        self.gt_folder = gt_folder # test purpose\n",
    "        \n",
    "    def __len__(self):\n",
    "        return len(self.image_fnames)\n",
    "    \n",
    "    def __getitem__(self,idx):\n",
    "        image_id = self.image_fnames[idx]\n",
    "        \n",
    "        if self.mosaic and random.randint(0,1) < 0.5:\n",
    "            image, density_map, gt_points = self._load_mosaic_image_and_density_map(idx)\n",
    "        else:\n",
    "            image, density_map, gt_points = self._load_image_and_density_map(idx)\n",
    "        \n",
    "        h,w = image.shape[0]//self.downsample, image.shape[1]//self.downsample\n",
    "        image = cv2.resize(image,(w, h))\n",
    "        density_map = cv2.resize(density_map,(w//(self.downsample*2),h//(self.downsample*2)))#,interpolation=cv2.INTER_NEAREST)\n",
    "        \n",
    "        # Warning: doesn't work for cutout, uncommet transform and make fix code to enable cutout\n",
    "        # Reason: cutout doesn't apply to mask, so mask must be image. check 01a bottom for code\n",
    "        if self.transforms:\n",
    "            for tfms in self.transforms:\n",
    "                aug = tfms(**{\n",
    "                    'image': image,\n",
    "                    'mask': density_map,\n",
    "                    #'keypoints': gt_points\n",
    "                })\n",
    "                #image, density_map, gt_points = aug['image'], aug['mask'], aug['keypoints']\n",
    "                image, density_map = aug['image'], aug['mask'] # issue with previous keypoints (albumentation?)\n",
    "        \n",
    "        \n",
    "        return image, density_map, image_id, gt_points\n",
    "        \n",
    "    \n",
    "    def _get_dmap_name(self,fn):\n",
    "        mask_name = fn.split('/')[-1].split('.')[0]\n",
    "        mask_path = self.dmap_folder + '/' + mask_name + '.npy'\n",
    "        return mask_path\n",
    "    \n",
    "    def _load_image_and_density_map(self,idx):\n",
    "        image_fname = self.image_fnames[idx]\n",
    "        dmap_fname = self._get_dmap_name(image_fname)\n",
    "        image = cv2.imread(image_fname)\n",
    "        image = cv2.cvtColor(image,cv2.COLOR_BGR2RGB).astype(np.float32)\n",
    "        image = image/255.\n",
    "        d_map = np.load(dmap_fname,allow_pickle=True)\n",
    "        \n",
    "        #sanity check gt\n",
    "        _, points = self._get_gt_data(idx)\n",
    "        # end sanity check\n",
    "        \n",
    "        return image, d_map, points\n",
    "    \n",
    "    def _load_mosaic_image_and_density_map(self,idx):\n",
    "        image_1, dmap_1, points_1 = self._load_image_and_density_map(idx)\n",
    "        while True:\n",
    "            idx_2 = random.randint(0,len(self.image_fnames)-1)\n",
    "            if idx != idx_2:\n",
    "                break\n",
    "        image_2, dmap_2, points_2 = self._load_image_and_density_map(idx_2)\n",
    "        \n",
    "        imsize = min(*image_1.shape[:2])\n",
    "        xc,yc = [int(random.uniform(imsize*0.4,imsize*0.6)) for _ in range(2)]\n",
    "        h,w = image_1.shape[0], image_1.shape[1]\n",
    "\n",
    "        pos = random.randint(0,1)\n",
    "        if pos == 0: #top left\n",
    "            x1a,y1a,x2a,y2a = 0,0,xc,yc # img_1\n",
    "            x1b,y1b,x2b,y2b = w-xc,h-yc,w,h # img_2\n",
    "        elif pos == 1: # top right\n",
    "            x1a,y1a,x2a,y2a = w-xc,0,w,yc\n",
    "            x1b,y1b,x2b,y2b = 0,h-yc,xc,h\n",
    "        elif pos == 2: # bottom left\n",
    "            x1a,y1a,x2a,y2a = 0,h-yc,xc,h\n",
    "            x1b,y1b,x2b,y2b = w-xc,0,w,yc\n",
    "        elif pos == 3: # bottom right\n",
    "            x1a,y1a,x2a,y2a = w-xc,h-yc,w,h\n",
    "            x1b,y1b,x2b,y2b = 0,0,xc,yc\n",
    "        \n",
    "        new_image = image_1.copy()\n",
    "        new_dmap = dmap_1.copy()\n",
    "        new_image[y1a:y2a,x1a:x2a] = image_2[y1b:y2b,x1b:x2b]\n",
    "        new_dmap[y1a:y2a,x1a:x2a] = dmap_2[y1b:y2b,x1b:x2b]\n",
    "        \n",
    "        #TODO: sanity check to see generate gt\n",
    "        \n",
    "        new_gt_points = self._get_mixed_gt_points(points_1,points_2,(x1a,y1a,x2a,y2a),(x1b,y1b,x2b,y2b),(h,w))\n",
    "        \n",
    "        return new_image, new_dmap, new_gt_points\n",
    "    \n",
    "    '''\n",
    "    The follow section blocks are for sanity check \n",
    "    to compare dmap.sum() with gt points\n",
    "    remove if needed\n",
    "    '''\n",
    "    def _get_mixed_gt_points(self,points_1,points_2,img_1_loc, img_2_loc,img_shape):\n",
    "#         fn_1, points_1 = self._get_gt_data(idx_1)\n",
    "#         fn_2, points_2 = self._get_gt_data(idx_2)\n",
    "        x1a,y1a,x2a,y2a = img_1_loc\n",
    "        x1b,y1b,x2b,y2b = img_2_loc\n",
    "        h,w = img_shape\n",
    "        \n",
    "        result_boxes = []\n",
    "        result_boxes.append(points_2)\n",
    "        result_boxes = np.concatenate(result_boxes,0)\n",
    "        padw = x1a-x1b\n",
    "        pady = y1a-y1b\n",
    "\n",
    "        result_boxes[:,0] += padw\n",
    "        result_boxes[:,1] += pady\n",
    "\n",
    "        np.clip(result_boxes[:,0],0,w,out=result_boxes[:,0])\n",
    "        np.clip(result_boxes[:,1],0,h,out=result_boxes[:,1])\n",
    "        result_boxes = result_boxes.astype(np.int32)\n",
    "\n",
    "        result_boxes = result_boxes[np.where(result_boxes[:,0] * result_boxes[:,1] > 0)]\n",
    "        result_boxes = result_boxes[np.where(result_boxes[:,0] < w)]\n",
    "        result_boxes = result_boxes[np.where(result_boxes[:,1] < h)]\n",
    "        \n",
    "        boxes = []\n",
    "        for (x,y) in points_1:\n",
    "            if x >= x1a and x <= x2a and y >= y1a and y <= y2a:\n",
    "                continue\n",
    "            else:\n",
    "                boxes.append((x,y))\n",
    "        if len(boxes) == 0:\n",
    "            return result_boxes\n",
    "        return np.concatenate((boxes, result_boxes),axis=0)\n",
    "    \n",
    "    def _get_gt_data(self,idx):\n",
    "        if not self.gt_folder:\n",
    "            return (None,0)\n",
    "        fn = self.image_fnames[idx]\n",
    "        anno_path = self.path + self.gt_folder + '/' + fn.split('/')[-1].split('.')[0] + '.mat'\n",
    "        test_data = loadmat(anno_path)\n",
    "        points = test_data['annotation'].astype(int)\n",
    "        return fn, points\n",
    "    \n",
    "    \n",
    "    \n",
    "# ADD LOG_PARA to density map\n",
    "\n",
    "class Crop_Dataset(Counting_Dataset):\n",
    "    def __init__(self,path,image_fnames,dmap_folder,gt_folder=None,transforms=None,mosaic=False,downsample=4,crop_size=crop_size,method='train'):\n",
    "        super().__init__(path,image_fnames,dmap_folder,gt_folder,transforms,mosaic,downsample)\n",
    "        self.crop_size = crop_size\n",
    "        if method not in ['train','valid']:\n",
    "            raise Exception('Not Implement')\n",
    "        self.method = method\n",
    "    \n",
    "    def __getitem__(self,idx):\n",
    "        fn = self.image_fnames[idx]\n",
    "        \n",
    "        image,density_map,gt_points = self._load_image_and_density_map(idx)\n",
    "        h,w = image.shape[0], image.shape[1]\n",
    "        #image = cv2.resize(image,(w, h))\n",
    "        \n",
    "        \n",
    "        if self.method == 'train':\n",
    "            #h,w = image.shape[:2]\n",
    "            i,j = self._random_crop(h,w,self.crop_size,self.crop_size)\n",
    "            image = image[i:i+self.crop_size,j:j+self.crop_size]\n",
    "            density_map = density_map[i:i+self.crop_size,j:j+self.crop_size]\n",
    "            \n",
    "            h,w = image.shape[0], image.shape[1]\n",
    "            \n",
    "            gt_points = gt_points - [j,i]\n",
    "            mask = (gt_points[:,0] >=0 ) * (gt_points[:,0] <= self.crop_size) * (gt_points[:,1]>=0) * (gt_points[:,1]<=self.crop_size)\n",
    "            gt_points = gt_points[mask]\n",
    "            #density_map = cv2.resize(density_map,(self.crop_size//self.downsample,self.crop_size//self.downsample))\n",
    "            if len(gt_points) == 0:\n",
    "                gt_points = np.empty([0, 2])\n",
    "            \n",
    "        elif self.method == 'valid':\n",
    "            h = 1528\n",
    "            \n",
    "        #dm_count\n",
    "        gt_discrete = gen_discrete_map(h,w,gt_points)\n",
    "        final_w = w // self.downsample\n",
    "        final_h = h // self.downsample\n",
    "        gt_discrete = gt_discrete.reshape([final_h,self.downsample,final_w,self.downsample]).sum(axis=(1,3))\n",
    "        assert np.sum(gt_discrete) == len(gt_points)\n",
    "        \n",
    "        if self.transforms:\n",
    "            for tfms in self.transforms:\n",
    "                aug = tfms(**{\n",
    "                    'image': image,\n",
    "                    'mask': gt_discrete,\n",
    "                    #'keypoints': gt_points\n",
    "                })\n",
    "                #image, density_map, gt_points = aug['image'], aug['mask'], aug['keypoints']\n",
    "                image, gt_discrete = aug['image'], aug['mask'] # issue with previous keypoints (albumentation?)\n",
    "        return image, gt_discrete, fn, torch.from_numpy(gt_points).float()\n",
    "    \n",
    "    def _random_crop(self, im_h, im_w, crop_h, crop_w):\n",
    "        res_h = im_h - crop_h\n",
    "        res_w = im_w - crop_w\n",
    "        i = random.randint(0, res_h)\n",
    "        j = random.randint(0, res_w)\n",
    "        return i, j"
   ]
  },
  {
   "cell_type": "code",
   "execution_count": 6,
   "metadata": {},
   "outputs": [],
   "source": [
    "train_fp = glob(train_images + '/*.jpg')\n",
    "test_fp = glob(test_images + '/*.jpg')\n",
    "\n",
    "#split = int(len(train_fp) * 0.8)\n",
    "\n",
    "\n",
    "train_dataset = Crop_Dataset(path=path,\n",
    "                             image_fnames=train_fp,dmap_folder='/dmaps',\n",
    "                             gt_folder='/annotation',\n",
    "                             transforms=[get_train_transforms(),get_train_image_only_transforms()],\n",
    "                             downsample=8,crop_size=crop_size\n",
    "                                )\n",
    "\n",
    "valid_dataset = Crop_Dataset(path=path,\n",
    "                             image_fnames=test_fp,dmap_folder='/dmaps',\n",
    "                             gt_folder='/annotation',\n",
    "                             transforms=[get_valid_trainsforms()],\n",
    "                             method='valid',\n",
    "                             downsample=8\n",
    "                                )"
   ]
  },
  {
   "cell_type": "markdown",
   "metadata": {},
   "source": [
    "# Test crop issue?"
   ]
  },
  {
   "cell_type": "code",
   "execution_count": 17,
   "metadata": {},
   "outputs": [],
   "source": [
    "image, dmap, fn, gt_points = train_dataset[300]"
   ]
  },
  {
   "cell_type": "code",
   "execution_count": 18,
   "metadata": {},
   "outputs": [
    {
     "data": {
      "text/plain": [
       "torch.Size([128, 128])"
      ]
     },
     "execution_count": 18,
     "metadata": {},
     "output_type": "execute_result"
    }
   ],
   "source": [
    "dmap.shape"
   ]
  },
  {
   "cell_type": "code",
   "execution_count": 19,
   "metadata": {},
   "outputs": [
    {
     "data": {
      "text/plain": [
       "tensor(18.)"
      ]
     },
     "execution_count": 19,
     "metadata": {},
     "output_type": "execute_result"
    }
   ],
   "source": [
    "dmap.sum()"
   ]
  },
  {
   "cell_type": "code",
   "execution_count": 14,
   "metadata": {},
   "outputs": [
    {
     "data": {
      "text/plain": [
       "31"
      ]
     },
     "execution_count": 14,
     "metadata": {},
     "output_type": "execute_result"
    }
   ],
   "source": [
    "len(gt_points)"
   ]
  },
  {
   "cell_type": "code",
   "execution_count": 154,
   "metadata": {},
   "outputs": [
    {
     "data": {
      "text/plain": [
       "<matplotlib.image.AxesImage at 0x14c261104e50>"
      ]
     },
     "execution_count": 154,
     "metadata": {},
     "output_type": "execute_result"
    },
    {
     "data": {
      "image/png": "[encoded data removed]",
      "text/plain": [
       "<Figure size 432x288 with 1 Axes>"
      ]
     },
     "metadata": {
      "needs_background": "light"
     },
     "output_type": "display_data"
    }
   ],
   "source": [
    "plt.imshow(image)"
   ]
  },
  {
   "cell_type": "code",
   "execution_count": 531,
   "metadata": {},
   "outputs": [
    {
     "data": {
      "text/plain": [
       "'/mnt/home/hheat/USERDIR/counting-bench/data/images/11_068.jpg'"
      ]
     },
     "execution_count": 531,
     "metadata": {},
     "output_type": "execute_result"
    }
   ],
   "source": [
    "fn"
   ]
  },
  {
   "cell_type": "code",
   "execution_count": 532,
   "metadata": {},
   "outputs": [
    {
     "data": {
      "text/plain": [
       "40"
      ]
     },
     "execution_count": 532,
     "metadata": {},
     "output_type": "execute_result"
    }
   ],
   "source": [
    "count = 0\n",
    "for i in range(100):\n",
    "    image, dmap, fn, gt_points = train_dataset[200]\n",
    "    if len(gt_points) == 0:\n",
    "        count += 1\n",
    "count"
   ]
  },
  {
   "cell_type": "code",
   "execution_count": 533,
   "metadata": {},
   "outputs": [
    {
     "data": {
      "text/plain": [
       "80"
      ]
     },
     "execution_count": 533,
     "metadata": {},
     "output_type": "execute_result"
    }
   ],
   "source": [
    "count = 0\n",
    "for i in range(100):\n",
    "    image, dmap, fn, gt_points = train_dataset[200]\n",
    "    if len(gt_points) < 5:\n",
    "        count += 1\n",
    "count"
   ]
  },
  {
   "cell_type": "code",
   "execution_count": 534,
   "metadata": {},
   "outputs": [
    {
     "data": {
      "text/plain": [
       "100"
      ]
     },
     "execution_count": 534,
     "metadata": {},
     "output_type": "execute_result"
    }
   ],
   "source": [
    "count = 0\n",
    "for i in range(100):\n",
    "    image, dmap, fn, gt_points = train_dataset[200]\n",
    "    if len(gt_points) < 36:\n",
    "        count += 1\n",
    "count"
   ]
  },
  {
   "cell_type": "code",
   "execution_count": 520,
   "metadata": {},
   "outputs": [
    {
     "data": {
      "text/plain": [
       "100"
      ]
     },
     "execution_count": 520,
     "metadata": {},
     "output_type": "execute_result"
    }
   ],
   "source": [
    "count = 0\n",
    "for i in range(100):\n",
    "    image, dmap, fn, gt_points = train_dataset[200]\n",
    "    if len(gt_points) < 36:\n",
    "        count += 1\n",
    "count"
   ]
  },
  {
   "cell_type": "code",
   "execution_count": 521,
   "metadata": {},
   "outputs": [
    {
     "data": {
      "text/plain": [
       "100"
      ]
     },
     "execution_count": 521,
     "metadata": {},
     "output_type": "execute_result"
    }
   ],
   "source": [
    "count = 0\n",
    "for i in range(100):\n",
    "    image, dmap, fn, gt_points = train_dataset[200]\n",
    "    if len(gt_points) < 36:\n",
    "        count += 1\n",
    "count"
   ]
  },
  {
   "cell_type": "code",
   "execution_count": null,
   "metadata": {},
   "outputs": [],
   "source": []
  },
  {
   "cell_type": "code",
   "execution_count": null,
   "metadata": {},
   "outputs": [],
   "source": []
  },
  {
   "cell_type": "code",
   "execution_count": 489,
   "metadata": {},
   "outputs": [],
   "source": [
    "from PIL import Image"
   ]
  },
  {
   "cell_type": "code",
   "execution_count": 530,
   "metadata": {},
   "outputs": [
    {
     "data": {
      "text/plain": [
       "<matplotlib.image.AxesImage at 0x14807c9ff9d0>"
      ]
     },
     "execution_count": 530,
     "metadata": {},
     "output_type": "execute_result"
    },
    {
     "data": {
      "image/png": "[encoded data removed]",
      "text/plain": [
       "<Figure size 432x288 with 1 Axes>"
      ]
     },
     "metadata": {
      "needs_background": "light"
     },
     "output_type": "display_data"
    }
   ],
   "source": [
    "pil_image = Image.open(fn)\n",
    "plt.imshow(pil_image)"
   ]
  },
  {
   "cell_type": "code",
   "execution_count": 529,
   "metadata": {},
   "outputs": [
    {
     "data": {
      "text/plain": [
       "64"
      ]
     },
     "execution_count": 529,
     "metadata": {},
     "output_type": "execute_result"
    }
   ],
   "source": [
    "len(loadmat(anno+'/11_068.mat')['annotation'])"
   ]
  },
  {
   "cell_type": "code",
   "execution_count": 503,
   "metadata": {},
   "outputs": [
    {
     "data": {
      "text/plain": [
       "(1530, 2720, 3)"
      ]
     },
     "execution_count": 503,
     "metadata": {},
     "output_type": "execute_result"
    }
   ],
   "source": [
    "np.array(pil_image).shape"
   ]
  },
  {
   "cell_type": "markdown",
   "metadata": {},
   "source": [
    "# Done test crop issue"
   ]
  },
  {
   "cell_type": "code",
   "execution_count": 7,
   "metadata": {},
   "outputs": [],
   "source": [
    "class TrainGlobalConfig:\n",
    "    num_workers = 8\n",
    "    batch_size = 8\n",
    "    n_epochs = 40 # n_epochs = 40\n",
    "    lr = 0.0002\n",
    "\n",
    "    folder = 'test_delete'\n",
    "    downsample = 8\n",
    "\n",
    "    # -------------------\n",
    "    verbose = True\n",
    "    verbose_step = 1\n",
    "    # -------------------\n",
    "\n",
    "    # --------------------\n",
    "    step_scheduler = True  # do scheduler.step after optimizer.step\n",
    "    validation_scheduler = False  # do scheduler.step after validation stage loss\n",
    "\n",
    "    SchedulerClass = torch.optim.lr_scheduler.OneCycleLR\n",
    "    scheduler_params = dict(\n",
    "        max_lr=1e-4,\n",
    "        #total_steps = len(train_dataset) // 4 * n_epochs, # gradient accumulation\n",
    "        epochs=n_epochs,\n",
    "        steps_per_epoch=int(len(train_dataset) / batch_size),\n",
    "        pct_start=0.2,\n",
    "        anneal_strategy='cos', \n",
    "        final_div_factor=10**5\n",
    "    )\n",
    "    \n",
    "#     SchedulerClass = torch.optim.lr_scheduler.ReduceLROnPlateau\n",
    "#     scheduler_params = dict(\n",
    "#         mode='min',\n",
    "#         factor=0.5,\n",
    "#         patience=1,\n",
    "#         verbose=False, \n",
    "#         threshold=0.0001,\n",
    "#         threshold_mode='abs',\n",
    "#         cooldown=0, \n",
    "#         min_lr=1e-8,\n",
    "#         eps=1e-08\n",
    "#     )"
   ]
  },
  {
   "cell_type": "markdown",
   "metadata": {},
   "source": [
    "# DM_Count"
   ]
  },
  {
   "cell_type": "code",
   "execution_count": 8,
   "metadata": {},
   "outputs": [],
   "source": [
    "# Credit: https://github.com/cvlab-stonybrook/DM-Count/blob/master/models.py\n",
    "\n",
    "import torch.utils.model_zoo as model_zoo\n",
    "from torch.nn import functional as F\n",
    "\n",
    "__all__ = ['vgg19']\n",
    "model_urls = {\n",
    "    'vgg19': 'https://download.pytorch.org/models/vgg19-dcbb9e9d.pth',\n",
    "}\n",
    "\n",
    "class VGG(nn.Module):\n",
    "    def __init__(self, features):\n",
    "        super(VGG, self).__init__()\n",
    "        self.features = features\n",
    "        self.reg_layer = nn.Sequential(\n",
    "            nn.Conv2d(512, 256, kernel_size=3, padding=1),\n",
    "            nn.ReLU(inplace=True),\n",
    "            nn.Conv2d(256, 128, kernel_size=3, padding=1),\n",
    "            nn.ReLU(inplace=True),\n",
    "        )\n",
    "        self.density_layer = nn.Sequential(nn.Conv2d(128, 1, 1), nn.ReLU())\n",
    "\n",
    "    def forward(self, x):\n",
    "        x = self.features(x)\n",
    "        x = F.upsample_bilinear(x, scale_factor=2)\n",
    "        x = self.reg_layer(x)\n",
    "        mu = self.density_layer(x)\n",
    "        B, C, H, W = mu.size()\n",
    "        mu_sum = mu.view([B, -1]).sum(1).unsqueeze(1).unsqueeze(2).unsqueeze(3)\n",
    "        mu_normed = mu / (mu_sum + 1e-6)\n",
    "        return mu, mu_normed\n",
    "\n",
    "def make_layers(cfg, batch_norm=False):\n",
    "    layers = []\n",
    "    in_channels = 3\n",
    "    for v in cfg:\n",
    "        if v == 'M':\n",
    "            layers += [nn.MaxPool2d(kernel_size=2, stride=2)]\n",
    "        else:\n",
    "            conv2d = nn.Conv2d(in_channels, v, kernel_size=3, padding=1)\n",
    "            if batch_norm:\n",
    "                layers += [conv2d, nn.BatchNorm2d(v), nn.ReLU(inplace=True)]\n",
    "            else:\n",
    "                layers += [conv2d, nn.ReLU(inplace=True)]\n",
    "            in_channels = v\n",
    "    return nn.Sequential(*layers)\n",
    "\n",
    "cfg = {\n",
    "    'E': [64, 64, 'M', 128, 128, 'M', 256, 256, 256, 256, 'M', 512, 512, 512, 512, 'M', 512, 512, 512, 512]\n",
    "}\n",
    "\n",
    "def vgg19():\n",
    "    \"\"\"VGG 19-layer model (configuration \"E\")\n",
    "        model pre-trained on ImageNet\n",
    "    \"\"\"\n",
    "    model = VGG(make_layers(cfg['E']))\n",
    "    model.load_state_dict(model_zoo.load_url(model_urls['vgg19']), strict=False)\n",
    "    return model"
   ]
  },
  {
   "cell_type": "code",
   "execution_count": 9,
   "metadata": {},
   "outputs": [],
   "source": [
    "net = vgg19().cuda()"
   ]
  },
  {
   "cell_type": "code",
   "execution_count": 10,
   "metadata": {},
   "outputs": [],
   "source": [
    "def get_loss(crop_size,downsample,norm_cood=1,device='cuda'):\n",
    "    ot_loss = OT_Loss(crop_size,downsample,norm_cood,device)\n",
    "    tv_loss = nn.L1Loss(reduction='none').to(device)\n",
    "    return ot_loss, tv_loss\n",
    "\n",
    "\n",
    "\n",
    "def MSELoss(preds,targs):\n",
    "    return nn.MSELoss()(preds,targs)\n",
    "\n",
    "def MAELoss(preds,targs):\n",
    "    return nn.L1Loss()(preds.sum(dim=[-1,-2]), targs)"
   ]
  },
  {
   "cell_type": "markdown",
   "metadata": {},
   "source": [
    "# Train Loop"
   ]
  },
  {
   "cell_type": "code",
   "execution_count": 11,
   "metadata": {},
   "outputs": [],
   "source": [
    "class AverageMeter(object):\n",
    "    \"\"\"Computes and stores the average and current value\"\"\"\n",
    "    def __init__(self):\n",
    "        self.reset()\n",
    "\n",
    "    def reset(self):\n",
    "        self.val = 0\n",
    "        self.avg = 0\n",
    "        self.sum = 0\n",
    "        self.count = 0\n",
    "\n",
    "    def update(self, val, n=1):\n",
    "        self.val = val\n",
    "        self.sum += val * n\n",
    "        self.count += n\n",
    "        self.avg = self.sum / self.count\n",
    "        "
   ]
  },
  {
   "cell_type": "code",
   "execution_count": 12,
   "metadata": {},
   "outputs": [],
   "source": [
    "import warnings\n",
    "warnings.filterwarnings(\"ignore\")\n",
    "\n",
    "#opt_level ='O1' # apex\n",
    "\n",
    "class Fitter:\n",
    "    \n",
    "    def __init__(self, model, device, config):\n",
    "        self.config = config\n",
    "        self.epoch = 0\n",
    "\n",
    "        self.base_dir = f'/mnt/home/hheat/USERDIR/counting-bench/model/{config.folder}'\n",
    "        if not os.path.exists(self.base_dir):\n",
    "            os.makedirs(self.base_dir)\n",
    "        \n",
    "        self.log_path = f'{self.base_dir}/log.txt'\n",
    "        self.best_mae_loss = 10**5\n",
    "\n",
    "        self.model = model\n",
    "        self.device = device\n",
    "\n",
    "        param_optimizer = list(self.model.named_parameters())\n",
    "        no_decay = ['bias', 'LayerNorm.bias', 'LayerNorm.weight']\n",
    "        optimizer_grouped_parameters = [\n",
    "            {'params': [p for n, p in param_optimizer if not any(nd in n for nd in no_decay)], 'weight_decay': 0.001},\n",
    "            {'params': [p for n, p in param_optimizer if any(nd in n for nd in no_decay)], 'weight_decay': 0.0}\n",
    "        ] \n",
    "\n",
    "        self.optimizer = torch.optim.AdamW(self.model.parameters(), lr=config.lr)\n",
    "        \n",
    "        #self.model, self.optimizer = amp.initialize(self.model,self.optimizer,opt_level=opt_level) # apex\n",
    "        self.scaler = torch.cuda.amp.GradScaler()\n",
    "        \n",
    "        self.scheduler = config.SchedulerClass(self.optimizer, **config.scheduler_params)\n",
    "        self.ot_loss, self.tv_loss = get_loss(crop_size,config.downsample)\n",
    "        self.mse = MSELoss\n",
    "        self.mae = MAELoss\n",
    "        self.log(f'Fitter prepared. Device is {self.device}')\n",
    "        \n",
    "        # self.iters_to_accumulate = 4 # gradient accumulation\n",
    "\n",
    "    def fit(self, train_loader, validation_loader):\n",
    "        for e in range(self.config.n_epochs):\n",
    "            if self.config.verbose:\n",
    "                lr = self.optimizer.param_groups[0]['lr']\n",
    "                timestamp = datetime.utcnow().isoformat()\n",
    "                self.log(f'\\n{timestamp}\\nLR: {lr}')\n",
    "\n",
    "            t = time.time()\n",
    "            summary_loss, mae_loss = self.train_one_epoch(train_loader)\n",
    "\n",
    "            self.log(f'[RESULT]: Train. Epoch: {self.epoch}, mse_loss: {summary_loss.avg:.5f}, time: {(time.time() - t):.5f}')\n",
    "            self.log(f'[RESULT]: Train. Epoch: {self.epoch}, mae_loss: {mae_loss.avg:.5f}, time: {(time.time() - t):.5f}')\n",
    "            self.save(f'{self.base_dir}/last-checkpoint.bin')\n",
    "\n",
    "            t = time.time()\n",
    "            summary_loss = self.validation(validation_loader)\n",
    "\n",
    "            self.log(f'[RESULT]: Val. Epoch: {self.epoch}, summary_loss: {summary_loss.avg:.5f}, time: {(time.time() - t):.5f}')\n",
    "            #self.log(f'[RESULT]: Val. Epoch: {self.epoch}, mae_loss: {mae_loss.avg:.5f}, time: {(time.time() - t):.5f}')\n",
    "            if summary_loss.avg < self.best_summary_loss:\n",
    "                self.best_summary_loss = summary_loss.avg\n",
    "                self.model.eval()\n",
    "                self.save(f'{self.base_dir}/best-checkpoint-{str(self.epoch).zfill(3)}epoch.bin')\n",
    "                for path in sorted(glob(f'{self.base_dir}/best-checkpoint-*epoch.bin'))[:-3]:\n",
    "                    os.remove(path)\n",
    "\n",
    "            if self.config.validation_scheduler:\n",
    "                self.scheduler.step(metrics=mae_loss.avg)\n",
    "\n",
    "            self.epoch += 1\n",
    "\n",
    "    def validation(self, val_loader):\n",
    "        self.model.eval()\n",
    "        #summary_loss = AverageMeter()\n",
    "        mae_loss = AverageMeter()\n",
    "        t = time.time()\n",
    "        for step, (images, density_maps, fns, gt_pts) in enumerate(val_loader):\n",
    "            if self.config.verbose:\n",
    "                if step % self.config.verbose_step == 0:\n",
    "                    print(\n",
    "                        f'Val Step {step}/{len(val_loader)}, ' + \\\n",
    "                        #f'mse_loss: {summary_loss.avg:.5f}, ' + \\\n",
    "                        f'mae_loss: {mae_loss.avg:.5f}, ' + \\\n",
    "                        f'time: {(time.time() - t):.5f}', end='\\r'\n",
    "                    )\n",
    "            with torch.no_grad():\n",
    "                batch_size = images.shape[0]\n",
    "                images = images.to(self.device).float()\n",
    "                density_maps = density_maps.to(self.device).float()\n",
    "                \n",
    "                outputs, _ = self.model(images)\n",
    "                outputs = F.pad(outputs,(0,0,0,1))\n",
    "                res = self.mae(outputs,density_maps)\n",
    "                #res = density_maps[0].sum().item() - torch.sum(outputs).item()\n",
    "                \n",
    "                \n",
    "                mae_loss.update(res,batch_size)\n",
    "                #summary_loss.update(loss.detach().item(), batch_size)\n",
    "            if step == 20:\n",
    "                break\n",
    "\n",
    "        return mae_loss\n",
    "\n",
    "    def train_one_epoch(self, train_loader):\n",
    "        self.model.train()\n",
    "        epoch_summary_loss = AverageMeter()\n",
    "        epoch_ot_loss = AverageMeter()\n",
    "        epoch_tv_loss = AverageMeter()\n",
    "        #epoch_mse_loss = AverageMeter()\n",
    "        epoch_mae_loss = AverageMeter()\n",
    "        t = time.time()\n",
    "        for step, (images, density_maps, fns, gt_pts) in enumerate(train_loader):\n",
    "            if self.config.verbose:\n",
    "                if step % self.config.verbose_step == 0:\n",
    "                    print(\n",
    "                        f'Train Step {step}/{len(train_loader)}, ' + \\\n",
    "                        f'total_loss: {epoch_summary_loss.avg:.5f}, ' + \\\n",
    "                        f'mae_loss: {epoch_mae_loss.avg:.5f}, ' + \\\n",
    "                        f'ot_loss: {epoch_ot_loss.avg:.5f}, ' + \\\n",
    "                        f'tv_loss: {epoch_tv_loss.avg:.5f}, ' + \\\n",
    "                        f'time: {(time.time() - t):.5f}', end='\\r'\n",
    "                    )\n",
    "            \n",
    "            images = images.cuda().float()\n",
    "            batch_size = images.shape[0]\n",
    "            density_maps = density_maps.to(self.device).float()\n",
    "            gt_pts = [p.to(self.device) for p in gt_pts]\n",
    "            gd_count = np.array([len(p) for p in gt_pts], dtype=np.float32)\n",
    "            gd_count = torch.from_numpy(gd_count).to(self.device)\n",
    "            \n",
    "            \n",
    "            \n",
    "            self.optimizer.zero_grad()\n",
    "            \n",
    "            with torch.cuda.amp.autocast(): #native fp16\n",
    "                outputs, outputs_normed = self.model(images)\n",
    "                outputs, outputs_normed = outputs, outputs_normed\n",
    "                ot_loss, wd, ot_obj_value = self.ot_loss(outputs_normed,outputs,gt_pts)\n",
    "                ot_loss *= 0.1\n",
    "                ot_obj_value *= 0.1\n",
    "                count_loss = self.mae(outputs.squeeze(),gd_count)\n",
    "                gt_discrete_normed = density_maps / (gd_count[...,None,None,None] + 1e-6)\n",
    "                tv_loss = (self.tv_loss(outputs_normed,gt_discrete_normed).sum([-1,-2,-3]) * gd_count).mean(0) * 0.01\n",
    "                loss = ot_loss + count_loss + tv_loss\n",
    "            self.scaler.scale(loss).backward()\n",
    "            \n",
    "            # loss = loss / self.iters_to_accumulate # gradient accumulation\n",
    "            \n",
    "#             with amp.scale_loss(loss,self.optimizer) as scaled_loss: # apex\n",
    "#                 scaled_loss.backward()\n",
    "            #loss.backward()\n",
    "            epoch_ot_loss.update(ot_loss.detach().item(),batch_size)\n",
    "            epoch_tv_loss.update(tv_loss.detach().item(),batch_size)\n",
    "            epoch_mae_loss.update(count_loss.detach().item(),batch_size)\n",
    "            epoch_summary_loss.update(loss.detach().item(), batch_size)\n",
    "            \n",
    "            \n",
    "            #self.optimizer.step()\n",
    "            self.scaler.step(self.optimizer) # native fp16\n",
    "            \n",
    "            if self.config.step_scheduler:\n",
    "                self.scheduler.step()\n",
    "            \n",
    "            self.scaler.update() #native fp16\n",
    "                \n",
    "                \n",
    "#             if (step+1) % self.iters_to_accumulate == 0: # gradient accumulation\n",
    "\n",
    "#                 self.optimizer.step()\n",
    "#                 self.optimizer.zero_grad()\n",
    "\n",
    "#                 if self.config.step_scheduler:\n",
    "#                     self.scheduler.step()\n",
    "                    \n",
    "            if step == 20:\n",
    "                break\n",
    "\n",
    "        return epoch_summary_loss, epoch_mae_loss\n",
    "    \n",
    "    def save(self, path):\n",
    "        self.model.eval()\n",
    "        torch.save({\n",
    "            'model_state_dict': self.model.state_dict(),\n",
    "            'optimizer_state_dict': self.optimizer.state_dict(),\n",
    "            'scheduler_state_dict': self.scheduler.state_dict(),\n",
    "            'best_mae_loss': self.best_mae_loss,\n",
    "            'epoch': self.epoch,\n",
    "            #'amp': amp.state_dict() # apex\n",
    "        }, path)\n",
    "\n",
    "    def load(self, path):\n",
    "        checkpoint = torch.load(path)\n",
    "        self.model.load_state_dict(checkpoint['model_state_dict'])\n",
    "        self.optimizer.load_state_dict(checkpoint['optimizer_state_dict'])\n",
    "        self.scheduler.load_state_dict(checkpoint['scheduler_state_dict'])\n",
    "        self.best_mae_loss = checkpoint['best_mae_loss']\n",
    "        self.epoch = checkpoint['epoch'] + 1\n",
    "        \n",
    "    def log(self, message):\n",
    "        if self.config.verbose:\n",
    "            print(message)\n",
    "        with open(self.log_path, 'a+') as logger:\n",
    "            logger.write(f'{message}\\n')"
   ]
  },
  {
   "cell_type": "code",
   "execution_count": 13,
   "metadata": {},
   "outputs": [],
   "source": [
    "def collate_fn(batch):\n",
    "    imgs, dmaps, fns, gt_points = zip(*batch)\n",
    "    #print(gt_points)\n",
    "    imgs = torch.stack(imgs)\n",
    "    dmaps = torch.stack(dmaps).unsqueeze(1)\n",
    "    #gt_points = torch.stack(gt_points,dim=-1)\n",
    "    return imgs,dmaps,fns,gt_points\n",
    "\n",
    "def run_training():\n",
    "    device = torch.device('cuda:0')\n",
    "\n",
    "    train_loader = torch.utils.data.DataLoader(\n",
    "        train_dataset,\n",
    "        batch_size=TrainGlobalConfig.batch_size,\n",
    "        sampler=RandomSampler(train_dataset),\n",
    "        pin_memory=False,\n",
    "        drop_last=True,\n",
    "        num_workers=TrainGlobalConfig.num_workers,\n",
    "        collate_fn=collate_fn,\n",
    "    )\n",
    "\n",
    "    val_loader = torch.utils.data.DataLoader(\n",
    "        valid_dataset, \n",
    "        batch_size=1,\n",
    "        num_workers=TrainGlobalConfig.num_workers,\n",
    "        shuffle=False,\n",
    "        sampler=SequentialSampler(valid_dataset),\n",
    "        pin_memory=False,\n",
    "        collate_fn=collate_fn,\n",
    "    )\n",
    "\n",
    "    fitter = Fitter(model=net, device=device, config=TrainGlobalConfig)\n",
    "#     fitter.load(f'{fitter.base_dir}/last-checkpoint.bin')\n",
    "    fitter.fit(train_loader, val_loader)"
   ]
  },
  {
   "cell_type": "code",
   "execution_count": 14,
   "metadata": {},
   "outputs": [
    {
     "name": "stdout",
     "output_type": "stream",
     "text": [
      "Fitter prepared. Device is cuda:0\n",
      "\n",
      "2021-07-18T15:01:15.832653\n",
      "LR: 4.000000000000002e-06\n",
      "[RESULT]: Train. Epoch: 0, mse_loss: 678.82709, time: 34.40022 ot_loss: 0.00000, tv_loss: 1.06237, time: 32.08520\n",
      "[RESULT]: Train. Epoch: 0, mae_loss: 677.75388, time: 34.41050\n",
      "[RESULT]: Val. Epoch: 0, summary_loss: 1597.53088, time: 7.49976\n",
      "\n",
      "2021-07-18T15:01:59.664582\n",
      "LR: 4.002636052967857e-06\n",
      "[RESULT]: Train. Epoch: 1, mse_loss: 110.27721, time: 22.44617 ot_loss: 0.00000, tv_loss: 0.86100, time: 20.40626\n",
      "[RESULT]: Train. Epoch: 1, mae_loss: 109.43697, time: 22.45378\n",
      "[RESULT]: Val. Epoch: 1, summary_loss: 63.51244, time: 4.12043\n",
      "\n",
      "2021-07-18T15:02:28.255162\n",
      "LR: 4.010543922339119e-06\n"
     ]
    },
    {
     "ename": "KeyboardInterrupt",
     "evalue": "",
     "output_type": "error",
     "traceback": [
      "\u001b[0;31m---------------------------------------------------------------------------\u001b[0m",
      "\u001b[0;31mKeyboardInterrupt\u001b[0m                         Traceback (most recent call last)",
      "\u001b[0;32m<ipython-input-14-2f18cc448813>\u001b[0m in \u001b[0;36m<module>\u001b[0;34m\u001b[0m\n\u001b[0;32m----> 1\u001b[0;31m \u001b[0mrun_training\u001b[0m\u001b[0;34m(\u001b[0m\u001b[0;34m)\u001b[0m\u001b[0;34m\u001b[0m\u001b[0;34m\u001b[0m\u001b[0m\n\u001b[0m",
      "\u001b[0;32m<ipython-input-13-75e90a2f32c6>\u001b[0m in \u001b[0;36mrun_training\u001b[0;34m()\u001b[0m\n\u001b[1;32m     32\u001b[0m     \u001b[0mfitter\u001b[0m \u001b[0;34m=\u001b[0m \u001b[0mFitter\u001b[0m\u001b[0;34m(\u001b[0m\u001b[0mmodel\u001b[0m\u001b[0;34m=\u001b[0m\u001b[0mnet\u001b[0m\u001b[0;34m,\u001b[0m \u001b[0mdevice\u001b[0m\u001b[0;34m=\u001b[0m\u001b[0mdevice\u001b[0m\u001b[0;34m,\u001b[0m \u001b[0mconfig\u001b[0m\u001b[0;34m=\u001b[0m\u001b[0mTrainGlobalConfig\u001b[0m\u001b[0;34m)\u001b[0m\u001b[0;34m\u001b[0m\u001b[0;34m\u001b[0m\u001b[0m\n\u001b[1;32m     33\u001b[0m \u001b[0;31m#     fitter.load(f'{fitter.base_dir}/last-checkpoint.bin')\u001b[0m\u001b[0;34m\u001b[0m\u001b[0;34m\u001b[0m\u001b[0;34m\u001b[0m\u001b[0m\n\u001b[0;32m---> 34\u001b[0;31m     \u001b[0mfitter\u001b[0m\u001b[0;34m.\u001b[0m\u001b[0mfit\u001b[0m\u001b[0;34m(\u001b[0m\u001b[0mtrain_loader\u001b[0m\u001b[0;34m,\u001b[0m \u001b[0mval_loader\u001b[0m\u001b[0;34m)\u001b[0m\u001b[0;34m\u001b[0m\u001b[0;34m\u001b[0m\u001b[0m\n\u001b[0m",
      "\u001b[0;32m<ipython-input-12-888783d67506>\u001b[0m in \u001b[0;36mfit\u001b[0;34m(self, train_loader, validation_loader)\u001b[0m\n\u001b[1;32m     48\u001b[0m \u001b[0;34m\u001b[0m\u001b[0m\n\u001b[1;32m     49\u001b[0m             \u001b[0mt\u001b[0m \u001b[0;34m=\u001b[0m \u001b[0mtime\u001b[0m\u001b[0;34m.\u001b[0m\u001b[0mtime\u001b[0m\u001b[0;34m(\u001b[0m\u001b[0;34m)\u001b[0m\u001b[0;34m\u001b[0m\u001b[0;34m\u001b[0m\u001b[0m\n\u001b[0;32m---> 50\u001b[0;31m             \u001b[0msummary_loss\u001b[0m\u001b[0;34m,\u001b[0m \u001b[0mmae_loss\u001b[0m \u001b[0;34m=\u001b[0m \u001b[0mself\u001b[0m\u001b[0;34m.\u001b[0m\u001b[0mtrain_one_epoch\u001b[0m\u001b[0;34m(\u001b[0m\u001b[0mtrain_loader\u001b[0m\u001b[0;34m)\u001b[0m\u001b[0;34m\u001b[0m\u001b[0;34m\u001b[0m\u001b[0m\n\u001b[0m\u001b[1;32m     51\u001b[0m \u001b[0;34m\u001b[0m\u001b[0m\n\u001b[1;32m     52\u001b[0m             \u001b[0mself\u001b[0m\u001b[0;34m.\u001b[0m\u001b[0mlog\u001b[0m\u001b[0;34m(\u001b[0m\u001b[0;34mf'[RESULT]: Train. Epoch: {self.epoch}, mse_loss: {summary_loss.avg:.5f}, time: {(time.time() - t):.5f}'\u001b[0m\u001b[0;34m)\u001b[0m\u001b[0;34m\u001b[0m\u001b[0;34m\u001b[0m\u001b[0m\n",
      "\u001b[0;32m<ipython-input-12-888783d67506>\u001b[0m in \u001b[0;36mtrain_one_epoch\u001b[0;34m(self, train_loader)\u001b[0m\n\u001b[1;32m    111\u001b[0m         \u001b[0mepoch_mae_loss\u001b[0m \u001b[0;34m=\u001b[0m \u001b[0mAverageMeter\u001b[0m\u001b[0;34m(\u001b[0m\u001b[0;34m)\u001b[0m\u001b[0;34m\u001b[0m\u001b[0;34m\u001b[0m\u001b[0m\n\u001b[1;32m    112\u001b[0m         \u001b[0mt\u001b[0m \u001b[0;34m=\u001b[0m \u001b[0mtime\u001b[0m\u001b[0;34m.\u001b[0m\u001b[0mtime\u001b[0m\u001b[0;34m(\u001b[0m\u001b[0;34m)\u001b[0m\u001b[0;34m\u001b[0m\u001b[0;34m\u001b[0m\u001b[0m\n\u001b[0;32m--> 113\u001b[0;31m         \u001b[0;32mfor\u001b[0m \u001b[0mstep\u001b[0m\u001b[0;34m,\u001b[0m \u001b[0;34m(\u001b[0m\u001b[0mimages\u001b[0m\u001b[0;34m,\u001b[0m \u001b[0mdensity_maps\u001b[0m\u001b[0;34m,\u001b[0m \u001b[0mfns\u001b[0m\u001b[0;34m,\u001b[0m \u001b[0mgt_pts\u001b[0m\u001b[0;34m)\u001b[0m \u001b[0;32min\u001b[0m \u001b[0menumerate\u001b[0m\u001b[0;34m(\u001b[0m\u001b[0mtrain_loader\u001b[0m\u001b[0;34m)\u001b[0m\u001b[0;34m:\u001b[0m\u001b[0;34m\u001b[0m\u001b[0;34m\u001b[0m\u001b[0m\n\u001b[0m\u001b[1;32m    114\u001b[0m             \u001b[0;32mif\u001b[0m \u001b[0mself\u001b[0m\u001b[0;34m.\u001b[0m\u001b[0mconfig\u001b[0m\u001b[0;34m.\u001b[0m\u001b[0mverbose\u001b[0m\u001b[0;34m:\u001b[0m\u001b[0;34m\u001b[0m\u001b[0;34m\u001b[0m\u001b[0m\n\u001b[1;32m    115\u001b[0m                 \u001b[0;32mif\u001b[0m \u001b[0mstep\u001b[0m \u001b[0;34m%\u001b[0m \u001b[0mself\u001b[0m\u001b[0;34m.\u001b[0m\u001b[0mconfig\u001b[0m\u001b[0;34m.\u001b[0m\u001b[0mverbose_step\u001b[0m \u001b[0;34m==\u001b[0m \u001b[0;36m0\u001b[0m\u001b[0;34m:\u001b[0m\u001b[0;34m\u001b[0m\u001b[0;34m\u001b[0m\u001b[0m\n",
      "\u001b[0;32m~/.Miniconda3/envs/f4774e49c9ffe87fb0928ec97f8ff682/lib/python3.7/site-packages/torch/utils/data/dataloader.py\u001b[0m in \u001b[0;36m__next__\u001b[0;34m(self)\u001b[0m\n\u001b[1;32m    433\u001b[0m         \u001b[0;32mif\u001b[0m \u001b[0mself\u001b[0m\u001b[0;34m.\u001b[0m\u001b[0m_sampler_iter\u001b[0m \u001b[0;32mis\u001b[0m \u001b[0;32mNone\u001b[0m\u001b[0;34m:\u001b[0m\u001b[0;34m\u001b[0m\u001b[0;34m\u001b[0m\u001b[0m\n\u001b[1;32m    434\u001b[0m             \u001b[0mself\u001b[0m\u001b[0;34m.\u001b[0m\u001b[0m_reset\u001b[0m\u001b[0;34m(\u001b[0m\u001b[0;34m)\u001b[0m\u001b[0;34m\u001b[0m\u001b[0;34m\u001b[0m\u001b[0m\n\u001b[0;32m--> 435\u001b[0;31m         \u001b[0mdata\u001b[0m \u001b[0;34m=\u001b[0m \u001b[0mself\u001b[0m\u001b[0;34m.\u001b[0m\u001b[0m_next_data\u001b[0m\u001b[0;34m(\u001b[0m\u001b[0;34m)\u001b[0m\u001b[0;34m\u001b[0m\u001b[0;34m\u001b[0m\u001b[0m\n\u001b[0m\u001b[1;32m    436\u001b[0m         \u001b[0mself\u001b[0m\u001b[0;34m.\u001b[0m\u001b[0m_num_yielded\u001b[0m \u001b[0;34m+=\u001b[0m \u001b[0;36m1\u001b[0m\u001b[0;34m\u001b[0m\u001b[0;34m\u001b[0m\u001b[0m\n\u001b[1;32m    437\u001b[0m         \u001b[0;32mif\u001b[0m \u001b[0mself\u001b[0m\u001b[0;34m.\u001b[0m\u001b[0m_dataset_kind\u001b[0m \u001b[0;34m==\u001b[0m \u001b[0m_DatasetKind\u001b[0m\u001b[0;34m.\u001b[0m\u001b[0mIterable\u001b[0m \u001b[0;32mand\u001b[0m\u001b[0;31m \u001b[0m\u001b[0;31m\\\u001b[0m\u001b[0;34m\u001b[0m\u001b[0;34m\u001b[0m\u001b[0m\n",
      "\u001b[0;32m~/.Miniconda3/envs/f4774e49c9ffe87fb0928ec97f8ff682/lib/python3.7/site-packages/torch/utils/data/dataloader.py\u001b[0m in \u001b[0;36m_next_data\u001b[0;34m(self)\u001b[0m\n\u001b[1;32m   1066\u001b[0m \u001b[0;34m\u001b[0m\u001b[0m\n\u001b[1;32m   1067\u001b[0m             \u001b[0;32massert\u001b[0m \u001b[0;32mnot\u001b[0m \u001b[0mself\u001b[0m\u001b[0;34m.\u001b[0m\u001b[0m_shutdown\u001b[0m \u001b[0;32mand\u001b[0m \u001b[0mself\u001b[0m\u001b[0;34m.\u001b[0m\u001b[0m_tasks_outstanding\u001b[0m \u001b[0;34m>\u001b[0m \u001b[0;36m0\u001b[0m\u001b[0;34m\u001b[0m\u001b[0;34m\u001b[0m\u001b[0m\n\u001b[0;32m-> 1068\u001b[0;31m             \u001b[0midx\u001b[0m\u001b[0;34m,\u001b[0m \u001b[0mdata\u001b[0m \u001b[0;34m=\u001b[0m \u001b[0mself\u001b[0m\u001b[0;34m.\u001b[0m\u001b[0m_get_data\u001b[0m\u001b[0;34m(\u001b[0m\u001b[0;34m)\u001b[0m\u001b[0;34m\u001b[0m\u001b[0;34m\u001b[0m\u001b[0m\n\u001b[0m\u001b[1;32m   1069\u001b[0m             \u001b[0mself\u001b[0m\u001b[0;34m.\u001b[0m\u001b[0m_tasks_outstanding\u001b[0m \u001b[0;34m-=\u001b[0m \u001b[0;36m1\u001b[0m\u001b[0;34m\u001b[0m\u001b[0;34m\u001b[0m\u001b[0m\n\u001b[1;32m   1070\u001b[0m             \u001b[0;32mif\u001b[0m \u001b[0mself\u001b[0m\u001b[0;34m.\u001b[0m\u001b[0m_dataset_kind\u001b[0m \u001b[0;34m==\u001b[0m \u001b[0m_DatasetKind\u001b[0m\u001b[0;34m.\u001b[0m\u001b[0mIterable\u001b[0m\u001b[0;34m:\u001b[0m\u001b[0;34m\u001b[0m\u001b[0;34m\u001b[0m\u001b[0m\n",
      "\u001b[0;32m~/.Miniconda3/envs/f4774e49c9ffe87fb0928ec97f8ff682/lib/python3.7/site-packages/torch/utils/data/dataloader.py\u001b[0m in \u001b[0;36m_get_data\u001b[0;34m(self)\u001b[0m\n\u001b[1;32m   1032\u001b[0m         \u001b[0;32melse\u001b[0m\u001b[0;34m:\u001b[0m\u001b[0;34m\u001b[0m\u001b[0;34m\u001b[0m\u001b[0m\n\u001b[1;32m   1033\u001b[0m             \u001b[0;32mwhile\u001b[0m \u001b[0;32mTrue\u001b[0m\u001b[0;34m:\u001b[0m\u001b[0;34m\u001b[0m\u001b[0;34m\u001b[0m\u001b[0m\n\u001b[0;32m-> 1034\u001b[0;31m                 \u001b[0msuccess\u001b[0m\u001b[0;34m,\u001b[0m \u001b[0mdata\u001b[0m \u001b[0;34m=\u001b[0m \u001b[0mself\u001b[0m\u001b[0;34m.\u001b[0m\u001b[0m_try_get_data\u001b[0m\u001b[0;34m(\u001b[0m\u001b[0;34m)\u001b[0m\u001b[0;34m\u001b[0m\u001b[0;34m\u001b[0m\u001b[0m\n\u001b[0m\u001b[1;32m   1035\u001b[0m                 \u001b[0;32mif\u001b[0m \u001b[0msuccess\u001b[0m\u001b[0;34m:\u001b[0m\u001b[0;34m\u001b[0m\u001b[0;34m\u001b[0m\u001b[0m\n\u001b[1;32m   1036\u001b[0m                     \u001b[0;32mreturn\u001b[0m \u001b[0mdata\u001b[0m\u001b[0;34m\u001b[0m\u001b[0;34m\u001b[0m\u001b[0m\n",
      "\u001b[0;32m~/.Miniconda3/envs/f4774e49c9ffe87fb0928ec97f8ff682/lib/python3.7/site-packages/torch/utils/data/dataloader.py\u001b[0m in \u001b[0;36m_try_get_data\u001b[0;34m(self, timeout)\u001b[0m\n\u001b[1;32m    870\u001b[0m         \u001b[0;31m#   (bool: whether successfully get data, any: data if successful else None)\u001b[0m\u001b[0;34m\u001b[0m\u001b[0;34m\u001b[0m\u001b[0;34m\u001b[0m\u001b[0m\n\u001b[1;32m    871\u001b[0m         \u001b[0;32mtry\u001b[0m\u001b[0;34m:\u001b[0m\u001b[0;34m\u001b[0m\u001b[0;34m\u001b[0m\u001b[0m\n\u001b[0;32m--> 872\u001b[0;31m             \u001b[0mdata\u001b[0m \u001b[0;34m=\u001b[0m \u001b[0mself\u001b[0m\u001b[0;34m.\u001b[0m\u001b[0m_data_queue\u001b[0m\u001b[0;34m.\u001b[0m\u001b[0mget\u001b[0m\u001b[0;34m(\u001b[0m\u001b[0mtimeout\u001b[0m\u001b[0;34m=\u001b[0m\u001b[0mtimeout\u001b[0m\u001b[0;34m)\u001b[0m\u001b[0;34m\u001b[0m\u001b[0;34m\u001b[0m\u001b[0m\n\u001b[0m\u001b[1;32m    873\u001b[0m             \u001b[0;32mreturn\u001b[0m \u001b[0;34m(\u001b[0m\u001b[0;32mTrue\u001b[0m\u001b[0;34m,\u001b[0m \u001b[0mdata\u001b[0m\u001b[0;34m)\u001b[0m\u001b[0;34m\u001b[0m\u001b[0;34m\u001b[0m\u001b[0m\n\u001b[1;32m    874\u001b[0m         \u001b[0;32mexcept\u001b[0m \u001b[0mException\u001b[0m \u001b[0;32mas\u001b[0m \u001b[0me\u001b[0m\u001b[0;34m:\u001b[0m\u001b[0;34m\u001b[0m\u001b[0;34m\u001b[0m\u001b[0m\n",
      "\u001b[0;32m~/.Miniconda3/envs/f4774e49c9ffe87fb0928ec97f8ff682/lib/python3.7/multiprocessing/queues.py\u001b[0m in \u001b[0;36mget\u001b[0;34m(self, block, timeout)\u001b[0m\n\u001b[1;32m    102\u001b[0m                 \u001b[0;32mif\u001b[0m \u001b[0mblock\u001b[0m\u001b[0;34m:\u001b[0m\u001b[0;34m\u001b[0m\u001b[0;34m\u001b[0m\u001b[0m\n\u001b[1;32m    103\u001b[0m                     \u001b[0mtimeout\u001b[0m \u001b[0;34m=\u001b[0m \u001b[0mdeadline\u001b[0m \u001b[0;34m-\u001b[0m \u001b[0mtime\u001b[0m\u001b[0;34m.\u001b[0m\u001b[0mmonotonic\u001b[0m\u001b[0;34m(\u001b[0m\u001b[0;34m)\u001b[0m\u001b[0;34m\u001b[0m\u001b[0;34m\u001b[0m\u001b[0m\n\u001b[0;32m--> 104\u001b[0;31m                     \u001b[0;32mif\u001b[0m \u001b[0;32mnot\u001b[0m \u001b[0mself\u001b[0m\u001b[0;34m.\u001b[0m\u001b[0m_poll\u001b[0m\u001b[0;34m(\u001b[0m\u001b[0mtimeout\u001b[0m\u001b[0;34m)\u001b[0m\u001b[0;34m:\u001b[0m\u001b[0;34m\u001b[0m\u001b[0;34m\u001b[0m\u001b[0m\n\u001b[0m\u001b[1;32m    105\u001b[0m                         \u001b[0;32mraise\u001b[0m \u001b[0mEmpty\u001b[0m\u001b[0;34m\u001b[0m\u001b[0;34m\u001b[0m\u001b[0m\n\u001b[1;32m    106\u001b[0m                 \u001b[0;32melif\u001b[0m \u001b[0;32mnot\u001b[0m \u001b[0mself\u001b[0m\u001b[0;34m.\u001b[0m\u001b[0m_poll\u001b[0m\u001b[0;34m(\u001b[0m\u001b[0;34m)\u001b[0m\u001b[0;34m:\u001b[0m\u001b[0;34m\u001b[0m\u001b[0;34m\u001b[0m\u001b[0m\n",
      "\u001b[0;32m~/.Miniconda3/envs/f4774e49c9ffe87fb0928ec97f8ff682/lib/python3.7/multiprocessing/connection.py\u001b[0m in \u001b[0;36mpoll\u001b[0;34m(self, timeout)\u001b[0m\n\u001b[1;32m    255\u001b[0m         \u001b[0mself\u001b[0m\u001b[0;34m.\u001b[0m\u001b[0m_check_closed\u001b[0m\u001b[0;34m(\u001b[0m\u001b[0;34m)\u001b[0m\u001b[0;34m\u001b[0m\u001b[0;34m\u001b[0m\u001b[0m\n\u001b[1;32m    256\u001b[0m         \u001b[0mself\u001b[0m\u001b[0;34m.\u001b[0m\u001b[0m_check_readable\u001b[0m\u001b[0;34m(\u001b[0m\u001b[0;34m)\u001b[0m\u001b[0;34m\u001b[0m\u001b[0;34m\u001b[0m\u001b[0m\n\u001b[0;32m--> 257\u001b[0;31m         \u001b[0;32mreturn\u001b[0m \u001b[0mself\u001b[0m\u001b[0;34m.\u001b[0m\u001b[0m_poll\u001b[0m\u001b[0;34m(\u001b[0m\u001b[0mtimeout\u001b[0m\u001b[0;34m)\u001b[0m\u001b[0;34m\u001b[0m\u001b[0;34m\u001b[0m\u001b[0m\n\u001b[0m\u001b[1;32m    258\u001b[0m \u001b[0;34m\u001b[0m\u001b[0m\n\u001b[1;32m    259\u001b[0m     \u001b[0;32mdef\u001b[0m \u001b[0m__enter__\u001b[0m\u001b[0;34m(\u001b[0m\u001b[0mself\u001b[0m\u001b[0;34m)\u001b[0m\u001b[0;34m:\u001b[0m\u001b[0;34m\u001b[0m\u001b[0;34m\u001b[0m\u001b[0m\n",
      "\u001b[0;32m~/.Miniconda3/envs/f4774e49c9ffe87fb0928ec97f8ff682/lib/python3.7/multiprocessing/connection.py\u001b[0m in \u001b[0;36m_poll\u001b[0;34m(self, timeout)\u001b[0m\n\u001b[1;32m    412\u001b[0m \u001b[0;34m\u001b[0m\u001b[0m\n\u001b[1;32m    413\u001b[0m     \u001b[0;32mdef\u001b[0m \u001b[0m_poll\u001b[0m\u001b[0;34m(\u001b[0m\u001b[0mself\u001b[0m\u001b[0;34m,\u001b[0m \u001b[0mtimeout\u001b[0m\u001b[0;34m)\u001b[0m\u001b[0;34m:\u001b[0m\u001b[0;34m\u001b[0m\u001b[0;34m\u001b[0m\u001b[0m\n\u001b[0;32m--> 414\u001b[0;31m         \u001b[0mr\u001b[0m \u001b[0;34m=\u001b[0m \u001b[0mwait\u001b[0m\u001b[0;34m(\u001b[0m\u001b[0;34m[\u001b[0m\u001b[0mself\u001b[0m\u001b[0;34m]\u001b[0m\u001b[0;34m,\u001b[0m \u001b[0mtimeout\u001b[0m\u001b[0;34m)\u001b[0m\u001b[0;34m\u001b[0m\u001b[0;34m\u001b[0m\u001b[0m\n\u001b[0m\u001b[1;32m    415\u001b[0m         \u001b[0;32mreturn\u001b[0m \u001b[0mbool\u001b[0m\u001b[0;34m(\u001b[0m\u001b[0mr\u001b[0m\u001b[0;34m)\u001b[0m\u001b[0;34m\u001b[0m\u001b[0;34m\u001b[0m\u001b[0m\n\u001b[1;32m    416\u001b[0m \u001b[0;34m\u001b[0m\u001b[0m\n",
      "\u001b[0;32m~/.Miniconda3/envs/f4774e49c9ffe87fb0928ec97f8ff682/lib/python3.7/multiprocessing/connection.py\u001b[0m in \u001b[0;36mwait\u001b[0;34m(object_list, timeout)\u001b[0m\n\u001b[1;32m    919\u001b[0m \u001b[0;34m\u001b[0m\u001b[0m\n\u001b[1;32m    920\u001b[0m             \u001b[0;32mwhile\u001b[0m \u001b[0;32mTrue\u001b[0m\u001b[0;34m:\u001b[0m\u001b[0;34m\u001b[0m\u001b[0;34m\u001b[0m\u001b[0m\n\u001b[0;32m--> 921\u001b[0;31m                 \u001b[0mready\u001b[0m \u001b[0;34m=\u001b[0m \u001b[0mselector\u001b[0m\u001b[0;34m.\u001b[0m\u001b[0mselect\u001b[0m\u001b[0;34m(\u001b[0m\u001b[0mtimeout\u001b[0m\u001b[0;34m)\u001b[0m\u001b[0;34m\u001b[0m\u001b[0;34m\u001b[0m\u001b[0m\n\u001b[0m\u001b[1;32m    922\u001b[0m                 \u001b[0;32mif\u001b[0m \u001b[0mready\u001b[0m\u001b[0;34m:\u001b[0m\u001b[0;34m\u001b[0m\u001b[0;34m\u001b[0m\u001b[0m\n\u001b[1;32m    923\u001b[0m                     \u001b[0;32mreturn\u001b[0m \u001b[0;34m[\u001b[0m\u001b[0mkey\u001b[0m\u001b[0;34m.\u001b[0m\u001b[0mfileobj\u001b[0m \u001b[0;32mfor\u001b[0m \u001b[0;34m(\u001b[0m\u001b[0mkey\u001b[0m\u001b[0;34m,\u001b[0m \u001b[0mevents\u001b[0m\u001b[0;34m)\u001b[0m \u001b[0;32min\u001b[0m \u001b[0mready\u001b[0m\u001b[0;34m]\u001b[0m\u001b[0;34m\u001b[0m\u001b[0;34m\u001b[0m\u001b[0m\n",
      "\u001b[0;32m~/.Miniconda3/envs/f4774e49c9ffe87fb0928ec97f8ff682/lib/python3.7/selectors.py\u001b[0m in \u001b[0;36mselect\u001b[0;34m(self, timeout)\u001b[0m\n\u001b[1;32m    413\u001b[0m         \u001b[0mready\u001b[0m \u001b[0;34m=\u001b[0m \u001b[0;34m[\u001b[0m\u001b[0;34m]\u001b[0m\u001b[0;34m\u001b[0m\u001b[0;34m\u001b[0m\u001b[0m\n\u001b[1;32m    414\u001b[0m         \u001b[0;32mtry\u001b[0m\u001b[0;34m:\u001b[0m\u001b[0;34m\u001b[0m\u001b[0;34m\u001b[0m\u001b[0m\n\u001b[0;32m--> 415\u001b[0;31m             \u001b[0mfd_event_list\u001b[0m \u001b[0;34m=\u001b[0m \u001b[0mself\u001b[0m\u001b[0;34m.\u001b[0m\u001b[0m_selector\u001b[0m\u001b[0;34m.\u001b[0m\u001b[0mpoll\u001b[0m\u001b[0;34m(\u001b[0m\u001b[0mtimeout\u001b[0m\u001b[0;34m)\u001b[0m\u001b[0;34m\u001b[0m\u001b[0;34m\u001b[0m\u001b[0m\n\u001b[0m\u001b[1;32m    416\u001b[0m         \u001b[0;32mexcept\u001b[0m \u001b[0mInterruptedError\u001b[0m\u001b[0;34m:\u001b[0m\u001b[0;34m\u001b[0m\u001b[0;34m\u001b[0m\u001b[0m\n\u001b[1;32m    417\u001b[0m             \u001b[0;32mreturn\u001b[0m \u001b[0mready\u001b[0m\u001b[0;34m\u001b[0m\u001b[0;34m\u001b[0m\u001b[0m\n",
      "\u001b[0;31mKeyboardInterrupt\u001b[0m: "
     ]
    }
   ],
   "source": [
    "run_training()"
   ]
  },
  {
   "cell_type": "code",
   "execution_count": 15,
   "metadata": {},
   "outputs": [
    {
     "name": "stdout",
     "output_type": "stream",
     "text": [
      "> \u001b[0;32m/mnt/home/hheat/USERDIR/counting-bench/nbs/loss/bregman_pytorch.py\u001b[0m(270)\u001b[0;36msinkhorn_knopp\u001b[0;34m()\u001b[0m\n",
      "\u001b[0;32m    268 \u001b[0;31m        \u001b[0mv\u001b[0m \u001b[0;34m=\u001b[0m \u001b[0mtorch\u001b[0m\u001b[0;34m.\u001b[0m\u001b[0mdiv\u001b[0m\u001b[0;34m(\u001b[0m\u001b[0mb\u001b[0m\u001b[0;34m,\u001b[0m \u001b[0mKTu\u001b[0m \u001b[0;34m+\u001b[0m \u001b[0mM_EPS\u001b[0m\u001b[0;34m)\u001b[0m\u001b[0;34m\u001b[0m\u001b[0;34m\u001b[0m\u001b[0m\n",
      "\u001b[0m\u001b[0;32m    269 \u001b[0;31m        \u001b[0mtorch\u001b[0m\u001b[0;34m.\u001b[0m\u001b[0mmatmul\u001b[0m\u001b[0;34m(\u001b[0m\u001b[0mK\u001b[0m\u001b[0;34m,\u001b[0m \u001b[0mv\u001b[0m\u001b[0;34m,\u001b[0m \u001b[0mout\u001b[0m\u001b[0;34m=\u001b[0m\u001b[0mKv\u001b[0m\u001b[0;34m)\u001b[0m\u001b[0;34m\u001b[0m\u001b[0;34m\u001b[0m\u001b[0m\n",
      "\u001b[0m\u001b[0;32m--> 270 \u001b[0;31m        \u001b[0mu\u001b[0m \u001b[0;34m=\u001b[0m \u001b[0mtorch\u001b[0m\u001b[0;34m.\u001b[0m\u001b[0mdiv\u001b[0m\u001b[0;34m(\u001b[0m\u001b[0ma\u001b[0m\u001b[0;34m,\u001b[0m \u001b[0mKv\u001b[0m \u001b[0;34m+\u001b[0m \u001b[0mM_EPS\u001b[0m\u001b[0;34m)\u001b[0m\u001b[0;34m\u001b[0m\u001b[0;34m\u001b[0m\u001b[0m\n",
      "\u001b[0m\u001b[0;32m    271 \u001b[0;31m\u001b[0;34m\u001b[0m\u001b[0m\n",
      "\u001b[0m\u001b[0;32m    272 \u001b[0;31m        \u001b[0;32mif\u001b[0m \u001b[0mtorch\u001b[0m\u001b[0;34m.\u001b[0m\u001b[0many\u001b[0m\u001b[0;34m(\u001b[0m\u001b[0mtorch\u001b[0m\u001b[0;34m.\u001b[0m\u001b[0misnan\u001b[0m\u001b[0;34m(\u001b[0m\u001b[0mu\u001b[0m\u001b[0;34m)\u001b[0m\u001b[0;34m)\u001b[0m \u001b[0;32mor\u001b[0m \u001b[0mtorch\u001b[0m\u001b[0;34m.\u001b[0m\u001b[0many\u001b[0m\u001b[0;34m(\u001b[0m\u001b[0mtorch\u001b[0m\u001b[0;34m.\u001b[0m\u001b[0misnan\u001b[0m\u001b[0;34m(\u001b[0m\u001b[0mv\u001b[0m\u001b[0;34m)\u001b[0m\u001b[0;34m)\u001b[0m \u001b[0;32mor\u001b[0m\u001b[0;31m \u001b[0m\u001b[0;31m\\\u001b[0m\u001b[0;34m\u001b[0m\u001b[0;34m\u001b[0m\u001b[0m\n",
      "\u001b[0m\n",
      "ipdb> a.shape\n",
      "a = tensor([0.3333, 0.3333, 0.3333], device='cuda:0')\n",
      "b = tensor([[0.0002],\n",
      "        [0.0003],\n",
      "        [0.0003],\n",
      "        ...,\n",
      "        [0.0002],\n",
      "        [0.0003],\n",
      "        [0.0003]], device='cuda:0')\n",
      "C = tensor([[201106., 194210., 187434.,  ...,    -inf,    -inf,    -inf],\n",
      "        [ 35698.,  35330.,  35090.,  ...,    -inf,    -inf,    -inf],\n",
      "        [ 58097.,  58097.,  58225.,  ...,    -inf,    -inf,    -inf]],\n",
      "       device='cuda:0')\n",
      "reg = 10.0\n",
      "maxIter = 100\n",
      "stopThr = 1e-09\n",
      "verbose = False\n",
      "log = {'err': []}\n",
      "warm_start = None\n",
      "eval_freq = 10\n",
      "print_freq = 200\n",
      "kwargs = {'numItermax': 1000}\n",
      "ipdb> ll\n",
      "\u001b[1;32m    187 \u001b[0mdef sinkhorn_knopp(a, b, C, reg=1e-1, maxIter=1000, stopThr=1e-9,\n",
      "\u001b[1;32m    188 \u001b[0m                   verbose=False, log=False, warm_start=None, eval_freq=10, print_freq=200, **kwargs):\n",
      "\u001b[1;32m    189 \u001b[0m    \"\"\"\n",
      "\u001b[1;32m    190 \u001b[0m    \u001b[0mSolve\u001b[0m \u001b[0mthe\u001b[0m \u001b[0mentropic\u001b[0m \u001b[0mregularization\u001b[0m \u001b[0moptimal\u001b[0m \u001b[0mtransport\u001b[0m\u001b[0;34m\u001b[0m\u001b[0;34m\u001b[0m\u001b[0m\n",
      "\u001b[1;32m    191 \u001b[0m    \u001b[0mThe\u001b[0m \u001b[0minput\u001b[0m \u001b[0mshould\u001b[0m \u001b[0mbe\u001b[0m \u001b[0mPyTorch\u001b[0m \u001b[0mtensors\u001b[0m\u001b[0;34m\u001b[0m\u001b[0;34m\u001b[0m\u001b[0m\n",
      "\u001b[1;32m    192 \u001b[0m    \u001b[0mThe\u001b[0m \u001b[0mfunction\u001b[0m \u001b[0msolves\u001b[0m \u001b[0mthe\u001b[0m \u001b[0mfollowing\u001b[0m \u001b[0moptimization\u001b[0m \u001b[0mproblem\u001b[0m\u001b[0;34m:\u001b[0m\u001b[0;34m\u001b[0m\u001b[0;34m\u001b[0m\u001b[0m\n",
      "\u001b[1;32m    193 \u001b[0m    \u001b[0;34m.\u001b[0m\u001b[0;34m.\u001b[0m \u001b[0mmath\u001b[0m\u001b[0;34m:\u001b[0m\u001b[0;34m:\u001b[0m\u001b[0;34m\u001b[0m\u001b[0;34m\u001b[0m\u001b[0m\n",
      "\u001b[1;32m    194 \u001b[0m        \u001b[0;31m\\\u001b[0m\u001b[0mgamma\u001b[0m \u001b[0;34m=\u001b[0m \u001b[0marg\u001b[0m\u001b[0;31m\\\u001b[0m\u001b[0mmin_\u001b[0m\u001b[0;31m\\\u001b[0m\u001b[0mgamma\u001b[0m \u001b[0;34m<\u001b[0m\u001b[0;31m\\\u001b[0m\u001b[0mgamma\u001b[0m\u001b[0;34m,\u001b[0m\u001b[0mC\u001b[0m\u001b[0;34m>\u001b[0m\u001b[0m_F\u001b[0m \u001b[0;34m+\u001b[0m \u001b[0mreg\u001b[0m\u001b[0;31m\\\u001b[0m\u001b[0mcdot\u001b[0m\u001b[0;31m\\\u001b[0m\u001b[0mOmega\u001b[0m\u001b[0;34m(\u001b[0m\u001b[0;31m\\\u001b[0m\u001b[0mgamma\u001b[0m\u001b[0;34m)\u001b[0m\u001b[0;34m\u001b[0m\u001b[0;34m\u001b[0m\u001b[0m\n",
      "\u001b[1;32m    195 \u001b[0m        \u001b[0ms\u001b[0m\u001b[0;34m.\u001b[0m\u001b[0mt\u001b[0m\u001b[0;34m.\u001b[0m\u001b[0;31m \u001b[0m\u001b[0;31m\\\u001b[0m\u001b[0mgamma\u001b[0m \u001b[0;36m1\u001b[0m \u001b[0;34m=\u001b[0m \u001b[0ma\u001b[0m\u001b[0;34m\u001b[0m\u001b[0;34m\u001b[0m\u001b[0m\n",
      "\u001b[1;32m    196 \u001b[0m             \u001b[0;31m\\\u001b[0m\u001b[0mgamma\u001b[0m\u001b[0;34m^\u001b[0m\u001b[0mT\u001b[0m \u001b[0;36m1\u001b[0m\u001b[0;34m=\u001b[0m \u001b[0mb\u001b[0m\u001b[0;34m\u001b[0m\u001b[0;34m\u001b[0m\u001b[0m\n",
      "\u001b[1;32m    197 \u001b[0m             \u001b[0;31m\\\u001b[0m\u001b[0mgamma\u001b[0m\u001b[0;31m\\\u001b[0m\u001b[0mgeq\u001b[0m \u001b[0;36m0\u001b[0m\u001b[0;34m\u001b[0m\u001b[0;34m\u001b[0m\u001b[0m\n",
      "\u001b[1;32m    198 \u001b[0m    \u001b[0mwhere\u001b[0m \u001b[0;34m:\u001b[0m\u001b[0;34m\u001b[0m\u001b[0;34m\u001b[0m\u001b[0m\n",
      "\u001b[1;32m    199 \u001b[0m    \u001b[0;34m-\u001b[0m \u001b[0mC\u001b[0m \u001b[0;32mis\u001b[0m \u001b[0mthe\u001b[0m \u001b[0;34m(\u001b[0m\u001b[0mns\u001b[0m\u001b[0;34m,\u001b[0m\u001b[0mnt\u001b[0m\u001b[0;34m)\u001b[0m \u001b[0mmetric\u001b[0m \u001b[0mcost\u001b[0m \u001b[0mmatrix\u001b[0m\u001b[0;34m\u001b[0m\u001b[0;34m\u001b[0m\u001b[0m\n",
      "\u001b[1;32m    200 \u001b[0m    \u001b[0;34m-\u001b[0m \u001b[0;34m:\u001b[0m\u001b[0mmath\u001b[0m\u001b[0;34m:\u001b[0m\u001b[0;31m`\u001b[0m\u001b[0;31m\\\u001b[0m\u001b[0mOmega\u001b[0m\u001b[0;31m`\u001b[0m \u001b[0;32mis\u001b[0m \u001b[0mthe\u001b[0m \u001b[0mentropic\u001b[0m \u001b[0mregularization\u001b[0m \u001b[0mterm\u001b[0m \u001b[0;34m:\u001b[0m\u001b[0mmath\u001b[0m\u001b[0;34m:\u001b[0m\u001b[0;31m`\u001b[0m\u001b[0;31m\\\u001b[0m\u001b[0mOmega\u001b[0m\u001b[0;34m(\u001b[0m\u001b[0;31m\\\u001b[0m\u001b[0mgamma\u001b[0m\u001b[0;34m)\u001b[0m\u001b[0;34m=\u001b[0m\u001b[0;31m\\\u001b[0m\u001b[0msum_\u001b[0m\u001b[0;34m{\u001b[0m\u001b[0mi\u001b[0m\u001b[0;34m,\u001b[0m\u001b[0mj\u001b[0m\u001b[0;34m}\u001b[0m\u001b[0;31m \u001b[0m\u001b[0;31m\\\u001b[0m\u001b[0mgamma_\u001b[0m\u001b[0;34m{\u001b[0m\u001b[0mi\u001b[0m\u001b[0;34m,\u001b[0m\u001b[0mj\u001b[0m\u001b[0;34m}\u001b[0m\u001b[0;31m\\\u001b[0m\u001b[0mlog\u001b[0m\u001b[0;34m(\u001b[0m\u001b[0;31m\\\u001b[0m\u001b[0mgamma_\u001b[0m\u001b[0;34m{\u001b[0m\u001b[0mi\u001b[0m\u001b[0;34m,\u001b[0m\u001b[0mj\u001b[0m\u001b[0;34m}\u001b[0m\u001b[0;34m)\u001b[0m\u001b[0;31m`\u001b[0m\u001b[0;34m\u001b[0m\u001b[0;34m\u001b[0m\u001b[0m\n",
      "\u001b[1;32m    201 \u001b[0m    \u001b[0;34m-\u001b[0m \u001b[0ma\u001b[0m \u001b[0;32mand\u001b[0m \u001b[0mb\u001b[0m \u001b[0mare\u001b[0m \u001b[0mtarget\u001b[0m \u001b[0;32mand\u001b[0m \u001b[0msource\u001b[0m \u001b[0mmeasures\u001b[0m \u001b[0;34m(\u001b[0m\u001b[0msum\u001b[0m \u001b[0mto\u001b[0m \u001b[0;36m1\u001b[0m\u001b[0;34m)\u001b[0m\u001b[0;34m\u001b[0m\u001b[0;34m\u001b[0m\u001b[0m\n",
      "\u001b[1;32m    202 \u001b[0m    \u001b[0mThe\u001b[0m \u001b[0malgorithm\u001b[0m \u001b[0mused\u001b[0m \u001b[0;32mfor\u001b[0m \u001b[0msolving\u001b[0m \u001b[0mthe\u001b[0m \u001b[0mproblem\u001b[0m \u001b[0;32mis\u001b[0m \u001b[0mthe\u001b[0m \u001b[0mSinkhorn\u001b[0m\u001b[0;34m-\u001b[0m\u001b[0mKnopp\u001b[0m \u001b[0mmatrix\u001b[0m \u001b[0mscaling\u001b[0m \u001b[0malgorithm\u001b[0m \u001b[0;32mas\u001b[0m \u001b[0mproposed\u001b[0m \u001b[0;32min\u001b[0m \u001b[0;34m[\u001b[0m\u001b[0;36m1\u001b[0m\u001b[0;34m]\u001b[0m\u001b[0;34m.\u001b[0m\u001b[0;34m\u001b[0m\u001b[0;34m\u001b[0m\u001b[0m\n",
      "\u001b[1;32m    203 \u001b[0m    \u001b[0mParameters\u001b[0m\u001b[0;34m\u001b[0m\u001b[0;34m\u001b[0m\u001b[0m\n",
      "\u001b[1;32m    204 \u001b[0m    \u001b[0;34m-\u001b[0m\u001b[0;34m-\u001b[0m\u001b[0;34m-\u001b[0m\u001b[0;34m-\u001b[0m\u001b[0;34m-\u001b[0m\u001b[0;34m-\u001b[0m\u001b[0;34m-\u001b[0m\u001b[0;34m-\u001b[0m\u001b[0;34m-\u001b[0m\u001b[0;34m-\u001b[0m\u001b[0;34m\u001b[0m\u001b[0;34m\u001b[0m\u001b[0m\n",
      "\u001b[1;32m    205 \u001b[0m    \u001b[0ma\u001b[0m \u001b[0;34m:\u001b[0m \u001b[0mtorch\u001b[0m\u001b[0;34m.\u001b[0m\u001b[0mtensor\u001b[0m \u001b[0;34m(\u001b[0m\u001b[0mna\u001b[0m\u001b[0;34m,\u001b[0m\u001b[0;34m)\u001b[0m\u001b[0;34m\u001b[0m\u001b[0;34m\u001b[0m\u001b[0m\n",
      "\u001b[1;32m    206 \u001b[0m        \u001b[0msamples\u001b[0m \u001b[0mmeasure\u001b[0m \u001b[0;32min\u001b[0m \u001b[0mthe\u001b[0m \u001b[0mtarget\u001b[0m \u001b[0mdomain\u001b[0m\u001b[0;34m\u001b[0m\u001b[0;34m\u001b[0m\u001b[0m\n",
      "\u001b[1;32m    207 \u001b[0m    \u001b[0mb\u001b[0m \u001b[0;34m:\u001b[0m \u001b[0mtorch\u001b[0m\u001b[0;34m.\u001b[0m\u001b[0mtensor\u001b[0m \u001b[0;34m(\u001b[0m\u001b[0mnb\u001b[0m\u001b[0;34m,\u001b[0m\u001b[0;34m)\u001b[0m\u001b[0;34m\u001b[0m\u001b[0;34m\u001b[0m\u001b[0m\n",
      "\u001b[1;32m    208 \u001b[0m        \u001b[0msamples\u001b[0m \u001b[0;32min\u001b[0m \u001b[0mthe\u001b[0m \u001b[0msource\u001b[0m \u001b[0mdomain\u001b[0m\u001b[0;34m\u001b[0m\u001b[0;34m\u001b[0m\u001b[0m\n",
      "\u001b[1;32m    209 \u001b[0m    \u001b[0mC\u001b[0m \u001b[0;34m:\u001b[0m \u001b[0mtorch\u001b[0m\u001b[0;34m.\u001b[0m\u001b[0mtensor\u001b[0m \u001b[0;34m(\u001b[0m\u001b[0mna\u001b[0m\u001b[0;34m,\u001b[0m\u001b[0mnb\u001b[0m\u001b[0;34m)\u001b[0m\u001b[0;34m\u001b[0m\u001b[0;34m\u001b[0m\u001b[0m\n",
      "\u001b[1;32m    210 \u001b[0m        \u001b[0mloss\u001b[0m \u001b[0mmatrix\u001b[0m\u001b[0;34m\u001b[0m\u001b[0;34m\u001b[0m\u001b[0m\n",
      "\u001b[1;32m    211 \u001b[0m    \u001b[0mreg\u001b[0m \u001b[0;34m:\u001b[0m \u001b[0mfloat\u001b[0m\u001b[0;34m\u001b[0m\u001b[0;34m\u001b[0m\u001b[0m\n",
      "\u001b[1;32m    212 \u001b[0m        \u001b[0mRegularization\u001b[0m \u001b[0mterm\u001b[0m \u001b[0;34m>\u001b[0m \u001b[0;36m0\u001b[0m\u001b[0;34m\u001b[0m\u001b[0;34m\u001b[0m\u001b[0m\n",
      "\u001b[1;32m    213 \u001b[0m    \u001b[0mmaxIter\u001b[0m \u001b[0;34m:\u001b[0m \u001b[0mint\u001b[0m\u001b[0;34m,\u001b[0m \u001b[0moptional\u001b[0m\u001b[0;34m\u001b[0m\u001b[0;34m\u001b[0m\u001b[0m\n",
      "\u001b[1;32m    214 \u001b[0m        \u001b[0mMax\u001b[0m \u001b[0mnumber\u001b[0m \u001b[0mof\u001b[0m \u001b[0miterations\u001b[0m\u001b[0;34m\u001b[0m\u001b[0;34m\u001b[0m\u001b[0m\n",
      "\u001b[1;32m    215 \u001b[0m    \u001b[0mstopThr\u001b[0m \u001b[0;34m:\u001b[0m \u001b[0mfloat\u001b[0m\u001b[0;34m,\u001b[0m \u001b[0moptional\u001b[0m\u001b[0;34m\u001b[0m\u001b[0;34m\u001b[0m\u001b[0m\n",
      "\u001b[1;32m    216 \u001b[0m        \u001b[0mStop\u001b[0m \u001b[0mthreshol\u001b[0m \u001b[0mon\u001b[0m \u001b[0merror\u001b[0m \u001b[0;34m(\u001b[0m \u001b[0;34m>\u001b[0m \u001b[0;36m0\u001b[0m \u001b[0;34m)\u001b[0m\u001b[0;34m\u001b[0m\u001b[0;34m\u001b[0m\u001b[0m\n",
      "\u001b[1;32m    217 \u001b[0m    \u001b[0mverbose\u001b[0m \u001b[0;34m:\u001b[0m \u001b[0mbool\u001b[0m\u001b[0;34m,\u001b[0m \u001b[0moptional\u001b[0m\u001b[0;34m\u001b[0m\u001b[0;34m\u001b[0m\u001b[0m\n",
      "\u001b[1;32m    218 \u001b[0m        \u001b[0mPrint\u001b[0m \u001b[0minformation\u001b[0m \u001b[0malong\u001b[0m \u001b[0miterations\u001b[0m\u001b[0;34m\u001b[0m\u001b[0;34m\u001b[0m\u001b[0m\n",
      "\u001b[1;32m    219 \u001b[0m    \u001b[0mlog\u001b[0m \u001b[0;34m:\u001b[0m \u001b[0mbool\u001b[0m\u001b[0;34m,\u001b[0m \u001b[0moptional\u001b[0m\u001b[0;34m\u001b[0m\u001b[0;34m\u001b[0m\u001b[0m\n",
      "\u001b[1;32m    220 \u001b[0m        \u001b[0mrecord\u001b[0m \u001b[0mlog\u001b[0m \u001b[0;32mif\u001b[0m \u001b[0;32mTrue\u001b[0m\u001b[0;34m\u001b[0m\u001b[0;34m\u001b[0m\u001b[0m\n",
      "\u001b[1;32m    221 \u001b[0m    \u001b[0mReturns\u001b[0m\u001b[0;34m\u001b[0m\u001b[0;34m\u001b[0m\u001b[0m\n",
      "\u001b[1;32m    222 \u001b[0m    \u001b[0;34m-\u001b[0m\u001b[0;34m-\u001b[0m\u001b[0;34m-\u001b[0m\u001b[0;34m-\u001b[0m\u001b[0;34m-\u001b[0m\u001b[0;34m-\u001b[0m\u001b[0;34m-\u001b[0m\u001b[0;34m\u001b[0m\u001b[0;34m\u001b[0m\u001b[0m\n",
      "\u001b[1;32m    223 \u001b[0m    \u001b[0mgamma\u001b[0m \u001b[0;34m:\u001b[0m \u001b[0;34m(\u001b[0m\u001b[0mna\u001b[0m \u001b[0mx\u001b[0m \u001b[0mnb\u001b[0m\u001b[0;34m)\u001b[0m \u001b[0mtorch\u001b[0m\u001b[0;34m.\u001b[0m\u001b[0mtensor\u001b[0m\u001b[0;34m\u001b[0m\u001b[0;34m\u001b[0m\u001b[0m\n",
      "\u001b[1;32m    224 \u001b[0m        \u001b[0mOptimal\u001b[0m \u001b[0mtransportation\u001b[0m \u001b[0mmatrix\u001b[0m \u001b[0;32mfor\u001b[0m \u001b[0mthe\u001b[0m \u001b[0mgiven\u001b[0m \u001b[0mparameters\u001b[0m\u001b[0;34m\u001b[0m\u001b[0;34m\u001b[0m\u001b[0m\n",
      "\u001b[1;32m    225 \u001b[0m    \u001b[0mlog\u001b[0m \u001b[0;34m:\u001b[0m \u001b[0mdict\u001b[0m\u001b[0;34m\u001b[0m\u001b[0;34m\u001b[0m\u001b[0m\n",
      "\u001b[1;32m    226 \u001b[0m        \u001b[0mlog\u001b[0m \u001b[0mdictionary\u001b[0m \u001b[0;32mreturn\u001b[0m \u001b[0monly\u001b[0m \u001b[0;32mif\u001b[0m \u001b[0mlog\u001b[0m\u001b[0;34m==\u001b[0m\u001b[0;32mTrue\u001b[0m \u001b[0;32min\u001b[0m \u001b[0mparameters\u001b[0m\u001b[0;34m\u001b[0m\u001b[0;34m\u001b[0m\u001b[0m\n",
      "\u001b[1;32m    227 \u001b[0m    \u001b[0mReferences\u001b[0m\u001b[0;34m\u001b[0m\u001b[0;34m\u001b[0m\u001b[0m\n",
      "\u001b[1;32m    228 \u001b[0m    \u001b[0;34m-\u001b[0m\u001b[0;34m-\u001b[0m\u001b[0;34m-\u001b[0m\u001b[0;34m-\u001b[0m\u001b[0;34m-\u001b[0m\u001b[0;34m-\u001b[0m\u001b[0;34m-\u001b[0m\u001b[0;34m-\u001b[0m\u001b[0;34m-\u001b[0m\u001b[0;34m-\u001b[0m\u001b[0;34m\u001b[0m\u001b[0;34m\u001b[0m\u001b[0m\n",
      "\u001b[1;32m    229 \u001b[0m    \u001b[0;34m[\u001b[0m\u001b[0;36m1\u001b[0m\u001b[0;34m]\u001b[0m \u001b[0mM\u001b[0m\u001b[0;34m.\u001b[0m \u001b[0mCuturi\u001b[0m\u001b[0;34m,\u001b[0m \u001b[0mSinkhorn\u001b[0m \u001b[0mDistances\u001b[0m \u001b[0;34m:\u001b[0m \u001b[0mLightspeed\u001b[0m \u001b[0mComputation\u001b[0m \u001b[0mof\u001b[0m \u001b[0mOptimal\u001b[0m \u001b[0mTransport\u001b[0m\u001b[0;34m,\u001b[0m \u001b[0mAdvances\u001b[0m \u001b[0;32min\u001b[0m \u001b[0mNeural\u001b[0m \u001b[0mInformation\u001b[0m \u001b[0mProcessing\u001b[0m \u001b[0mSystems\u001b[0m \u001b[0;34m(\u001b[0m\u001b[0mNIPS\u001b[0m\u001b[0;34m)\u001b[0m \u001b[0;36m26\u001b[0m\u001b[0;34m,\u001b[0m \u001b[0;36m2013\u001b[0m\u001b[0;34m\u001b[0m\u001b[0;34m\u001b[0m\u001b[0m\n",
      "\u001b[1;32m    230 \u001b[0m    \u001b[0mSee\u001b[0m \u001b[0mAlso\u001b[0m\u001b[0;34m\u001b[0m\u001b[0;34m\u001b[0m\u001b[0m\n",
      "\u001b[1;32m    231 \u001b[0m    \u001b[0;34m-\u001b[0m\u001b[0;34m-\u001b[0m\u001b[0;34m-\u001b[0m\u001b[0;34m-\u001b[0m\u001b[0;34m-\u001b[0m\u001b[0;34m-\u001b[0m\u001b[0;34m-\u001b[0m\u001b[0;34m-\u001b[0m\u001b[0;34m\u001b[0m\u001b[0;34m\u001b[0m\u001b[0m\n",
      "\u001b[1;32m    232 \u001b[0m    \"\"\"\n",
      "\u001b[1;32m    233 \u001b[0m\u001b[0;34m\u001b[0m\u001b[0m\n",
      "\u001b[1;32m    234 \u001b[0m    \u001b[0mdevice\u001b[0m \u001b[0;34m=\u001b[0m \u001b[0ma\u001b[0m\u001b[0;34m.\u001b[0m\u001b[0mdevice\u001b[0m\u001b[0;34m\u001b[0m\u001b[0;34m\u001b[0m\u001b[0m\n",
      "\u001b[1;32m    235 \u001b[0m    \u001b[0mna\u001b[0m\u001b[0;34m,\u001b[0m \u001b[0mnb\u001b[0m \u001b[0;34m=\u001b[0m \u001b[0mC\u001b[0m\u001b[0;34m.\u001b[0m\u001b[0mshape\u001b[0m\u001b[0;34m\u001b[0m\u001b[0;34m\u001b[0m\u001b[0m\n",
      "\u001b[1;32m    236 \u001b[0m\u001b[0;34m\u001b[0m\u001b[0m\n",
      "\u001b[1;32m    237 \u001b[0m    \u001b[0;32massert\u001b[0m \u001b[0mna\u001b[0m \u001b[0;34m>=\u001b[0m \u001b[0;36m1\u001b[0m \u001b[0;32mand\u001b[0m \u001b[0mnb\u001b[0m \u001b[0;34m>=\u001b[0m \u001b[0;36m1\u001b[0m\u001b[0;34m,\u001b[0m \u001b[0;34m'C needs to be 2d'\u001b[0m\u001b[0;34m\u001b[0m\u001b[0;34m\u001b[0m\u001b[0m\n",
      "\u001b[1;32m    238 \u001b[0m    \u001b[0;32massert\u001b[0m \u001b[0mna\u001b[0m \u001b[0;34m==\u001b[0m \u001b[0ma\u001b[0m\u001b[0;34m.\u001b[0m\u001b[0mshape\u001b[0m\u001b[0;34m[\u001b[0m\u001b[0;36m0\u001b[0m\u001b[0;34m]\u001b[0m \u001b[0;32mand\u001b[0m \u001b[0mnb\u001b[0m \u001b[0;34m==\u001b[0m \u001b[0mb\u001b[0m\u001b[0;34m.\u001b[0m\u001b[0mshape\u001b[0m\u001b[0;34m[\u001b[0m\u001b[0;36m0\u001b[0m\u001b[0;34m]\u001b[0m\u001b[0;34m,\u001b[0m \u001b[0;34m\"Shape of a or b does't match that of C\"\u001b[0m\u001b[0;34m\u001b[0m\u001b[0;34m\u001b[0m\u001b[0m\n",
      "\u001b[1;32m    239 \u001b[0m    \u001b[0;32massert\u001b[0m \u001b[0mreg\u001b[0m \u001b[0;34m>\u001b[0m \u001b[0;36m0\u001b[0m\u001b[0;34m,\u001b[0m \u001b[0;34m'reg should be greater than 0'\u001b[0m\u001b[0;34m\u001b[0m\u001b[0;34m\u001b[0m\u001b[0m\n",
      "\u001b[1;32m    240 \u001b[0m    \u001b[0;32massert\u001b[0m \u001b[0ma\u001b[0m\u001b[0;34m.\u001b[0m\u001b[0mmin\u001b[0m\u001b[0;34m(\u001b[0m\u001b[0;34m)\u001b[0m \u001b[0;34m>=\u001b[0m \u001b[0;36m0.\u001b[0m \u001b[0;32mand\u001b[0m \u001b[0mb\u001b[0m\u001b[0;34m.\u001b[0m\u001b[0mmin\u001b[0m\u001b[0;34m(\u001b[0m\u001b[0;34m)\u001b[0m \u001b[0;34m>=\u001b[0m \u001b[0;36m0.\u001b[0m\u001b[0;34m,\u001b[0m \u001b[0;34m'Elements in a or b less than 0'\u001b[0m\u001b[0;34m\u001b[0m\u001b[0;34m\u001b[0m\u001b[0m\n",
      "\u001b[1;32m    241 \u001b[0m\u001b[0;34m\u001b[0m\u001b[0m\n",
      "\u001b[1;32m    242 \u001b[0m    \u001b[0;32mif\u001b[0m \u001b[0mlog\u001b[0m\u001b[0;34m:\u001b[0m\u001b[0;34m\u001b[0m\u001b[0;34m\u001b[0m\u001b[0m\n",
      "\u001b[1;32m    243 \u001b[0m        \u001b[0mlog\u001b[0m \u001b[0;34m=\u001b[0m \u001b[0;34m{\u001b[0m\u001b[0;34m'err'\u001b[0m\u001b[0;34m:\u001b[0m \u001b[0;34m[\u001b[0m\u001b[0;34m]\u001b[0m\u001b[0;34m}\u001b[0m\u001b[0;34m\u001b[0m\u001b[0;34m\u001b[0m\u001b[0m\n",
      "\u001b[1;32m    244 \u001b[0m\u001b[0;34m\u001b[0m\u001b[0m\n",
      "\u001b[1;32m    245 \u001b[0m    \u001b[0;32mif\u001b[0m \u001b[0mwarm_start\u001b[0m \u001b[0;32mis\u001b[0m \u001b[0;32mnot\u001b[0m \u001b[0;32mNone\u001b[0m\u001b[0;34m:\u001b[0m\u001b[0;34m\u001b[0m\u001b[0;34m\u001b[0m\u001b[0m\n",
      "\u001b[1;32m    246 \u001b[0m        \u001b[0mu\u001b[0m \u001b[0;34m=\u001b[0m \u001b[0mwarm_start\u001b[0m\u001b[0;34m[\u001b[0m\u001b[0;34m'u'\u001b[0m\u001b[0;34m]\u001b[0m\u001b[0;34m\u001b[0m\u001b[0;34m\u001b[0m\u001b[0m\n",
      "\u001b[1;32m    247 \u001b[0m        \u001b[0mv\u001b[0m \u001b[0;34m=\u001b[0m \u001b[0mwarm_start\u001b[0m\u001b[0;34m[\u001b[0m\u001b[0;34m'v'\u001b[0m\u001b[0;34m]\u001b[0m\u001b[0;34m\u001b[0m\u001b[0;34m\u001b[0m\u001b[0m\n",
      "\u001b[1;32m    248 \u001b[0m    \u001b[0;32melse\u001b[0m\u001b[0;34m:\u001b[0m\u001b[0;34m\u001b[0m\u001b[0;34m\u001b[0m\u001b[0m\n",
      "\u001b[1;32m    249 \u001b[0m        \u001b[0mu\u001b[0m \u001b[0;34m=\u001b[0m \u001b[0mtorch\u001b[0m\u001b[0;34m.\u001b[0m\u001b[0mones\u001b[0m\u001b[0;34m(\u001b[0m\u001b[0mna\u001b[0m\u001b[0;34m,\u001b[0m \u001b[0mdtype\u001b[0m\u001b[0;34m=\u001b[0m\u001b[0ma\u001b[0m\u001b[0;34m.\u001b[0m\u001b[0mdtype\u001b[0m\u001b[0;34m)\u001b[0m\u001b[0;34m.\u001b[0m\u001b[0mto\u001b[0m\u001b[0;34m(\u001b[0m\u001b[0mdevice\u001b[0m\u001b[0;34m)\u001b[0m \u001b[0;34m/\u001b[0m \u001b[0mna\u001b[0m\u001b[0;34m\u001b[0m\u001b[0;34m\u001b[0m\u001b[0m\n",
      "\u001b[1;32m    250 \u001b[0m        \u001b[0mv\u001b[0m \u001b[0;34m=\u001b[0m \u001b[0mtorch\u001b[0m\u001b[0;34m.\u001b[0m\u001b[0mones\u001b[0m\u001b[0;34m(\u001b[0m\u001b[0mnb\u001b[0m\u001b[0;34m,\u001b[0m \u001b[0mdtype\u001b[0m\u001b[0;34m=\u001b[0m\u001b[0mb\u001b[0m\u001b[0;34m.\u001b[0m\u001b[0mdtype\u001b[0m\u001b[0;34m)\u001b[0m\u001b[0;34m.\u001b[0m\u001b[0mto\u001b[0m\u001b[0;34m(\u001b[0m\u001b[0mdevice\u001b[0m\u001b[0;34m)\u001b[0m \u001b[0;34m/\u001b[0m \u001b[0mnb\u001b[0m\u001b[0;34m\u001b[0m\u001b[0;34m\u001b[0m\u001b[0m\n",
      "\u001b[1;32m    251 \u001b[0m\u001b[0;34m\u001b[0m\u001b[0m\n",
      "\u001b[1;32m    252 \u001b[0m    \u001b[0mK\u001b[0m \u001b[0;34m=\u001b[0m \u001b[0mtorch\u001b[0m\u001b[0;34m.\u001b[0m\u001b[0mempty\u001b[0m\u001b[0;34m(\u001b[0m\u001b[0mC\u001b[0m\u001b[0;34m.\u001b[0m\u001b[0mshape\u001b[0m\u001b[0;34m,\u001b[0m \u001b[0mdtype\u001b[0m\u001b[0;34m=\u001b[0m\u001b[0mC\u001b[0m\u001b[0;34m.\u001b[0m\u001b[0mdtype\u001b[0m\u001b[0;34m)\u001b[0m\u001b[0;34m.\u001b[0m\u001b[0mto\u001b[0m\u001b[0;34m(\u001b[0m\u001b[0mdevice\u001b[0m\u001b[0;34m)\u001b[0m\u001b[0;34m\u001b[0m\u001b[0;34m\u001b[0m\u001b[0m\n",
      "\u001b[1;32m    253 \u001b[0m    \u001b[0mtorch\u001b[0m\u001b[0;34m.\u001b[0m\u001b[0mdiv\u001b[0m\u001b[0;34m(\u001b[0m\u001b[0mC\u001b[0m\u001b[0;34m,\u001b[0m \u001b[0;34m-\u001b[0m\u001b[0mreg\u001b[0m\u001b[0;34m,\u001b[0m \u001b[0mout\u001b[0m\u001b[0;34m=\u001b[0m\u001b[0mK\u001b[0m\u001b[0;34m)\u001b[0m\u001b[0;34m\u001b[0m\u001b[0;34m\u001b[0m\u001b[0m\n",
      "\u001b[1;32m    254 \u001b[0m    \u001b[0mtorch\u001b[0m\u001b[0;34m.\u001b[0m\u001b[0mexp\u001b[0m\u001b[0;34m(\u001b[0m\u001b[0mK\u001b[0m\u001b[0;34m,\u001b[0m \u001b[0mout\u001b[0m\u001b[0;34m=\u001b[0m\u001b[0mK\u001b[0m\u001b[0;34m)\u001b[0m\u001b[0;34m\u001b[0m\u001b[0;34m\u001b[0m\u001b[0m\n",
      "\u001b[1;32m    255 \u001b[0m\u001b[0;34m\u001b[0m\u001b[0m\n",
      "\u001b[1;32m    256 \u001b[0m    \u001b[0mb_hat\u001b[0m \u001b[0;34m=\u001b[0m \u001b[0mtorch\u001b[0m\u001b[0;34m.\u001b[0m\u001b[0mempty\u001b[0m\u001b[0;34m(\u001b[0m\u001b[0mb\u001b[0m\u001b[0;34m.\u001b[0m\u001b[0mshape\u001b[0m\u001b[0;34m,\u001b[0m \u001b[0mdtype\u001b[0m\u001b[0;34m=\u001b[0m\u001b[0mC\u001b[0m\u001b[0;34m.\u001b[0m\u001b[0mdtype\u001b[0m\u001b[0;34m)\u001b[0m\u001b[0;34m.\u001b[0m\u001b[0mto\u001b[0m\u001b[0;34m(\u001b[0m\u001b[0mdevice\u001b[0m\u001b[0;34m)\u001b[0m\u001b[0;34m\u001b[0m\u001b[0;34m\u001b[0m\u001b[0m\n",
      "\u001b[1;32m    257 \u001b[0m\u001b[0;34m\u001b[0m\u001b[0m\n",
      "\u001b[1;32m    258 \u001b[0m    \u001b[0mit\u001b[0m \u001b[0;34m=\u001b[0m \u001b[0;36m1\u001b[0m\u001b[0;34m\u001b[0m\u001b[0;34m\u001b[0m\u001b[0m\n",
      "\u001b[1;32m    259 \u001b[0m    \u001b[0merr\u001b[0m \u001b[0;34m=\u001b[0m \u001b[0;36m1\u001b[0m\u001b[0;34m\u001b[0m\u001b[0;34m\u001b[0m\u001b[0m\n",
      "\u001b[1;32m    260 \u001b[0m\u001b[0;34m\u001b[0m\u001b[0m\n",
      "\u001b[1;32m    261 \u001b[0m    \u001b[0;31m# allocate memory beforehand\u001b[0m\u001b[0;34m\u001b[0m\u001b[0;34m\u001b[0m\u001b[0;34m\u001b[0m\u001b[0m\n",
      "\u001b[1;32m    262 \u001b[0m    \u001b[0mKTu\u001b[0m \u001b[0;34m=\u001b[0m \u001b[0mtorch\u001b[0m\u001b[0;34m.\u001b[0m\u001b[0mempty\u001b[0m\u001b[0;34m(\u001b[0m\u001b[0mv\u001b[0m\u001b[0;34m.\u001b[0m\u001b[0mshape\u001b[0m\u001b[0;34m,\u001b[0m \u001b[0mdtype\u001b[0m\u001b[0;34m=\u001b[0m\u001b[0mv\u001b[0m\u001b[0;34m.\u001b[0m\u001b[0mdtype\u001b[0m\u001b[0;34m)\u001b[0m\u001b[0;34m.\u001b[0m\u001b[0mto\u001b[0m\u001b[0;34m(\u001b[0m\u001b[0mdevice\u001b[0m\u001b[0;34m)\u001b[0m\u001b[0;34m\u001b[0m\u001b[0;34m\u001b[0m\u001b[0m\n",
      "\u001b[1;32m    263 \u001b[0m    \u001b[0mKv\u001b[0m \u001b[0;34m=\u001b[0m \u001b[0mtorch\u001b[0m\u001b[0;34m.\u001b[0m\u001b[0mempty\u001b[0m\u001b[0;34m(\u001b[0m\u001b[0mu\u001b[0m\u001b[0;34m.\u001b[0m\u001b[0mshape\u001b[0m\u001b[0;34m,\u001b[0m \u001b[0mdtype\u001b[0m\u001b[0;34m=\u001b[0m\u001b[0mu\u001b[0m\u001b[0;34m.\u001b[0m\u001b[0mdtype\u001b[0m\u001b[0;34m)\u001b[0m\u001b[0;34m.\u001b[0m\u001b[0mto\u001b[0m\u001b[0;34m(\u001b[0m\u001b[0mdevice\u001b[0m\u001b[0;34m)\u001b[0m\u001b[0;34m\u001b[0m\u001b[0;34m\u001b[0m\u001b[0m\n",
      "\u001b[1;32m    264 \u001b[0m\u001b[0;34m\u001b[0m\u001b[0m\n",
      "\u001b[1;32m    265 \u001b[0m    \u001b[0;32mwhile\u001b[0m \u001b[0;34m(\u001b[0m\u001b[0merr\u001b[0m \u001b[0;34m>\u001b[0m \u001b[0mstopThr\u001b[0m \u001b[0;32mand\u001b[0m \u001b[0mit\u001b[0m \u001b[0;34m<=\u001b[0m \u001b[0mmaxIter\u001b[0m\u001b[0;34m)\u001b[0m\u001b[0;34m:\u001b[0m\u001b[0;34m\u001b[0m\u001b[0;34m\u001b[0m\u001b[0m\n",
      "\u001b[1;32m    266 \u001b[0m        \u001b[0mupre\u001b[0m\u001b[0;34m,\u001b[0m \u001b[0mvpre\u001b[0m \u001b[0;34m=\u001b[0m \u001b[0mu\u001b[0m\u001b[0;34m,\u001b[0m \u001b[0mv\u001b[0m\u001b[0;34m\u001b[0m\u001b[0;34m\u001b[0m\u001b[0m\n",
      "\u001b[1;32m    267 \u001b[0m        \u001b[0mtorch\u001b[0m\u001b[0;34m.\u001b[0m\u001b[0mmatmul\u001b[0m\u001b[0;34m(\u001b[0m\u001b[0mu\u001b[0m\u001b[0;34m,\u001b[0m \u001b[0mK\u001b[0m\u001b[0;34m,\u001b[0m \u001b[0mout\u001b[0m\u001b[0;34m=\u001b[0m\u001b[0mKTu\u001b[0m\u001b[0;34m)\u001b[0m\u001b[0;34m\u001b[0m\u001b[0;34m\u001b[0m\u001b[0m\n",
      "\u001b[1;32m    268 \u001b[0m        \u001b[0mv\u001b[0m \u001b[0;34m=\u001b[0m \u001b[0mtorch\u001b[0m\u001b[0;34m.\u001b[0m\u001b[0mdiv\u001b[0m\u001b[0;34m(\u001b[0m\u001b[0mb\u001b[0m\u001b[0;34m,\u001b[0m \u001b[0mKTu\u001b[0m \u001b[0;34m+\u001b[0m \u001b[0mM_EPS\u001b[0m\u001b[0;34m)\u001b[0m\u001b[0;34m\u001b[0m\u001b[0;34m\u001b[0m\u001b[0m\n",
      "\u001b[1;32m    269 \u001b[0m        \u001b[0mtorch\u001b[0m\u001b[0;34m.\u001b[0m\u001b[0mmatmul\u001b[0m\u001b[0;34m(\u001b[0m\u001b[0mK\u001b[0m\u001b[0;34m,\u001b[0m \u001b[0mv\u001b[0m\u001b[0;34m,\u001b[0m \u001b[0mout\u001b[0m\u001b[0;34m=\u001b[0m\u001b[0mKv\u001b[0m\u001b[0;34m)\u001b[0m\u001b[0;34m\u001b[0m\u001b[0;34m\u001b[0m\u001b[0m\n",
      "\u001b[0;32m--> 270 \u001b[0;31m        \u001b[0mu\u001b[0m \u001b[0;34m=\u001b[0m \u001b[0mtorch\u001b[0m\u001b[0;34m.\u001b[0m\u001b[0mdiv\u001b[0m\u001b[0;34m(\u001b[0m\u001b[0ma\u001b[0m\u001b[0;34m,\u001b[0m \u001b[0mKv\u001b[0m \u001b[0;34m+\u001b[0m \u001b[0mM_EPS\u001b[0m\u001b[0;34m)\u001b[0m\u001b[0;34m\u001b[0m\u001b[0;34m\u001b[0m\u001b[0m\n",
      "\u001b[0m\u001b[1;32m    271 \u001b[0m\u001b[0;34m\u001b[0m\u001b[0m\n",
      "\u001b[1;32m    272 \u001b[0m        \u001b[0;32mif\u001b[0m \u001b[0mtorch\u001b[0m\u001b[0;34m.\u001b[0m\u001b[0many\u001b[0m\u001b[0;34m(\u001b[0m\u001b[0mtorch\u001b[0m\u001b[0;34m.\u001b[0m\u001b[0misnan\u001b[0m\u001b[0;34m(\u001b[0m\u001b[0mu\u001b[0m\u001b[0;34m)\u001b[0m\u001b[0;34m)\u001b[0m \u001b[0;32mor\u001b[0m \u001b[0mtorch\u001b[0m\u001b[0;34m.\u001b[0m\u001b[0many\u001b[0m\u001b[0;34m(\u001b[0m\u001b[0mtorch\u001b[0m\u001b[0;34m.\u001b[0m\u001b[0misnan\u001b[0m\u001b[0;34m(\u001b[0m\u001b[0mv\u001b[0m\u001b[0;34m)\u001b[0m\u001b[0;34m)\u001b[0m \u001b[0;32mor\u001b[0m\u001b[0;31m \u001b[0m\u001b[0;31m\\\u001b[0m\u001b[0;34m\u001b[0m\u001b[0;34m\u001b[0m\u001b[0m\n",
      "\u001b[1;32m    273 \u001b[0m                \u001b[0mtorch\u001b[0m\u001b[0;34m.\u001b[0m\u001b[0many\u001b[0m\u001b[0;34m(\u001b[0m\u001b[0mtorch\u001b[0m\u001b[0;34m.\u001b[0m\u001b[0misinf\u001b[0m\u001b[0;34m(\u001b[0m\u001b[0mu\u001b[0m\u001b[0;34m)\u001b[0m\u001b[0;34m)\u001b[0m \u001b[0;32mor\u001b[0m \u001b[0mtorch\u001b[0m\u001b[0;34m.\u001b[0m\u001b[0many\u001b[0m\u001b[0;34m(\u001b[0m\u001b[0mtorch\u001b[0m\u001b[0;34m.\u001b[0m\u001b[0misinf\u001b[0m\u001b[0;34m(\u001b[0m\u001b[0mv\u001b[0m\u001b[0;34m)\u001b[0m\u001b[0;34m)\u001b[0m\u001b[0;34m:\u001b[0m\u001b[0;34m\u001b[0m\u001b[0;34m\u001b[0m\u001b[0m\n",
      "\u001b[1;32m    274 \u001b[0m            \u001b[0mprint\u001b[0m\u001b[0;34m(\u001b[0m\u001b[0;34m'Warning: numerical errors at iteration'\u001b[0m\u001b[0;34m,\u001b[0m \u001b[0mit\u001b[0m\u001b[0;34m)\u001b[0m\u001b[0;34m\u001b[0m\u001b[0;34m\u001b[0m\u001b[0m\n",
      "\u001b[1;32m    275 \u001b[0m            \u001b[0mu\u001b[0m\u001b[0;34m,\u001b[0m \u001b[0mv\u001b[0m \u001b[0;34m=\u001b[0m \u001b[0mupre\u001b[0m\u001b[0;34m,\u001b[0m \u001b[0mvpre\u001b[0m\u001b[0;34m\u001b[0m\u001b[0;34m\u001b[0m\u001b[0m\n",
      "\u001b[1;32m    276 \u001b[0m            \u001b[0;32mbreak\u001b[0m\u001b[0;34m\u001b[0m\u001b[0;34m\u001b[0m\u001b[0m\n",
      "\u001b[1;32m    277 \u001b[0m\u001b[0;34m\u001b[0m\u001b[0m\n",
      "\u001b[1;32m    278 \u001b[0m        \u001b[0;32mif\u001b[0m \u001b[0mlog\u001b[0m \u001b[0;32mand\u001b[0m \u001b[0mit\u001b[0m \u001b[0;34m%\u001b[0m \u001b[0meval_freq\u001b[0m \u001b[0;34m==\u001b[0m \u001b[0;36m0\u001b[0m\u001b[0;34m:\u001b[0m\u001b[0;34m\u001b[0m\u001b[0;34m\u001b[0m\u001b[0m\n",
      "\u001b[1;32m    279 \u001b[0m            \u001b[0;31m# we can speed up the process by checking for the error only all\u001b[0m\u001b[0;34m\u001b[0m\u001b[0;34m\u001b[0m\u001b[0;34m\u001b[0m\u001b[0m\n",
      "\u001b[1;32m    280 \u001b[0m            \u001b[0;31m# the eval_freq iterations\u001b[0m\u001b[0;34m\u001b[0m\u001b[0;34m\u001b[0m\u001b[0;34m\u001b[0m\u001b[0m\n",
      "\u001b[1;32m    281 \u001b[0m            \u001b[0;31m# below is equivalent to:\u001b[0m\u001b[0;34m\u001b[0m\u001b[0;34m\u001b[0m\u001b[0;34m\u001b[0m\u001b[0m\n",
      "\u001b[1;32m    282 \u001b[0m            \u001b[0;31m# b_hat = torch.sum(u.reshape(-1, 1) * K * v.reshape(1, -1), 0)\u001b[0m\u001b[0;34m\u001b[0m\u001b[0;34m\u001b[0m\u001b[0;34m\u001b[0m\u001b[0m\n",
      "\u001b[1;32m    283 \u001b[0m            \u001b[0;31m# but with more memory efficient\u001b[0m\u001b[0;34m\u001b[0m\u001b[0;34m\u001b[0m\u001b[0;34m\u001b[0m\u001b[0m\n",
      "\u001b[1;32m    284 \u001b[0m            \u001b[0mb_hat\u001b[0m \u001b[0;34m=\u001b[0m \u001b[0mtorch\u001b[0m\u001b[0;34m.\u001b[0m\u001b[0mmatmul\u001b[0m\u001b[0;34m(\u001b[0m\u001b[0mu\u001b[0m\u001b[0;34m,\u001b[0m \u001b[0mK\u001b[0m\u001b[0;34m)\u001b[0m \u001b[0;34m*\u001b[0m \u001b[0mv\u001b[0m\u001b[0;34m\u001b[0m\u001b[0;34m\u001b[0m\u001b[0m\n",
      "\u001b[1;32m    285 \u001b[0m            \u001b[0merr\u001b[0m \u001b[0;34m=\u001b[0m \u001b[0;34m(\u001b[0m\u001b[0mb\u001b[0m \u001b[0;34m-\u001b[0m \u001b[0mb_hat\u001b[0m\u001b[0;34m)\u001b[0m\u001b[0;34m.\u001b[0m\u001b[0mpow\u001b[0m\u001b[0;34m(\u001b[0m\u001b[0;36m2\u001b[0m\u001b[0;34m)\u001b[0m\u001b[0;34m.\u001b[0m\u001b[0msum\u001b[0m\u001b[0;34m(\u001b[0m\u001b[0;34m)\u001b[0m\u001b[0;34m.\u001b[0m\u001b[0mitem\u001b[0m\u001b[0;34m(\u001b[0m\u001b[0;34m)\u001b[0m\u001b[0;34m\u001b[0m\u001b[0;34m\u001b[0m\u001b[0m\n",
      "\u001b[1;32m    286 \u001b[0m            \u001b[0;31m# err = (b - b_hat).abs().sum().item()\u001b[0m\u001b[0;34m\u001b[0m\u001b[0;34m\u001b[0m\u001b[0;34m\u001b[0m\u001b[0m\n",
      "\u001b[1;32m    287 \u001b[0m            \u001b[0mlog\u001b[0m\u001b[0;34m[\u001b[0m\u001b[0;34m'err'\u001b[0m\u001b[0;34m]\u001b[0m\u001b[0;34m.\u001b[0m\u001b[0mappend\u001b[0m\u001b[0;34m(\u001b[0m\u001b[0merr\u001b[0m\u001b[0;34m)\u001b[0m\u001b[0;34m\u001b[0m\u001b[0;34m\u001b[0m\u001b[0m\n",
      "\u001b[1;32m    288 \u001b[0m\u001b[0;34m\u001b[0m\u001b[0m\n",
      "\u001b[1;32m    289 \u001b[0m        \u001b[0;32mif\u001b[0m \u001b[0mverbose\u001b[0m \u001b[0;32mand\u001b[0m \u001b[0mit\u001b[0m \u001b[0;34m%\u001b[0m \u001b[0mprint_freq\u001b[0m \u001b[0;34m==\u001b[0m \u001b[0;36m0\u001b[0m\u001b[0;34m:\u001b[0m\u001b[0;34m\u001b[0m\u001b[0;34m\u001b[0m\u001b[0m\n",
      "\u001b[1;32m    290 \u001b[0m            \u001b[0mprint\u001b[0m\u001b[0;34m(\u001b[0m\u001b[0;34m'iteration {:5d}, constraint error {:5e}'\u001b[0m\u001b[0;34m.\u001b[0m\u001b[0mformat\u001b[0m\u001b[0;34m(\u001b[0m\u001b[0mit\u001b[0m\u001b[0;34m,\u001b[0m \u001b[0merr\u001b[0m\u001b[0;34m)\u001b[0m\u001b[0;34m)\u001b[0m\u001b[0;34m\u001b[0m\u001b[0;34m\u001b[0m\u001b[0m\n",
      "\u001b[1;32m    291 \u001b[0m\u001b[0;34m\u001b[0m\u001b[0m\n",
      "\u001b[1;32m    292 \u001b[0m        \u001b[0mit\u001b[0m \u001b[0;34m+=\u001b[0m \u001b[0;36m1\u001b[0m\u001b[0;34m\u001b[0m\u001b[0;34m\u001b[0m\u001b[0m\n",
      "\u001b[1;32m    293 \u001b[0m\u001b[0;34m\u001b[0m\u001b[0m\n",
      "\u001b[1;32m    294 \u001b[0m    \u001b[0;32mif\u001b[0m \u001b[0mlog\u001b[0m\u001b[0;34m:\u001b[0m\u001b[0;34m\u001b[0m\u001b[0;34m\u001b[0m\u001b[0m\n",
      "\u001b[1;32m    295 \u001b[0m        \u001b[0mlog\u001b[0m\u001b[0;34m[\u001b[0m\u001b[0;34m'u'\u001b[0m\u001b[0;34m]\u001b[0m \u001b[0;34m=\u001b[0m \u001b[0mu\u001b[0m\u001b[0;34m\u001b[0m\u001b[0;34m\u001b[0m\u001b[0m\n",
      "\u001b[1;32m    296 \u001b[0m        \u001b[0mlog\u001b[0m\u001b[0;34m[\u001b[0m\u001b[0;34m'v'\u001b[0m\u001b[0;34m]\u001b[0m \u001b[0;34m=\u001b[0m \u001b[0mv\u001b[0m\u001b[0;34m\u001b[0m\u001b[0;34m\u001b[0m\u001b[0m\n",
      "\u001b[1;32m    297 \u001b[0m        \u001b[0mlog\u001b[0m\u001b[0;34m[\u001b[0m\u001b[0;34m'alpha'\u001b[0m\u001b[0;34m]\u001b[0m \u001b[0;34m=\u001b[0m \u001b[0mreg\u001b[0m \u001b[0;34m*\u001b[0m \u001b[0mtorch\u001b[0m\u001b[0;34m.\u001b[0m\u001b[0mlog\u001b[0m\u001b[0;34m(\u001b[0m\u001b[0mu\u001b[0m \u001b[0;34m+\u001b[0m \u001b[0mM_EPS\u001b[0m\u001b[0;34m)\u001b[0m\u001b[0;34m\u001b[0m\u001b[0;34m\u001b[0m\u001b[0m\n",
      "\u001b[1;32m    298 \u001b[0m        \u001b[0mlog\u001b[0m\u001b[0;34m[\u001b[0m\u001b[0;34m'beta'\u001b[0m\u001b[0;34m]\u001b[0m \u001b[0;34m=\u001b[0m \u001b[0mreg\u001b[0m \u001b[0;34m*\u001b[0m \u001b[0mtorch\u001b[0m\u001b[0;34m.\u001b[0m\u001b[0mlog\u001b[0m\u001b[0;34m(\u001b[0m\u001b[0mv\u001b[0m \u001b[0;34m+\u001b[0m \u001b[0mM_EPS\u001b[0m\u001b[0;34m)\u001b[0m\u001b[0;34m\u001b[0m\u001b[0;34m\u001b[0m\u001b[0m\n",
      "\u001b[1;32m    299 \u001b[0m\u001b[0;34m\u001b[0m\u001b[0m\n",
      "\u001b[1;32m    300 \u001b[0m    \u001b[0;31m# transport plan\u001b[0m\u001b[0;34m\u001b[0m\u001b[0;34m\u001b[0m\u001b[0;34m\u001b[0m\u001b[0m\n",
      "\u001b[1;32m    301 \u001b[0m    \u001b[0mP\u001b[0m \u001b[0;34m=\u001b[0m \u001b[0mu\u001b[0m\u001b[0;34m.\u001b[0m\u001b[0mreshape\u001b[0m\u001b[0;34m(\u001b[0m\u001b[0;34m-\u001b[0m\u001b[0;36m1\u001b[0m\u001b[0;34m,\u001b[0m \u001b[0;36m1\u001b[0m\u001b[0;34m)\u001b[0m \u001b[0;34m*\u001b[0m \u001b[0mK\u001b[0m \u001b[0;34m*\u001b[0m \u001b[0mv\u001b[0m\u001b[0;34m.\u001b[0m\u001b[0mreshape\u001b[0m\u001b[0;34m(\u001b[0m\u001b[0;36m1\u001b[0m\u001b[0;34m,\u001b[0m \u001b[0;34m-\u001b[0m\u001b[0;36m1\u001b[0m\u001b[0;34m)\u001b[0m\u001b[0;34m\u001b[0m\u001b[0;34m\u001b[0m\u001b[0m\n",
      "\u001b[1;32m    302 \u001b[0m    \u001b[0;32mif\u001b[0m \u001b[0mlog\u001b[0m\u001b[0;34m:\u001b[0m\u001b[0;34m\u001b[0m\u001b[0;34m\u001b[0m\u001b[0m\n",
      "\u001b[1;32m    303 \u001b[0m        \u001b[0;32mreturn\u001b[0m \u001b[0mP\u001b[0m\u001b[0;34m,\u001b[0m \u001b[0mlog\u001b[0m\u001b[0;34m\u001b[0m\u001b[0;34m\u001b[0m\u001b[0m\n",
      "\u001b[1;32m    304 \u001b[0m    \u001b[0;32melse\u001b[0m\u001b[0;34m:\u001b[0m\u001b[0;34m\u001b[0m\u001b[0;34m\u001b[0m\u001b[0m\n",
      "\u001b[1;32m    305 \u001b[0m        \u001b[0;32mreturn\u001b[0m \u001b[0mP\u001b[0m\u001b[0;34m\u001b[0m\u001b[0;34m\u001b[0m\u001b[0m\n",
      "\u001b[1;32m    306 \u001b[0m\u001b[0;34m\u001b[0m\u001b[0m\n",
      "\n"
     ]
    },
    {
     "name": "stdout",
     "output_type": "stream",
     "text": [
      "ipdb> q\n"
     ]
    }
   ],
   "source": [
    "%debug"
   ]
  },
  {
   "cell_type": "code",
   "execution_count": null,
   "metadata": {},
   "outputs": [],
   "source": []
  },
  {
   "cell_type": "code",
   "execution_count": null,
   "metadata": {},
   "outputs": [],
   "source": []
  },
  {
   "cell_type": "markdown",
   "metadata": {},
   "source": [
    "# Testing"
   ]
  },
  {
   "cell_type": "code",
   "execution_count": 19,
   "metadata": {},
   "outputs": [],
   "source": [
    "train_loader = torch.utils.data.DataLoader(\n",
    "    train_dataset,\n",
    "    batch_size=4,\n",
    "    sampler=RandomSampler(train_dataset),\n",
    "    pin_memory=False,\n",
    "    drop_last=True,\n",
    "    num_workers=TrainGlobalConfig.num_workers,\n",
    "    collate_fn=collate_fn,\n",
    ")\n",
    "    \n",
    "val_loader = torch.utils.data.DataLoader(\n",
    "    valid_dataset, \n",
    "    batch_size=1,\n",
    "    num_workers=TrainGlobalConfig.num_workers,\n",
    "    shuffle=False,\n",
    "    sampler=SequentialSampler(valid_dataset),\n",
    "    pin_memory=False,\n",
    "    collate_fn=collate_fn,\n",
    ")"
   ]
  },
  {
   "cell_type": "code",
   "execution_count": 20,
   "metadata": {},
   "outputs": [],
   "source": [
    "imgs, dmaps, fns, gt_points = next(iter(val_loader))"
   ]
  },
  {
   "cell_type": "code",
   "execution_count": 22,
   "metadata": {},
   "outputs": [],
   "source": [
    "outputs, _ = net(imgs.cuda())"
   ]
  },
  {
   "cell_type": "code",
   "execution_count": 26,
   "metadata": {},
   "outputs": [
    {
     "data": {
      "text/plain": [
       "torch.Size([1, 1, 191, 340])"
      ]
     },
     "execution_count": 26,
     "metadata": {},
     "output_type": "execute_result"
    }
   ],
   "source": [
    "outputs = F.pad(outputs,(0,0,0,1))\n",
    "outputs.shape"
   ]
  },
  {
   "cell_type": "code",
   "execution_count": 28,
   "metadata": {},
   "outputs": [
    {
     "data": {
      "text/plain": [
       "tensor(993.6575, grad_fn=<L1LossBackward>)"
      ]
     },
     "execution_count": 28,
     "metadata": {},
     "output_type": "execute_result"
    }
   ],
   "source": [
    "MAELoss(outputs.cpu(),dmaps)"
   ]
  },
  {
   "cell_type": "code",
   "execution_count": 25,
   "metadata": {},
   "outputs": [
    {
     "data": {
      "text/plain": [
       "torch.Size([1, 1, 191, 340])"
      ]
     },
     "execution_count": 25,
     "metadata": {},
     "output_type": "execute_result"
    }
   ],
   "source": [
    "dmaps.shape"
   ]
  },
  {
   "cell_type": "code",
   "execution_count": 18,
   "metadata": {},
   "outputs": [
    {
     "data": {
      "text/plain": [
       "(tensor([], size=(0, 2)),\n",
       " tensor([[160., 453.]]),\n",
       " tensor([[267., 508.],\n",
       "         [404., 455.],\n",
       "         [508., 434.],\n",
       "         [396., 455.]]),\n",
       " tensor([], size=(0, 2)))"
      ]
     },
     "execution_count": 18,
     "metadata": {},
     "output_type": "execute_result"
    }
   ],
   "source": [
    "gt_points"
   ]
  },
  {
   "cell_type": "code",
   "execution_count": 39,
   "metadata": {},
   "outputs": [
    {
     "name": "stdout",
     "output_type": "stream",
     "text": [
      "Fitter prepared. Device is cuda\n",
      "\n",
      "2021-07-15T03:51:58.662182\n",
      "LR: 3.9999999999999996e-05\n",
      "Warning: numerical errors at iteration 1ae_loss: 0.00000, time: 93.92182\n",
      "Warning: numerical errors at iteration 1\n",
      "Warning: numerical errors at iteration 1\n",
      "Warning: numerical errors at iteration 1\n",
      "Warning: numerical errors at iteration 1\n",
      "Warning: numerical errors at iteration 1\n",
      "Warning: numerical errors at iteration 1\n",
      "Warning: numerical errors at iteration 1\n",
      "Warning: numerical errors at iteration 1\n",
      "Warning: numerical errors at iteration 1\n",
      "Warning: numerical errors at iteration 1\n",
      "Warning: numerical errors at iteration 1\n",
      "Warning: numerical errors at iteration 1\n",
      "Warning: numerical errors at iteration 1\n",
      "Warning: numerical errors at iteration 1\n",
      "Warning: numerical errors at iteration 1\n",
      "Warning: numerical errors at iteration 1\n",
      "Warning: numerical errors at iteration 1\n",
      "Warning: numerical errors at iteration 1\n",
      "Warning: numerical errors at iteration 1\n",
      "Warning: numerical errors at iteration 1\n",
      "Warning: numerical errors at iteration 1\n",
      "Warning: numerical errors at iteration 1\n",
      "Warning: numerical errors at iteration 1\n",
      "Warning: numerical errors at iteration 1\n",
      "Warning: numerical errors at iteration 1\n",
      "Warning: numerical errors at iteration 1\n",
      "tensor([-1.8536e-05], device='cuda:0', grad_fn=<AddBackward0>)\n",
      "Warning: numerical errors at iteration 1 mae_loss: 206.98422, time: 105.69520\n",
      "Warning: numerical errors at iteration 1\n",
      "Warning: numerical errors at iteration 1\n",
      "Warning: numerical errors at iteration 1\n",
      "Warning: numerical errors at iteration 1\n",
      "Warning: numerical errors at iteration 1\n",
      "Warning: numerical errors at iteration 1\n",
      "Warning: numerical errors at iteration 1\n",
      "Warning: numerical errors at iteration 1\n",
      "Warning: numerical errors at iteration 1\n",
      "Warning: numerical errors at iteration 1\n",
      "Warning: numerical errors at iteration 1\n",
      "Warning: numerical errors at iteration 1\n",
      "Warning: numerical errors at iteration 1\n",
      "Warning: numerical errors at iteration 1\n",
      "Warning: numerical errors at iteration 1\n",
      "Warning: numerical errors at iteration 1\n",
      "Warning: numerical errors at iteration 1\n",
      "Warning: numerical errors at iteration 1\n",
      "Warning: numerical errors at iteration 1\n",
      "Warning: numerical errors at iteration 1\n",
      "Warning: numerical errors at iteration 1\n",
      "Warning: numerical errors at iteration 1\n",
      "Warning: numerical errors at iteration 1\n",
      "Warning: numerical errors at iteration 1\n",
      "Warning: numerical errors at iteration 1\n",
      "Warning: numerical errors at iteration 1\n",
      "Warning: numerical errors at iteration 1 mae_loss: 217.41350, time: 106.20145\n",
      "Warning: numerical errors at iteration 1\n",
      "Warning: numerical errors at iteration 1\n",
      "Warning: numerical errors at iteration 1\n",
      "Warning: numerical errors at iteration 1\n",
      "Warning: numerical errors at iteration 1\n",
      "Warning: numerical errors at iteration 1\n",
      "Warning: numerical errors at iteration 1\n",
      "Warning: numerical errors at iteration 1\n",
      "Warning: numerical errors at iteration 1\n",
      "Warning: numerical errors at iteration 1\n",
      "Warning: numerical errors at iteration 1\n",
      "Warning: numerical errors at iteration 1\n",
      "Warning: numerical errors at iteration 1\n",
      "Warning: numerical errors at iteration 1\n",
      "Warning: numerical errors at iteration 1\n",
      "Warning: numerical errors at iteration 1\n",
      "Warning: numerical errors at iteration 1\n",
      "Warning: numerical errors at iteration 1\n",
      "Warning: numerical errors at iteration 1\n",
      "Warning: numerical errors at iteration 1\n",
      "Warning: numerical errors at iteration 1\n",
      "Warning: numerical errors at iteration 1\n",
      "Warning: numerical errors at iteration 1\n",
      "Warning: numerical errors at iteration 1\n",
      "Warning: numerical errors at iteration 1\n",
      "Warning: numerical errors at iteration 1 mae_loss: 216.84891, time: 106.66912\n",
      "Warning: numerical errors at iteration 1\n",
      "Warning: numerical errors at iteration 1\n",
      "Warning: numerical errors at iteration 1\n",
      "Warning: numerical errors at iteration 1\n",
      "Warning: numerical errors at iteration 1\n",
      "Warning: numerical errors at iteration 1\n",
      "Warning: numerical errors at iteration 1\n",
      "Warning: numerical errors at iteration 1\n",
      "Warning: numerical errors at iteration 1\n",
      "Warning: numerical errors at iteration 1\n",
      "Warning: numerical errors at iteration 1\n",
      "Warning: numerical errors at iteration 1\n",
      "Warning: numerical errors at iteration 1\n",
      "Warning: numerical errors at iteration 1\n",
      "Warning: numerical errors at iteration 1\n",
      "Warning: numerical errors at iteration 1\n",
      "Warning: numerical errors at iteration 1\n",
      "Warning: numerical errors at iteration 1\n",
      "Warning: numerical errors at iteration 1\n",
      "Warning: numerical errors at iteration 1\n",
      "Warning: numerical errors at iteration 1\n",
      "Warning: numerical errors at iteration 1\n",
      "Warning: numerical errors at iteration 1\n",
      "Warning: numerical errors at iteration 1\n",
      "Warning: numerical errors at iteration 1\n",
      "Warning: numerical errors at iteration 1\n",
      "Warning: numerical errors at iteration 1 mae_loss: 215.97771, time: 107.13739\n",
      "Warning: numerical errors at iteration 1\n",
      "Warning: numerical errors at iteration 1\n",
      "Warning: numerical errors at iteration 1\n",
      "Warning: numerical errors at iteration 1\n",
      "Warning: numerical errors at iteration 1\n",
      "Warning: numerical errors at iteration 1\n",
      "Warning: numerical errors at iteration 1\n",
      "Warning: numerical errors at iteration 1\n",
      "Warning: numerical errors at iteration 1\n",
      "Warning: numerical errors at iteration 1\n",
      "Warning: numerical errors at iteration 1\n",
      "Warning: numerical errors at iteration 1\n",
      "Warning: numerical errors at iteration 1\n",
      "Warning: numerical errors at iteration 1\n",
      "Warning: numerical errors at iteration 1\n",
      "Warning: numerical errors at iteration 1\n",
      "Warning: numerical errors at iteration 1\n",
      "Warning: numerical errors at iteration 1\n",
      "Warning: numerical errors at iteration 1\n",
      "Warning: numerical errors at iteration 1\n",
      "Warning: numerical errors at iteration 1\n",
      "Warning: numerical errors at iteration 1\n",
      "Warning: numerical errors at iteration 1\n",
      "Warning: numerical errors at iteration 1 mae_loss: 218.88038, time: 107.53678\n",
      "Warning: numerical errors at iteration 1\n",
      "Warning: numerical errors at iteration 1\n",
      "Warning: numerical errors at iteration 1\n",
      "Warning: numerical errors at iteration 1\n",
      "Warning: numerical errors at iteration 1\n",
      "Warning: numerical errors at iteration 1\n",
      "Warning: numerical errors at iteration 1\n",
      "Warning: numerical errors at iteration 1\n",
      "Warning: numerical errors at iteration 1\n",
      "Warning: numerical errors at iteration 1\n",
      "Warning: numerical errors at iteration 1\n",
      "Warning: numerical errors at iteration 1\n",
      "Warning: numerical errors at iteration 1\n",
      "Warning: numerical errors at iteration 1\n",
      "Warning: numerical errors at iteration 1\n",
      "Warning: numerical errors at iteration 1\n",
      "Warning: numerical errors at iteration 1\n",
      "Warning: numerical errors at iteration 1\n",
      "Warning: numerical errors at iteration 1 mae_loss: 221.06748, time: 107.90037\n",
      "Warning: numerical errors at iteration 1\n",
      "Warning: numerical errors at iteration 1\n",
      "Warning: numerical errors at iteration 1\n",
      "Warning: numerical errors at iteration 1\n",
      "Warning: numerical errors at iteration 1\n",
      "Warning: numerical errors at iteration 1\n",
      "Warning: numerical errors at iteration 1\n",
      "Warning: numerical errors at iteration 1\n",
      "Warning: numerical errors at iteration 1\n",
      "Warning: numerical errors at iteration 1\n",
      "Warning: numerical errors at iteration 1\n",
      "Warning: numerical errors at iteration 1\n",
      "Warning: numerical errors at iteration 1\n",
      "Warning: numerical errors at iteration 1\n",
      "Warning: numerical errors at iteration 1\n",
      "Warning: numerical errors at iteration 1\n",
      "Warning: numerical errors at iteration 1\n",
      "Warning: numerical errors at iteration 1\n",
      "Warning: numerical errors at iteration 1\n",
      "Warning: numerical errors at iteration 1\n",
      "Warning: numerical errors at iteration 1\n",
      "Warning: numerical errors at iteration 1 mae_loss: 220.37978, time: 108.34839\n",
      "Warning: numerical errors at iteration 1\n",
      "Warning: numerical errors at iteration 1\n",
      "Warning: numerical errors at iteration 1\n",
      "Warning: numerical errors at iteration 1\n",
      "Warning: numerical errors at iteration 1\n",
      "Warning: numerical errors at iteration 1\n",
      "Warning: numerical errors at iteration 1\n",
      "Warning: numerical errors at iteration 1\n",
      "Warning: numerical errors at iteration 1\n",
      "Warning: numerical errors at iteration 1\n",
      "Warning: numerical errors at iteration 1\n",
      "Warning: numerical errors at iteration 1\n",
      "Warning: numerical errors at iteration 1\n",
      "Warning: numerical errors at iteration 1\n",
      "Warning: numerical errors at iteration 1\n",
      "Warning: numerical errors at iteration 1\n",
      "Warning: numerical errors at iteration 1\n",
      "Warning: numerical errors at iteration 1\n",
      "Warning: numerical errors at iteration 1\n",
      "Warning: numerical errors at iteration 1\n"
     ]
    },
    {
     "name": "stdout",
     "output_type": "stream",
     "text": [
      "Warning: numerical errors at iteration 1 mae_loss: 221.61798, time: 108.78533\n",
      "Warning: numerical errors at iteration 1\n",
      "Warning: numerical errors at iteration 1\n",
      "Warning: numerical errors at iteration 1\n",
      "Warning: numerical errors at iteration 1\n",
      "Warning: numerical errors at iteration 1\n",
      "Warning: numerical errors at iteration 1\n",
      "Warning: numerical errors at iteration 1\n",
      "Warning: numerical errors at iteration 1\n",
      "Warning: numerical errors at iteration 1\n",
      "Warning: numerical errors at iteration 1\n",
      "Warning: numerical errors at iteration 1\n",
      "Warning: numerical errors at iteration 1\n",
      "Warning: numerical errors at iteration 1\n",
      "Warning: numerical errors at iteration 1\n",
      "Warning: numerical errors at iteration 1\n",
      "Warning: numerical errors at iteration 1\n",
      "Warning: numerical errors at iteration 1\n",
      "Warning: numerical errors at iteration 1\n",
      "Warning: numerical errors at iteration 1\n",
      "Warning: numerical errors at iteration 1\n",
      "Warning: numerical errors at iteration 1\n",
      "Warning: numerical errors at iteration 1\n",
      "Warning: numerical errors at iteration 1\n",
      "Warning: numerical errors at iteration 1\n",
      "Warning: numerical errors at iteration 1 mae_loss: 221.12846, time: 109.16781\n",
      "Warning: numerical errors at iteration 1\n",
      "Warning: numerical errors at iteration 1\n",
      "Warning: numerical errors at iteration 1\n",
      "Warning: numerical errors at iteration 1\n",
      "Warning: numerical errors at iteration 1\n",
      "Warning: numerical errors at iteration 1\n",
      "Warning: numerical errors at iteration 1\n",
      "Warning: numerical errors at iteration 1\n",
      "Warning: numerical errors at iteration 1\n",
      "Warning: numerical errors at iteration 1\n",
      "Warning: numerical errors at iteration 1\n",
      "Warning: numerical errors at iteration 1\n",
      "Warning: numerical errors at iteration 1\n",
      "Warning: numerical errors at iteration 1\n",
      "Warning: numerical errors at iteration 1\n",
      "Warning: numerical errors at iteration 1\n",
      "Warning: numerical errors at iteration 1\n",
      "Warning: numerical errors at iteration 1\n",
      "Warning: numerical errors at iteration 1\n",
      "Warning: numerical errors at iteration 1\n",
      "Warning: numerical errors at iteration 1\n",
      "Warning: numerical errors at iteration 1\n",
      "Warning: numerical errors at iteration 1\n",
      "Warning: numerical errors at iteration 1, mae_loss: 221.96674, time: 109.60738\n",
      "Warning: numerical errors at iteration 1\n",
      "Warning: numerical errors at iteration 1\n",
      "Warning: numerical errors at iteration 1\n",
      "Warning: numerical errors at iteration 1\n",
      "Warning: numerical errors at iteration 1\n",
      "Warning: numerical errors at iteration 1\n",
      "Warning: numerical errors at iteration 1\n",
      "Warning: numerical errors at iteration 1\n",
      "Warning: numerical errors at iteration 1\n",
      "Warning: numerical errors at iteration 1\n",
      "Warning: numerical errors at iteration 1\n",
      "Warning: numerical errors at iteration 1\n",
      "Warning: numerical errors at iteration 1\n",
      "Warning: numerical errors at iteration 1\n",
      "Warning: numerical errors at iteration 1\n",
      "Warning: numerical errors at iteration 1\n",
      "Warning: numerical errors at iteration 1\n",
      "Warning: numerical errors at iteration 1\n",
      "Warning: numerical errors at iteration 1\n",
      "Warning: numerical errors at iteration 1\n",
      "Warning: numerical errors at iteration 1\n",
      "Warning: numerical errors at iteration 1\n",
      "Warning: numerical errors at iteration 1, mae_loss: 221.94916, time: 110.01907\n",
      "Warning: numerical errors at iteration 1\n",
      "Warning: numerical errors at iteration 1\n",
      "Warning: numerical errors at iteration 1\n",
      "Warning: numerical errors at iteration 1\n",
      "Warning: numerical errors at iteration 1\n",
      "Warning: numerical errors at iteration 1\n",
      "Warning: numerical errors at iteration 1\n",
      "Warning: numerical errors at iteration 1\n",
      "Warning: numerical errors at iteration 1\n",
      "Warning: numerical errors at iteration 1\n",
      "Warning: numerical errors at iteration 1\n",
      "Warning: numerical errors at iteration 1\n",
      "Warning: numerical errors at iteration 1\n",
      "Warning: numerical errors at iteration 1\n",
      "Warning: numerical errors at iteration 1\n",
      "Warning: numerical errors at iteration 1\n",
      "Warning: numerical errors at iteration 1\n",
      "Warning: numerical errors at iteration 1\n",
      "Warning: numerical errors at iteration 1, mae_loss: 208.83617, time: 110.44628\n",
      "Warning: numerical errors at iteration 1\n",
      "Warning: numerical errors at iteration 1\n",
      "Warning: numerical errors at iteration 1\n",
      "Warning: numerical errors at iteration 1\n",
      "Warning: numerical errors at iteration 1\n",
      "Warning: numerical errors at iteration 1\n",
      "Warning: numerical errors at iteration 1\n",
      "Warning: numerical errors at iteration 1\n",
      "Warning: numerical errors at iteration 1\n",
      "Warning: numerical errors at iteration 1\n",
      "Warning: numerical errors at iteration 1\n",
      "Warning: numerical errors at iteration 1\n",
      "Warning: numerical errors at iteration 1\n",
      "Warning: numerical errors at iteration 1\n",
      "Warning: numerical errors at iteration 1\n",
      "Warning: numerical errors at iteration 1\n",
      "Warning: numerical errors at iteration 1\n",
      "Warning: numerical errors at iteration 1\n",
      "Warning: numerical errors at iteration 1\n",
      "Warning: numerical errors at iteration 1\n",
      "Warning: numerical errors at iteration 1\n",
      "Warning: numerical errors at iteration 1\n",
      "Warning: numerical errors at iteration 1\n",
      "Warning: numerical errors at iteration 1\n",
      "Warning: numerical errors at iteration 1\n",
      "Warning: numerical errors at iteration 1, mae_loss: 193.64098, time: 110.85961\n",
      "Warning: numerical errors at iteration 1\n",
      "Warning: numerical errors at iteration 1\n",
      "Warning: numerical errors at iteration 1\n",
      "Warning: numerical errors at iteration 1\n",
      "Warning: numerical errors at iteration 1\n",
      "Warning: numerical errors at iteration 1\n",
      "Warning: numerical errors at iteration 1\n",
      "Warning: numerical errors at iteration 1\n",
      "Warning: numerical errors at iteration 1\n",
      "Warning: numerical errors at iteration 1\n",
      "Warning: numerical errors at iteration 1\n",
      "Warning: numerical errors at iteration 1\n",
      "Warning: numerical errors at iteration 1\n",
      "Warning: numerical errors at iteration 1\n",
      "Warning: numerical errors at iteration 1\n",
      "Warning: numerical errors at iteration 1\n",
      "Warning: numerical errors at iteration 1\n",
      "Warning: numerical errors at iteration 1\n",
      "Warning: numerical errors at iteration 1\n",
      "Warning: numerical errors at iteration 1\n",
      "Warning: numerical errors at iteration 1\n",
      "Warning: numerical errors at iteration 1\n",
      "Warning: numerical errors at iteration 1, mae_loss: 180.87960, time: 111.25686\n",
      "Warning: numerical errors at iteration 1\n",
      "Warning: numerical errors at iteration 1\n",
      "Warning: numerical errors at iteration 1\n",
      "Warning: numerical errors at iteration 1\n",
      "Warning: numerical errors at iteration 1\n",
      "Warning: numerical errors at iteration 1\n",
      "Warning: numerical errors at iteration 1\n",
      "Warning: numerical errors at iteration 1\n",
      "Warning: numerical errors at iteration 1\n",
      "Warning: numerical errors at iteration 1\n",
      "Warning: numerical errors at iteration 1\n",
      "Warning: numerical errors at iteration 1\n",
      "Warning: numerical errors at iteration 1\n",
      "Warning: numerical errors at iteration 1\n",
      "Warning: numerical errors at iteration 1\n",
      "Warning: numerical errors at iteration 1\n",
      "Warning: numerical errors at iteration 1\n",
      "Warning: numerical errors at iteration 1\n",
      "Warning: numerical errors at iteration 1\n",
      "Warning: numerical errors at iteration 1\n",
      "Warning: numerical errors at iteration 1\n",
      "Warning: numerical errors at iteration 1\n",
      "Warning: numerical errors at iteration 1\n",
      "Warning: numerical errors at iteration 1\n",
      "Warning: numerical errors at iteration 1\n",
      "Warning: numerical errors at iteration 1, mae_loss: 169.53439, time: 111.69335\n",
      "Warning: numerical errors at iteration 1\n",
      "Warning: numerical errors at iteration 1\n",
      "Warning: numerical errors at iteration 1\n",
      "Warning: numerical errors at iteration 1\n",
      "Warning: numerical errors at iteration 1\n",
      "Warning: numerical errors at iteration 1\n",
      "Warning: numerical errors at iteration 1\n",
      "Warning: numerical errors at iteration 1\n",
      "Warning: numerical errors at iteration 1\n",
      "Warning: numerical errors at iteration 1\n",
      "Warning: numerical errors at iteration 1\n",
      "Warning: numerical errors at iteration 1\n",
      "Warning: numerical errors at iteration 1\n",
      "Warning: numerical errors at iteration 1\n",
      "Warning: numerical errors at iteration 1\n",
      "Warning: numerical errors at iteration 1\n",
      "Warning: numerical errors at iteration 1\n",
      "Warning: numerical errors at iteration 1\n",
      "Warning: numerical errors at iteration 1\n",
      "Warning: numerical errors at iteration 1\n",
      "Warning: numerical errors at iteration 1\n",
      "Warning: numerical errors at iteration 1\n",
      "Warning: numerical errors at iteration 1\n",
      "Warning: numerical errors at iteration 1\n",
      "Warning: numerical errors at iteration 1, mae_loss: 160.27501, time: 180.41567\n",
      "Warning: numerical errors at iteration 1\n",
      "Warning: numerical errors at iteration 1\n",
      "Warning: numerical errors at iteration 1\n",
      "Warning: numerical errors at iteration 1\n",
      "Warning: numerical errors at iteration 1\n",
      "Warning: numerical errors at iteration 1\n",
      "Warning: numerical errors at iteration 1\n",
      "Warning: numerical errors at iteration 1\n",
      "Warning: numerical errors at iteration 1\n"
     ]
    },
    {
     "name": "stdout",
     "output_type": "stream",
     "text": [
      "Warning: numerical errors at iteration 1\n",
      "Warning: numerical errors at iteration 1\n",
      "Warning: numerical errors at iteration 1\n",
      "Warning: numerical errors at iteration 1\n",
      "Warning: numerical errors at iteration 1\n",
      "Warning: numerical errors at iteration 1\n",
      "Warning: numerical errors at iteration 1\n",
      "Warning: numerical errors at iteration 1\n",
      "Warning: numerical errors at iteration 1\n",
      "Warning: numerical errors at iteration 1\n",
      "Warning: numerical errors at iteration 1\n",
      "Warning: numerical errors at iteration 1\n",
      "Warning: numerical errors at iteration 1\n",
      "Warning: numerical errors at iteration 1\n",
      "Warning: numerical errors at iteration 1\n",
      "Warning: numerical errors at iteration 1\n",
      "Warning: numerical errors at iteration 1, mae_loss: 151.62622, time: 180.86934\n",
      "Warning: numerical errors at iteration 1\n",
      "Warning: numerical errors at iteration 1\n",
      "Warning: numerical errors at iteration 1\n",
      "Warning: numerical errors at iteration 1\n",
      "Warning: numerical errors at iteration 1\n",
      "Warning: numerical errors at iteration 1\n",
      "Warning: numerical errors at iteration 1\n",
      "Warning: numerical errors at iteration 1\n",
      "Warning: numerical errors at iteration 1\n",
      "Warning: numerical errors at iteration 1\n",
      "Warning: numerical errors at iteration 1\n",
      "Warning: numerical errors at iteration 1\n",
      "Warning: numerical errors at iteration 1\n",
      "Warning: numerical errors at iteration 1\n",
      "Warning: numerical errors at iteration 1\n",
      "Warning: numerical errors at iteration 1\n",
      "Warning: numerical errors at iteration 1\n",
      "Warning: numerical errors at iteration 1\n",
      "Warning: numerical errors at iteration 1\n",
      "Warning: numerical errors at iteration 1\n",
      "Warning: numerical errors at iteration 1\n",
      "Warning: numerical errors at iteration 1\n",
      "Warning: numerical errors at iteration 1\n",
      "Warning: numerical errors at iteration 1, mae_loss: 143.55477, time: 181.25479\n",
      "Warning: numerical errors at iteration 1\n",
      "Warning: numerical errors at iteration 1\n",
      "Warning: numerical errors at iteration 1\n",
      "Warning: numerical errors at iteration 1\n",
      "Warning: numerical errors at iteration 1\n",
      "Warning: numerical errors at iteration 1\n",
      "Warning: numerical errors at iteration 1\n",
      "Warning: numerical errors at iteration 1\n",
      "Warning: numerical errors at iteration 1\n",
      "Warning: numerical errors at iteration 1\n",
      "Warning: numerical errors at iteration 1\n",
      "Warning: numerical errors at iteration 1\n",
      "Warning: numerical errors at iteration 1\n",
      "Warning: numerical errors at iteration 1\n",
      "Warning: numerical errors at iteration 1\n",
      "Warning: numerical errors at iteration 1\n",
      "Warning: numerical errors at iteration 1\n",
      "Warning: numerical errors at iteration 1\n",
      "Warning: numerical errors at iteration 1\n",
      "Warning: numerical errors at iteration 1\n",
      "Warning: numerical errors at iteration 1\n",
      "Warning: numerical errors at iteration 1, mae_loss: 136.73775, time: 181.58891\n",
      "Warning: numerical errors at iteration 1\n",
      "Warning: numerical errors at iteration 1\n",
      "Warning: numerical errors at iteration 1\n",
      "Warning: numerical errors at iteration 1\n",
      "Warning: numerical errors at iteration 1\n",
      "Warning: numerical errors at iteration 1\n",
      "Warning: numerical errors at iteration 1\n",
      "Warning: numerical errors at iteration 1\n",
      "Warning: numerical errors at iteration 1\n",
      "Warning: numerical errors at iteration 1\n",
      "Warning: numerical errors at iteration 1\n",
      "Warning: numerical errors at iteration 1\n",
      "Warning: numerical errors at iteration 1\n",
      "Warning: numerical errors at iteration 1\n",
      "Warning: numerical errors at iteration 1\n",
      "Warning: numerical errors at iteration 1\n",
      "Warning: numerical errors at iteration 1\n",
      "Warning: numerical errors at iteration 1\n",
      "Warning: numerical errors at iteration 1\n",
      "Warning: numerical errors at iteration 1\n",
      "Warning: numerical errors at iteration 1, mae_loss: 130.36336, time: 181.93557\n",
      "Warning: numerical errors at iteration 1\n",
      "Warning: numerical errors at iteration 1\n",
      "Warning: numerical errors at iteration 1\n",
      "Warning: numerical errors at iteration 1\n",
      "Warning: numerical errors at iteration 1\n",
      "Warning: numerical errors at iteration 1\n",
      "Warning: numerical errors at iteration 1\n",
      "Warning: numerical errors at iteration 1\n",
      "Warning: numerical errors at iteration 1\n",
      "Warning: numerical errors at iteration 1\n",
      "Warning: numerical errors at iteration 1\n",
      "Warning: numerical errors at iteration 1\n",
      "Warning: numerical errors at iteration 1\n",
      "Warning: numerical errors at iteration 1\n",
      "Warning: numerical errors at iteration 1\n",
      "Warning: numerical errors at iteration 1\n",
      "Warning: numerical errors at iteration 1\n",
      "Warning: numerical errors at iteration 1\n",
      "Warning: numerical errors at iteration 1\n",
      "Warning: numerical errors at iteration 1\n",
      "Warning: numerical errors at iteration 1\n",
      "[RESULT]: Train. Epoch: 0, mse_loss: 125.09104, time: 231.57495\n",
      "[RESULT]: Train. Epoch: 0, mae_loss: 124.89221, time: 231.59037\n",
      "[RESULT]: Val. Epoch: 0, mae_loss: 131.60819, time: 468.49871\n",
      "\n",
      "2021-07-15T04:03:41.097145\n",
      "LR: 4.0294580849147715e-05\n",
      "Warning: numerical errors at iteration 1ae_loss: 0.00000, time: 6.47576\n",
      "Warning: numerical errors at iteration 1\n",
      "Warning: numerical errors at iteration 1\n",
      "Warning: numerical errors at iteration 1\n",
      "Warning: numerical errors at iteration 1\n",
      "Warning: numerical errors at iteration 1\n",
      "Warning: numerical errors at iteration 1\n",
      "Warning: numerical errors at iteration 1\n",
      "Warning: numerical errors at iteration 1\n",
      "Warning: numerical errors at iteration 1\n",
      "Warning: numerical errors at iteration 1\n",
      "Warning: numerical errors at iteration 1\n",
      "Warning: numerical errors at iteration 1\n",
      "Warning: numerical errors at iteration 1\n",
      "Warning: numerical errors at iteration 1\n",
      "Warning: numerical errors at iteration 1\n",
      "Warning: numerical errors at iteration 1\n",
      "Warning: numerical errors at iteration 1\n",
      "Warning: numerical errors at iteration 1\n",
      "Warning: numerical errors at iteration 1\n",
      "tensor([0.], device='cuda:0', grad_fn=<AddBackward0>)\n",
      "Warning: numerical errors at iteration 1ae_loss: 7.28125, time: 7.10519\n",
      "Warning: numerical errors at iteration 1\n",
      "Warning: numerical errors at iteration 1\n",
      "Warning: numerical errors at iteration 1\n",
      "Warning: numerical errors at iteration 1\n",
      "Warning: numerical errors at iteration 1\n",
      "Warning: numerical errors at iteration 1\n",
      "Warning: numerical errors at iteration 1\n",
      "Warning: numerical errors at iteration 1\n",
      "Warning: numerical errors at iteration 1\n",
      "Warning: numerical errors at iteration 1\n",
      "Warning: numerical errors at iteration 1\n",
      "Warning: numerical errors at iteration 1\n",
      "Warning: numerical errors at iteration 1\n",
      "Warning: numerical errors at iteration 1\n",
      "Warning: numerical errors at iteration 1\n",
      "Warning: numerical errors at iteration 1\n",
      "Warning: numerical errors at iteration 1\n",
      "Warning: numerical errors at iteration 1\n",
      "Warning: numerical errors at iteration 1\n",
      "Warning: numerical errors at iteration 1\n",
      "Warning: numerical errors at iteration 1\n",
      "Warning: numerical errors at iteration 1\n",
      "Warning: numerical errors at iteration 1\n",
      "Warning: numerical errors at iteration 1\n",
      "Warning: numerical errors at iteration 1ae_loss: 7.92188, time: 7.56879\n",
      "Warning: numerical errors at iteration 1\n",
      "Warning: numerical errors at iteration 1\n",
      "Warning: numerical errors at iteration 1\n",
      "Warning: numerical errors at iteration 1\n",
      "Warning: numerical errors at iteration 1\n",
      "Warning: numerical errors at iteration 1\n",
      "Warning: numerical errors at iteration 1\n",
      "Warning: numerical errors at iteration 1\n",
      "Warning: numerical errors at iteration 1\n",
      "Warning: numerical errors at iteration 1\n",
      "Warning: numerical errors at iteration 1\n",
      "Warning: numerical errors at iteration 1\n",
      "Warning: numerical errors at iteration 1\n",
      "Warning: numerical errors at iteration 1\n",
      "Warning: numerical errors at iteration 1\n",
      "Warning: numerical errors at iteration 1\n",
      "Warning: numerical errors at iteration 1\n",
      "Warning: numerical errors at iteration 1\n",
      "Warning: numerical errors at iteration 1\n",
      "Warning: numerical errors at iteration 1\n",
      "Warning: numerical errors at iteration 1\n",
      "Warning: numerical errors at iteration 1\n",
      "Warning: numerical errors at iteration 1\n",
      "Warning: numerical errors at iteration 1\n",
      "Warning: numerical errors at iteration 1ae_loss: 9.51042, time: 8.10412\n",
      "Warning: numerical errors at iteration 1\n",
      "Warning: numerical errors at iteration 1\n",
      "Warning: numerical errors at iteration 1\n",
      "Warning: numerical errors at iteration 1\n",
      "Warning: numerical errors at iteration 1\n",
      "Warning: numerical errors at iteration 1\n",
      "Warning: numerical errors at iteration 1\n",
      "Warning: numerical errors at iteration 1\n",
      "Warning: numerical errors at iteration 1\n",
      "Warning: numerical errors at iteration 1\n",
      "Warning: numerical errors at iteration 1\n",
      "Warning: numerical errors at iteration 1\n",
      "Warning: numerical errors at iteration 1\n",
      "Warning: numerical errors at iteration 1\n",
      "Warning: numerical errors at iteration 1\n",
      "Warning: numerical errors at iteration 1\n",
      "Warning: numerical errors at iteration 1\n",
      "Warning: numerical errors at iteration 1\n",
      "Warning: numerical errors at iteration 1\n",
      "Warning: numerical errors at iteration 1\n",
      "Warning: numerical errors at iteration 1\n",
      "Warning: numerical errors at iteration 1\n",
      "Warning: numerical errors at iteration 1\n"
     ]
    },
    {
     "name": "stdout",
     "output_type": "stream",
     "text": [
      "Warning: numerical errors at iteration 1\n",
      "Warning: numerical errors at iteration 1\n",
      "Warning: numerical errors at iteration 1\n",
      "Warning: numerical errors at iteration 1ae_loss: 9.58594, time: 8.58534\n",
      "Warning: numerical errors at iteration 1\n",
      "Warning: numerical errors at iteration 1\n",
      "Warning: numerical errors at iteration 1\n",
      "Warning: numerical errors at iteration 1\n",
      "Warning: numerical errors at iteration 1\n",
      "Warning: numerical errors at iteration 1\n",
      "Warning: numerical errors at iteration 1\n",
      "Warning: numerical errors at iteration 1\n",
      "Warning: numerical errors at iteration 1\n",
      "Warning: numerical errors at iteration 1\n",
      "Warning: numerical errors at iteration 1\n",
      "Warning: numerical errors at iteration 1\n",
      "Warning: numerical errors at iteration 1\n",
      "Warning: numerical errors at iteration 1\n",
      "Warning: numerical errors at iteration 1\n",
      "Warning: numerical errors at iteration 1\n",
      "Warning: numerical errors at iteration 1\n",
      "Warning: numerical errors at iteration 1\n",
      "Warning: numerical errors at iteration 1\n",
      "Warning: numerical errors at iteration 1\n",
      "Warning: numerical errors at iteration 1\n",
      "Warning: numerical errors at iteration 1\n",
      "Warning: numerical errors at iteration 1ae_loss: 9.22500, time: 9.04264\n",
      "Warning: numerical errors at iteration 1\n",
      "Warning: numerical errors at iteration 1\n",
      "Warning: numerical errors at iteration 1\n",
      "Warning: numerical errors at iteration 1\n",
      "Warning: numerical errors at iteration 1\n",
      "Warning: numerical errors at iteration 1\n",
      "Warning: numerical errors at iteration 1\n",
      "Warning: numerical errors at iteration 1\n",
      "Warning: numerical errors at iteration 1\n",
      "Warning: numerical errors at iteration 1\n",
      "Warning: numerical errors at iteration 1\n",
      "Warning: numerical errors at iteration 1\n",
      "Warning: numerical errors at iteration 1\n",
      "Warning: numerical errors at iteration 1\n",
      "Warning: numerical errors at iteration 1\n",
      "Warning: numerical errors at iteration 1\n",
      "Warning: numerical errors at iteration 1\n",
      "Warning: numerical errors at iteration 1\n",
      "Warning: numerical errors at iteration 1\n",
      "Warning: numerical errors at iteration 1\n",
      "Warning: numerical errors at iteration 1\n",
      "Warning: numerical errors at iteration 1ae_loss: 8.67708, time: 9.49442\n",
      "Warning: numerical errors at iteration 1\n",
      "Warning: numerical errors at iteration 1\n",
      "Warning: numerical errors at iteration 1\n",
      "Warning: numerical errors at iteration 1\n",
      "Warning: numerical errors at iteration 1\n",
      "Warning: numerical errors at iteration 1\n",
      "Warning: numerical errors at iteration 1\n",
      "Warning: numerical errors at iteration 1\n",
      "Warning: numerical errors at iteration 1\n",
      "Warning: numerical errors at iteration 1\n",
      "Warning: numerical errors at iteration 1\n",
      "Warning: numerical errors at iteration 1\n",
      "Warning: numerical errors at iteration 1\n",
      "Warning: numerical errors at iteration 1\n",
      "Warning: numerical errors at iteration 1\n",
      "Warning: numerical errors at iteration 1\n",
      "Warning: numerical errors at iteration 1\n",
      "Warning: numerical errors at iteration 1\n",
      "Warning: numerical errors at iteration 1\n",
      "Warning: numerical errors at iteration 1\n",
      "Warning: numerical errors at iteration 1\n",
      "Warning: numerical errors at iteration 1\n",
      "Warning: numerical errors at iteration 1ae_loss: 8.58482, time: 9.96667\n",
      "Warning: numerical errors at iteration 1\n",
      "Warning: numerical errors at iteration 1\n",
      "Warning: numerical errors at iteration 1\n",
      "Warning: numerical errors at iteration 1\n",
      "Warning: numerical errors at iteration 1\n",
      "Warning: numerical errors at iteration 1\n",
      "Warning: numerical errors at iteration 1\n",
      "Warning: numerical errors at iteration 1\n",
      "Warning: numerical errors at iteration 1\n",
      "Warning: numerical errors at iteration 1\n",
      "Warning: numerical errors at iteration 1\n",
      "Warning: numerical errors at iteration 1\n",
      "Warning: numerical errors at iteration 1\n",
      "Warning: numerical errors at iteration 1\n",
      "Warning: numerical errors at iteration 1\n",
      "Warning: numerical errors at iteration 1\n",
      "Warning: numerical errors at iteration 1\n",
      "Warning: numerical errors at iteration 1\n",
      "Warning: numerical errors at iteration 1\n",
      "Warning: numerical errors at iteration 1ae_loss: 8.70703, time: 10.40932\n",
      "Warning: numerical errors at iteration 1\n",
      "Warning: numerical errors at iteration 1\n",
      "Warning: numerical errors at iteration 1\n",
      "Warning: numerical errors at iteration 1\n",
      "Warning: numerical errors at iteration 1\n",
      "Warning: numerical errors at iteration 1\n",
      "Warning: numerical errors at iteration 1\n",
      "Warning: numerical errors at iteration 1\n",
      "Warning: numerical errors at iteration 1\n",
      "Warning: numerical errors at iteration 1\n",
      "Warning: numerical errors at iteration 1\n",
      "Warning: numerical errors at iteration 1\n",
      "Warning: numerical errors at iteration 1\n",
      "Warning: numerical errors at iteration 1\n",
      "Warning: numerical errors at iteration 1\n",
      "Warning: numerical errors at iteration 1\n",
      "Warning: numerical errors at iteration 1\n",
      "Warning: numerical errors at iteration 1\n",
      "Warning: numerical errors at iteration 1\n",
      "Warning: numerical errors at iteration 1\n",
      "Warning: numerical errors at iteration 1\n",
      "Warning: numerical errors at iteration 1\n",
      "Warning: numerical errors at iteration 1\n",
      "Warning: numerical errors at iteration 1\n",
      "Warning: numerical errors at iteration 1ae_loss: 8.71875, time: 10.86250\n",
      "Warning: numerical errors at iteration 1\n",
      "Warning: numerical errors at iteration 1\n",
      "Warning: numerical errors at iteration 1\n",
      "Warning: numerical errors at iteration 1\n",
      "Warning: numerical errors at iteration 1\n",
      "Warning: numerical errors at iteration 1\n",
      "Warning: numerical errors at iteration 1\n",
      "Warning: numerical errors at iteration 1\n",
      "Warning: numerical errors at iteration 1\n",
      "Warning: numerical errors at iteration 1\n",
      "Warning: numerical errors at iteration 1\n",
      "Warning: numerical errors at iteration 1\n",
      "Warning: numerical errors at iteration 1\n",
      "Warning: numerical errors at iteration 1\n",
      "Warning: numerical errors at iteration 1\n",
      "Warning: numerical errors at iteration 1\n",
      "Warning: numerical errors at iteration 1\n",
      "Warning: numerical errors at iteration 1\n",
      "Warning: numerical errors at iteration 1\n",
      "Warning: numerical errors at iteration 1\n",
      "Warning: numerical errors at iteration 1mae_loss: 8.86875, time: 11.27831\n",
      "Warning: numerical errors at iteration 1\n",
      "Warning: numerical errors at iteration 1\n",
      "Warning: numerical errors at iteration 1\n",
      "Warning: numerical errors at iteration 1\n",
      "Warning: numerical errors at iteration 1\n",
      "Warning: numerical errors at iteration 1\n",
      "Warning: numerical errors at iteration 1\n",
      "Warning: numerical errors at iteration 1\n",
      "Warning: numerical errors at iteration 1\n",
      "Warning: numerical errors at iteration 1\n",
      "Warning: numerical errors at iteration 1\n",
      "Warning: numerical errors at iteration 1\n",
      "Warning: numerical errors at iteration 1\n",
      "Warning: numerical errors at iteration 1\n",
      "Warning: numerical errors at iteration 1\n",
      "Warning: numerical errors at iteration 1\n",
      "Warning: numerical errors at iteration 1\n",
      "Warning: numerical errors at iteration 1\n",
      "Warning: numerical errors at iteration 1\n",
      "Warning: numerical errors at iteration 1\n",
      "Warning: numerical errors at iteration 1\n",
      "Warning: numerical errors at iteration 1\n",
      "Warning: numerical errors at iteration 1mae_loss: 8.98580, time: 11.73470\n",
      "Warning: numerical errors at iteration 1\n",
      "Warning: numerical errors at iteration 1\n",
      "Warning: numerical errors at iteration 1\n",
      "Warning: numerical errors at iteration 1\n",
      "Warning: numerical errors at iteration 1\n",
      "Warning: numerical errors at iteration 1\n",
      "Warning: numerical errors at iteration 1\n",
      "Warning: numerical errors at iteration 1\n",
      "Warning: numerical errors at iteration 1\n",
      "Warning: numerical errors at iteration 1\n",
      "Warning: numerical errors at iteration 1\n",
      "Warning: numerical errors at iteration 1\n",
      "Warning: numerical errors at iteration 1\n",
      "Warning: numerical errors at iteration 1\n",
      "Warning: numerical errors at iteration 1\n",
      "Warning: numerical errors at iteration 1\n",
      "Warning: numerical errors at iteration 1\n",
      "Warning: numerical errors at iteration 1\n",
      "Warning: numerical errors at iteration 1\n",
      "Warning: numerical errors at iteration 1\n",
      "Warning: numerical errors at iteration 1\n",
      "Warning: numerical errors at iteration 1\n",
      "Warning: numerical errors at iteration 1mae_loss: 9.00521, time: 12.16962\n",
      "Warning: numerical errors at iteration 1\n",
      "Warning: numerical errors at iteration 1\n",
      "Warning: numerical errors at iteration 1\n",
      "Warning: numerical errors at iteration 1\n",
      "Warning: numerical errors at iteration 1\n",
      "Warning: numerical errors at iteration 1\n",
      "Warning: numerical errors at iteration 1\n",
      "Warning: numerical errors at iteration 1\n",
      "Warning: numerical errors at iteration 1\n",
      "Warning: numerical errors at iteration 1\n",
      "Warning: numerical errors at iteration 1\n",
      "Warning: numerical errors at iteration 1\n",
      "Warning: numerical errors at iteration 1\n",
      "Warning: numerical errors at iteration 1\n",
      "Warning: numerical errors at iteration 1\n",
      "Warning: numerical errors at iteration 1\n",
      "Warning: numerical errors at iteration 1\n",
      "Warning: numerical errors at iteration 1\n",
      "Warning: numerical errors at iteration 1\n",
      "Warning: numerical errors at iteration 1\n",
      "Warning: numerical errors at iteration 1\n",
      "Warning: numerical errors at iteration 1\n",
      "Warning: numerical errors at iteration 1\n",
      "Warning: numerical errors at iteration 1\n"
     ]
    },
    {
     "name": "stdout",
     "output_type": "stream",
     "text": [
      "Warning: numerical errors at iteration 1mae_loss: 9.36058, time: 12.62752\n",
      "Warning: numerical errors at iteration 1\n",
      "Warning: numerical errors at iteration 1\n",
      "Warning: numerical errors at iteration 1\n",
      "Warning: numerical errors at iteration 1\n",
      "Warning: numerical errors at iteration 1\n",
      "Warning: numerical errors at iteration 1\n",
      "Warning: numerical errors at iteration 1\n",
      "Warning: numerical errors at iteration 1\n",
      "Warning: numerical errors at iteration 1\n",
      "Warning: numerical errors at iteration 1\n",
      "Warning: numerical errors at iteration 1\n",
      "Warning: numerical errors at iteration 1\n",
      "Warning: numerical errors at iteration 1\n",
      "Warning: numerical errors at iteration 1\n",
      "Warning: numerical errors at iteration 1\n",
      "Warning: numerical errors at iteration 1\n",
      "Warning: numerical errors at iteration 1\n",
      "Warning: numerical errors at iteration 1\n",
      "Warning: numerical errors at iteration 1\n",
      "Warning: numerical errors at iteration 1\n",
      "Warning: numerical errors at iteration 1\n",
      "Warning: numerical errors at iteration 1mae_loss: 9.39509, time: 13.04463\n",
      "Warning: numerical errors at iteration 1\n",
      "Warning: numerical errors at iteration 1\n",
      "Warning: numerical errors at iteration 1\n",
      "Warning: numerical errors at iteration 1\n",
      "Warning: numerical errors at iteration 1\n",
      "Warning: numerical errors at iteration 1\n",
      "Warning: numerical errors at iteration 1\n",
      "Warning: numerical errors at iteration 1\n",
      "Warning: numerical errors at iteration 1\n",
      "Warning: numerical errors at iteration 1\n",
      "Warning: numerical errors at iteration 1\n",
      "Warning: numerical errors at iteration 1\n",
      "Warning: numerical errors at iteration 1\n",
      "Warning: numerical errors at iteration 1\n",
      "Warning: numerical errors at iteration 1\n",
      "Warning: numerical errors at iteration 1\n",
      "Warning: numerical errors at iteration 1\n",
      "Warning: numerical errors at iteration 1\n",
      "Warning: numerical errors at iteration 1\n",
      "Warning: numerical errors at iteration 1\n",
      "Warning: numerical errors at iteration 1mae_loss: 9.30833, time: 13.43779\n",
      "Warning: numerical errors at iteration 1\n",
      "Warning: numerical errors at iteration 1\n",
      "Warning: numerical errors at iteration 1\n",
      "Warning: numerical errors at iteration 1\n",
      "Warning: numerical errors at iteration 1\n",
      "Warning: numerical errors at iteration 1\n",
      "Warning: numerical errors at iteration 1\n",
      "Warning: numerical errors at iteration 1\n",
      "Warning: numerical errors at iteration 1\n",
      "Warning: numerical errors at iteration 1\n",
      "Warning: numerical errors at iteration 1\n",
      "Warning: numerical errors at iteration 1\n",
      "Warning: numerical errors at iteration 1\n",
      "Warning: numerical errors at iteration 1\n",
      "Warning: numerical errors at iteration 1\n",
      "Warning: numerical errors at iteration 1\n",
      "Warning: numerical errors at iteration 1\n",
      "Warning: numerical errors at iteration 1\n",
      "Warning: numerical errors at iteration 1\n",
      "Warning: numerical errors at iteration 1\n",
      "Warning: numerical errors at iteration 1mae_loss: 9.65234, time: 13.87331\n",
      "Warning: numerical errors at iteration 1\n",
      "Warning: numerical errors at iteration 1\n",
      "Warning: numerical errors at iteration 1\n",
      "Warning: numerical errors at iteration 1\n",
      "Warning: numerical errors at iteration 1\n",
      "Warning: numerical errors at iteration 1\n",
      "Warning: numerical errors at iteration 1\n",
      "Warning: numerical errors at iteration 1\n",
      "Warning: numerical errors at iteration 1\n",
      "Warning: numerical errors at iteration 1\n",
      "Warning: numerical errors at iteration 1\n",
      "Warning: numerical errors at iteration 1\n",
      "Warning: numerical errors at iteration 1\n",
      "Warning: numerical errors at iteration 1\n",
      "Warning: numerical errors at iteration 1\n",
      "Warning: numerical errors at iteration 1\n",
      "Warning: numerical errors at iteration 1\n",
      "Warning: numerical errors at iteration 1\n",
      "Warning: numerical errors at iteration 1\n",
      "Warning: numerical errors at iteration 1\n",
      "Warning: numerical errors at iteration 1\n",
      "Warning: numerical errors at iteration 1\n",
      "Warning: numerical errors at iteration 1\n",
      "Warning: numerical errors at iteration 1mae_loss: 9.62316, time: 14.28633\n",
      "Warning: numerical errors at iteration 1\n",
      "Warning: numerical errors at iteration 1\n",
      "Warning: numerical errors at iteration 1\n",
      "Warning: numerical errors at iteration 1\n",
      "Warning: numerical errors at iteration 1\n",
      "Warning: numerical errors at iteration 1\n",
      "Warning: numerical errors at iteration 1\n",
      "Warning: numerical errors at iteration 1\n",
      "Warning: numerical errors at iteration 1\n",
      "Warning: numerical errors at iteration 1\n",
      "Warning: numerical errors at iteration 1\n",
      "Warning: numerical errors at iteration 1\n",
      "Warning: numerical errors at iteration 1\n",
      "Warning: numerical errors at iteration 1\n",
      "Warning: numerical errors at iteration 1\n",
      "Warning: numerical errors at iteration 1\n",
      "Warning: numerical errors at iteration 1\n",
      "Warning: numerical errors at iteration 1\n",
      "Warning: numerical errors at iteration 1\n",
      "Warning: numerical errors at iteration 1\n",
      "Warning: numerical errors at iteration 1\n",
      "Warning: numerical errors at iteration 1\n",
      "Warning: numerical errors at iteration 1\n",
      "Warning: numerical errors at iteration 1\n",
      "Warning: numerical errors at iteration 1mae_loss: 9.56250, time: 14.80696\n",
      "Warning: numerical errors at iteration 1\n",
      "Warning: numerical errors at iteration 1\n",
      "Warning: numerical errors at iteration 1\n",
      "Warning: numerical errors at iteration 1\n",
      "Warning: numerical errors at iteration 1\n",
      "Warning: numerical errors at iteration 1\n",
      "Warning: numerical errors at iteration 1\n",
      "Warning: numerical errors at iteration 1\n",
      "Warning: numerical errors at iteration 1\n",
      "Warning: numerical errors at iteration 1\n",
      "Warning: numerical errors at iteration 1\n",
      "Warning: numerical errors at iteration 1\n",
      "Warning: numerical errors at iteration 1\n",
      "Warning: numerical errors at iteration 1\n",
      "Warning: numerical errors at iteration 1\n",
      "Warning: numerical errors at iteration 1\n",
      "Warning: numerical errors at iteration 1\n",
      "Warning: numerical errors at iteration 1\n",
      "Warning: numerical errors at iteration 1\n",
      "Warning: numerical errors at iteration 1\n",
      "Warning: numerical errors at iteration 1\n",
      "Warning: numerical errors at iteration 1mae_loss: 9.48191, time: 15.20083\n",
      "Warning: numerical errors at iteration 1\n",
      "Warning: numerical errors at iteration 1\n",
      "Warning: numerical errors at iteration 1\n",
      "Warning: numerical errors at iteration 1\n",
      "Warning: numerical errors at iteration 1\n",
      "Warning: numerical errors at iteration 1\n",
      "Warning: numerical errors at iteration 1\n",
      "Warning: numerical errors at iteration 1\n",
      "Warning: numerical errors at iteration 1\n",
      "Warning: numerical errors at iteration 1\n",
      "Warning: numerical errors at iteration 1\n",
      "Warning: numerical errors at iteration 1\n",
      "Warning: numerical errors at iteration 1\n",
      "Warning: numerical errors at iteration 1\n",
      "Warning: numerical errors at iteration 1\n",
      "Warning: numerical errors at iteration 1\n",
      "Warning: numerical errors at iteration 1\n",
      "Warning: numerical errors at iteration 1\n",
      "Warning: numerical errors at iteration 1\n",
      "Warning: numerical errors at iteration 1mae_loss: 9.48281, time: 15.64141\n",
      "Warning: numerical errors at iteration 1\n",
      "Warning: numerical errors at iteration 1\n",
      "Warning: numerical errors at iteration 1\n",
      "Warning: numerical errors at iteration 1\n",
      "Warning: numerical errors at iteration 1\n",
      "Warning: numerical errors at iteration 1\n",
      "Warning: numerical errors at iteration 1\n",
      "Warning: numerical errors at iteration 1\n",
      "Warning: numerical errors at iteration 1\n",
      "Warning: numerical errors at iteration 1\n",
      "Warning: numerical errors at iteration 1\n",
      "Warning: numerical errors at iteration 1\n",
      "Warning: numerical errors at iteration 1\n",
      "Warning: numerical errors at iteration 1\n",
      "Warning: numerical errors at iteration 1\n",
      "Warning: numerical errors at iteration 1\n",
      "Warning: numerical errors at iteration 1\n",
      "Warning: numerical errors at iteration 1\n",
      "Warning: numerical errors at iteration 1\n",
      "[RESULT]: Train. Epoch: 1, mse_loss: 9.50933, time: 26.63378\n",
      "[RESULT]: Train. Epoch: 1, mae_loss: 9.41518, time: 26.65192\n",
      "Val Step 89/2700, mae_loss: 140.24719, time: 10.77766\r"
     ]
    },
    {
     "ename": "KeyboardInterrupt",
     "evalue": "",
     "output_type": "error",
     "traceback": [
      "\u001b[0;31m---------------------------------------------------------------------------\u001b[0m",
      "\u001b[0;31mKeyboardInterrupt\u001b[0m                         Traceback (most recent call last)",
      "\u001b[0;32m<ipython-input-39-2f18cc448813>\u001b[0m in \u001b[0;36m<module>\u001b[0;34m\u001b[0m\n\u001b[0;32m----> 1\u001b[0;31m \u001b[0mrun_training\u001b[0m\u001b[0;34m(\u001b[0m\u001b[0;34m)\u001b[0m\u001b[0;34m\u001b[0m\u001b[0;34m\u001b[0m\u001b[0m\n\u001b[0m",
      "\u001b[0;32m<ipython-input-37-34486e15c4ea>\u001b[0m in \u001b[0;36mrun_training\u001b[0;34m()\u001b[0m\n\u001b[1;32m     32\u001b[0m     \u001b[0mfitter\u001b[0m \u001b[0;34m=\u001b[0m \u001b[0mFitter\u001b[0m\u001b[0;34m(\u001b[0m\u001b[0mmodel\u001b[0m\u001b[0;34m=\u001b[0m\u001b[0mnet\u001b[0m\u001b[0;34m,\u001b[0m \u001b[0mdevice\u001b[0m\u001b[0;34m=\u001b[0m\u001b[0mdevice\u001b[0m\u001b[0;34m,\u001b[0m \u001b[0mconfig\u001b[0m\u001b[0;34m=\u001b[0m\u001b[0mTrainGlobalConfig\u001b[0m\u001b[0;34m)\u001b[0m\u001b[0;34m\u001b[0m\u001b[0;34m\u001b[0m\u001b[0m\n\u001b[1;32m     33\u001b[0m \u001b[0;31m#     fitter.load(f'{fitter.base_dir}/last-checkpoint.bin')\u001b[0m\u001b[0;34m\u001b[0m\u001b[0;34m\u001b[0m\u001b[0;34m\u001b[0m\u001b[0m\n\u001b[0;32m---> 34\u001b[0;31m     \u001b[0mfitter\u001b[0m\u001b[0;34m.\u001b[0m\u001b[0mfit\u001b[0m\u001b[0;34m(\u001b[0m\u001b[0mtrain_loader\u001b[0m\u001b[0;34m,\u001b[0m \u001b[0mval_loader\u001b[0m\u001b[0;34m)\u001b[0m\u001b[0;34m\u001b[0m\u001b[0;34m\u001b[0m\u001b[0m\n\u001b[0m",
      "\u001b[0;32m<ipython-input-34-b7a4e63abc32>\u001b[0m in \u001b[0;36mfit\u001b[0;34m(self, train_loader, validation_loader)\u001b[0m\n\u001b[1;32m     55\u001b[0m \u001b[0;34m\u001b[0m\u001b[0m\n\u001b[1;32m     56\u001b[0m             \u001b[0mt\u001b[0m \u001b[0;34m=\u001b[0m \u001b[0mtime\u001b[0m\u001b[0;34m.\u001b[0m\u001b[0mtime\u001b[0m\u001b[0;34m(\u001b[0m\u001b[0;34m)\u001b[0m\u001b[0;34m\u001b[0m\u001b[0;34m\u001b[0m\u001b[0m\n\u001b[0;32m---> 57\u001b[0;31m             \u001b[0mmae_loss\u001b[0m \u001b[0;34m=\u001b[0m \u001b[0mself\u001b[0m\u001b[0;34m.\u001b[0m\u001b[0mvalidation\u001b[0m\u001b[0;34m(\u001b[0m\u001b[0mvalidation_loader\u001b[0m\u001b[0;34m)\u001b[0m\u001b[0;34m\u001b[0m\u001b[0;34m\u001b[0m\u001b[0m\n\u001b[0m\u001b[1;32m     58\u001b[0m \u001b[0;34m\u001b[0m\u001b[0m\n\u001b[1;32m     59\u001b[0m             \u001b[0;31m#self.log(f'[RESULT]: Val. Epoch: {self.epoch}, summary_loss: {summary_loss.avg:.5f}, time: {(time.time() - t):.5f}')\u001b[0m\u001b[0;34m\u001b[0m\u001b[0;34m\u001b[0m\u001b[0;34m\u001b[0m\u001b[0m\n",
      "\u001b[0;32m<ipython-input-34-b7a4e63abc32>\u001b[0m in \u001b[0;36mvalidation\u001b[0;34m(self, val_loader)\u001b[0m\n\u001b[1;32m     76\u001b[0m         \u001b[0mmae_loss\u001b[0m \u001b[0;34m=\u001b[0m \u001b[0mAverageMeter\u001b[0m\u001b[0;34m(\u001b[0m\u001b[0;34m)\u001b[0m\u001b[0;34m\u001b[0m\u001b[0;34m\u001b[0m\u001b[0m\n\u001b[1;32m     77\u001b[0m         \u001b[0mt\u001b[0m \u001b[0;34m=\u001b[0m \u001b[0mtime\u001b[0m\u001b[0;34m.\u001b[0m\u001b[0mtime\u001b[0m\u001b[0;34m(\u001b[0m\u001b[0;34m)\u001b[0m\u001b[0;34m\u001b[0m\u001b[0;34m\u001b[0m\u001b[0m\n\u001b[0;32m---> 78\u001b[0;31m         \u001b[0;32mfor\u001b[0m \u001b[0mstep\u001b[0m\u001b[0;34m,\u001b[0m \u001b[0;34m(\u001b[0m\u001b[0mimages\u001b[0m\u001b[0;34m,\u001b[0m \u001b[0mdensity_maps\u001b[0m\u001b[0;34m,\u001b[0m \u001b[0mfns\u001b[0m\u001b[0;34m,\u001b[0m \u001b[0mgt_pts\u001b[0m\u001b[0;34m)\u001b[0m \u001b[0;32min\u001b[0m \u001b[0menumerate\u001b[0m\u001b[0;34m(\u001b[0m\u001b[0mval_loader\u001b[0m\u001b[0;34m)\u001b[0m\u001b[0;34m:\u001b[0m\u001b[0;34m\u001b[0m\u001b[0;34m\u001b[0m\u001b[0m\n\u001b[0m\u001b[1;32m     79\u001b[0m             \u001b[0;32mif\u001b[0m \u001b[0mself\u001b[0m\u001b[0;34m.\u001b[0m\u001b[0mconfig\u001b[0m\u001b[0;34m.\u001b[0m\u001b[0mverbose\u001b[0m\u001b[0;34m:\u001b[0m\u001b[0;34m\u001b[0m\u001b[0;34m\u001b[0m\u001b[0m\n\u001b[1;32m     80\u001b[0m                 \u001b[0;32mif\u001b[0m \u001b[0mstep\u001b[0m \u001b[0;34m%\u001b[0m \u001b[0mself\u001b[0m\u001b[0;34m.\u001b[0m\u001b[0mconfig\u001b[0m\u001b[0;34m.\u001b[0m\u001b[0mverbose_step\u001b[0m \u001b[0;34m==\u001b[0m \u001b[0;36m0\u001b[0m\u001b[0;34m:\u001b[0m\u001b[0;34m\u001b[0m\u001b[0;34m\u001b[0m\u001b[0m\n",
      "\u001b[0;31mKeyboardInterrupt\u001b[0m: "
     ]
    }
   ],
   "source": [
    "run_training()"
   ]
  },
  {
   "cell_type": "code",
   "execution_count": null,
   "metadata": {},
   "outputs": [],
   "source": []
  },
  {
   "cell_type": "code",
   "execution_count": null,
   "metadata": {},
   "outputs": [],
   "source": []
  },
  {
   "cell_type": "code",
   "execution_count": 61,
   "metadata": {},
   "outputs": [
    {
     "data": {
      "text/plain": [
       "torch.Size([1, 1, 191, 340])"
      ]
     },
     "execution_count": 61,
     "metadata": {},
     "output_type": "execute_result"
    }
   ],
   "source": [
    "dmaps.shape"
   ]
  },
  {
   "cell_type": "code",
   "execution_count": 62,
   "metadata": {},
   "outputs": [],
   "source": [
    "model.eval()\n",
    "preds = model(imgs)"
   ]
  },
  {
   "cell_type": "code",
   "execution_count": 65,
   "metadata": {},
   "outputs": [
    {
     "data": {
      "text/plain": [
       "(torch.Size([1, 1, 190, 340]), torch.Size([1, 1, 191, 340]))"
      ]
     },
     "execution_count": 65,
     "metadata": {},
     "output_type": "execute_result"
    }
   ],
   "source": [
    "preds[0].shape, dmaps.shape"
   ]
  },
  {
   "cell_type": "code",
   "execution_count": 68,
   "metadata": {},
   "outputs": [
    {
     "data": {
      "text/plain": [
       "torch.Size([1, 1, 191, 340])"
      ]
     },
     "execution_count": 68,
     "metadata": {},
     "output_type": "execute_result"
    }
   ],
   "source": [
    "t = F.pad(preds[0],(0,0,0,1))\n",
    "t.shape"
   ]
  },
  {
   "cell_type": "code",
   "execution_count": 22,
   "metadata": {},
   "outputs": [
    {
     "data": {
      "text/plain": [
       "190"
      ]
     },
     "execution_count": 29,
     "metadata": {},
     "output_type": "execute_result"
    }
   ],
   "source": [
    "1520//8"
   ]
  },
  {
   "cell_type": "code",
   "execution_count": 168,
   "metadata": {},
   "outputs": [
    {
     "data": {
      "text/plain": [
       "torch.Size([4, 1, 64, 64])"
      ]
     },
     "execution_count": 168,
     "metadata": {},
     "output_type": "execute_result"
    }
   ],
   "source": [
    "preds[1].shape"
   ]
  },
  {
   "cell_type": "code",
   "execution_count": 176,
   "metadata": {},
   "outputs": [
    {
     "data": {
      "text/plain": [
       "(array([], shape=(0, 2), dtype=int64),\n",
       " array([], shape=(0, 2), dtype=int64),\n",
       " array([[322, 356],\n",
       "        [329, 371],\n",
       "        [326, 392],\n",
       "        [364, 122],\n",
       "        [349, 127]]),\n",
       " array([], shape=(0, 2), dtype=int64))"
      ]
     },
     "execution_count": 176,
     "metadata": {},
     "output_type": "execute_result"
    }
   ],
   "source": [
    "gt_points"
   ]
  },
  {
   "cell_type": "code",
   "execution_count": 172,
   "metadata": {},
   "outputs": [
    {
     "data": {
      "text/plain": [
       "(tensor([[199.4927],\n",
       "         [236.8549],\n",
       "         [152.5724],\n",
       "         [186.2455]], grad_fn=<SumBackward1>),\n",
       " tensor([[0.],\n",
       "         [0.],\n",
       "         [5.],\n",
       "         [0.]]))"
      ]
     },
     "execution_count": 172,
     "metadata": {},
     "output_type": "execute_result"
    }
   ],
   "source": [
    "preds[0].sum(dim=[2,3]), dmaps.sum(dim=[2,3])"
   ]
  },
  {
   "cell_type": "code",
   "execution_count": 174,
   "metadata": {},
   "outputs": [
    {
     "data": {
      "text/plain": [
       "(tensor([[1.0000],\n",
       "         [1.0000],\n",
       "         [1.0000],\n",
       "         [1.0000]], grad_fn=<SumBackward1>),\n",
       " tensor([[0.],\n",
       "         [0.],\n",
       "         [5.],\n",
       "         [0.]]))"
      ]
     },
     "execution_count": 174,
     "metadata": {},
     "output_type": "execute_result"
    }
   ],
   "source": [
    "preds[1].sum(dim=[2,3]), dmaps.sum(dim=[2,3])"
   ]
  },
  {
   "cell_type": "markdown",
   "metadata": {},
   "source": [
    "# Pack Loss"
   ]
  },
  {
   "cell_type": "code",
   "execution_count": null,
   "metadata": {},
   "outputs": [],
   "source": []
  },
  {
   "cell_type": "code",
   "execution_count": 177,
   "metadata": {},
   "outputs": [],
   "source": [
    "from loss.ot_loss import OT_Loss"
   ]
  },
  {
   "cell_type": "code",
   "execution_count": 179,
   "metadata": {},
   "outputs": [],
   "source": [
    "ot_loss = OT_Loss(512,8,0,'cpu')"
   ]
  },
  {
   "cell_type": "code",
   "execution_count": 181,
   "metadata": {},
   "outputs": [],
   "source": [
    "tv_loss = nn.L1Loss(reduction='none')"
   ]
  },
  {
   "cell_type": "code",
   "execution_count": 202,
   "metadata": {},
   "outputs": [],
   "source": [
    "outputs, outputs_normed = preds"
   ]
  },
  {
   "cell_type": "code",
   "execution_count": 203,
   "metadata": {},
   "outputs": [],
   "source": [
    "ot_loss, wd, ot_obj_value = ot_loss(outputs_normed,outputs,gt_points)"
   ]
  },
  {
   "cell_type": "code",
   "execution_count": 239,
   "metadata": {},
   "outputs": [
    {
     "data": {
      "text/plain": [
       "tensor([14., 20., 30.,  1.])"
      ]
     },
     "execution_count": 239,
     "metadata": {},
     "output_type": "execute_result"
    }
   ],
   "source": [
    "gd_count = torch.tensor([len(p) for p in gt_points]).float()\n",
    "gd_count"
   ]
  },
  {
   "cell_type": "code",
   "execution_count": null,
   "metadata": {},
   "outputs": [],
   "source": [
    "ot_loss *= 0.1\n",
    "ot_obj_value *= 0.1"
   ]
  },
  {
   "cell_type": "code",
   "execution_count": 224,
   "metadata": {},
   "outputs": [],
   "source": [
    "count_loss = nn.L1Loss()(outputs.squeeze().sum([-1,-2]),gd_count)"
   ]
  },
  {
   "cell_type": "code",
   "execution_count": 234,
   "metadata": {},
   "outputs": [],
   "source": [
    "gt_discrete_normed = dmap / (gd_count[...,None,None,None] + 1e-6)"
   ]
  },
  {
   "cell_type": "code",
   "execution_count": 244,
   "metadata": {},
   "outputs": [
    {
     "data": {
      "text/plain": [
       "tensor(0.3014, grad_fn=<MulBackward0>)"
      ]
     },
     "execution_count": 244,
     "metadata": {},
     "output_type": "execute_result"
    }
   ],
   "source": [
    "(tv_loss(outputs_normed,gt_discrete_normed).sum([-1,-2,-3]) * gd_count).mean(0) * 0.01"
   ]
  },
  {
   "cell_type": "code",
   "execution_count": 247,
   "metadata": {},
   "outputs": [],
   "source": [
    "def get_loss(crop_size,downsample,norm_cood=0,device='cuda'):\n",
    "    ot_loss = OT_Loss(crop_size,downsample,norm_cood,device)\n",
    "    tv_loss = nn.L1Loss(reduction='mone').to(device)\n",
    "    return ot_loss, tv_loss"
   ]
  },
  {
   "cell_type": "code",
   "execution_count": 246,
   "metadata": {},
   "outputs": [],
   "source": []
  },
  {
   "cell_type": "code",
   "execution_count": null,
   "metadata": {},
   "outputs": [],
   "source": [
    "gd_count = torch.tensor([len(p) for p in gt_points]).float()\n",
    "gd_count"
   ]
  },
  {
   "cell_type": "code",
   "execution_count": null,
   "metadata": {},
   "outputs": [],
   "source": [
    "ot_loss *= 0.1\n",
    "ot_obj_value *= 0.1"
   ]
  },
  {
   "cell_type": "code",
   "execution_count": null,
   "metadata": {},
   "outputs": [],
   "source": [
    "count_loss = nn.L1Loss()(outputs.squeeze().sum([-1,-2]),gd_count)"
   ]
  },
  {
   "cell_type": "code",
   "execution_count": null,
   "metadata": {},
   "outputs": [],
   "source": [
    "gt_discrete_normed = dmap / (gd_count[...,None,None,None] + 1e-6)"
   ]
  },
  {
   "cell_type": "code",
   "execution_count": null,
   "metadata": {},
   "outputs": [],
   "source": [
    "(tv_loss(outputs_normed,gt_discrete_normed).sum([-1,-2,-3]) * gd_count).mean(0) * 0.01"
   ]
  },
  {
   "cell_type": "code",
   "execution_count": null,
   "metadata": {},
   "outputs": [],
   "source": [
    "def get_loss(crop_size,downsample,norm_cood=0,device='cuda'):\n",
    "    ot_loss = OT_Loss(crop_size,downsample,norm_cood,device)\n",
    "    tv_loss = nn.L1Loss(reduction='none').to(device)\n",
    "    return ot_loss, tv_loss"
   ]
  },
  {
   "cell_type": "code",
   "execution_count": null,
   "metadata": {},
   "outputs": [],
   "source": []
  },
  {
   "cell_type": "code",
   "execution_count": null,
   "metadata": {},
   "outputs": [],
   "source": []
  }
 ],
 "metadata": {
  "kernelspec": {
   "display_name": "Python 3",
   "language": "python",
   "name": "python3"
  },
  "language_info": {
   "codemirror_mode": {
    "name": "ipython",
    "version": 3
   },
   "file_extension": ".py",
   "mimetype": "text/x-python",
   "name": "python",
   "nbconvert_exporter": "python",
   "pygments_lexer": "ipython3",
   "version": "3.7.8"
  }
 },
 "nbformat": 4,
 "nbformat_minor": 4
}
